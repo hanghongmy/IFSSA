{
  "nbformat": 4,
  "nbformat_minor": 0,
  "metadata": {
    "colab": {
      "provenance": []
    },
    "kernelspec": {
      "name": "python3",
      "display_name": "Python 3"
    },
    "language_info": {
      "name": "python"
    }
  },
  "cells": [
    {
      "cell_type": "markdown",
      "metadata": {
        "id": "htu6WfjYjIhc"
      },
      "source": [
        "## Food Distribution at Islamic Family Project"
      ]
    },
    {
      "cell_type": "markdown",
      "metadata": {
        "id": "mZi5oLP2hM4m"
      },
      "source": [
        "Islamic Family distributes food hampers to the people in need, but it is hard for them to\n",
        "know that which clients will come back to them. As they don’t know who will come back\n",
        "that’s why they can’t plan resources properly and it leads to the food wastage and missed\n",
        "chances to help those at risk of not returning."
      ]
    },
    {
      "cell_type": "markdown",
      "metadata": {
        "id": "TfzNHDi4hlEc"
      },
      "source": [
        "This problem is worth solving as it identifies\n",
        "\n",
        "1.) Clients who will not return so that they can be supported.\n",
        "\n",
        "2.) It ensures there is less wastage of food and better distribution.\n",
        "\n",
        "3.) It keeps record that food hampers are available to those people who need it.\n",
        "\n",
        "4.)\n",
        "It helps the organization to plan things and services in proper way.\n",
        "\n",
        "The business values hypothesis is that data-driven predictions will enable better planning,\n",
        "reduced operational costs, and improved service accessibility. The beneficiaries include\n",
        "Islamic Family staff, volunteers, and community partners who work to improve food\n",
        "security and long-term support for clients."
      ]
    },
    {
      "cell_type": "markdown",
      "metadata": {
        "id": "5riap-D-iNYl"
      },
      "source": [
        "**The model addresses unpredictable client return rates, improving efficiency and accessibility.**"
      ]
    },
    {
      "cell_type": "markdown",
      "metadata": {
        "id": "GWjb6TR2iX5i"
      },
      "source": [
        "This project builds a classification model to predict\n",
        "Client retention -\n",
        "\n",
        "1.   Client Interactions – Appointment contact, scheduling, pickup history.\n",
        "2.   Food Hamper Details – Type, confirmation status, quantity\n",
        "3.   Engagement Data – Event participation, outreach response  \n",
        "4.   Historical Trends – Frequency of past visits.\n",
        "\n",
        "Potential ML Models: The model’s accuracy could be calculated by comparing actual vs predicted client returns\n",
        "\n",
        "F1-score ensures high recall and precision, preventing missed outreach\n",
        "opportunities due to imbalanced data.\n"
      ]
    },
    {
      "cell_type": "markdown",
      "source": [
        "# Exploratory Data Analysis"
      ],
      "metadata": {
        "id": "yuhzng9i2RR0"
      }
    },
    {
      "cell_type": "markdown",
      "source": [
        "Importing necessary libraries"
      ],
      "metadata": {
        "id": "dT2XhWji2sk1"
      }
    },
    {
      "cell_type": "code",
      "execution_count": null,
      "metadata": {
        "id": "7cLr4dVEyiOb"
      },
      "outputs": [],
      "source": [
        "import pandas as pd\n",
        "import matplotlib.pyplot as plt\n",
        "import seaborn as sns\n",
        "import numpy as np"
      ]
    },
    {
      "cell_type": "code",
      "source": [
        "# Reading the csv files\n",
        "client_data = pd.read_csv('Clients Data Dimension(Clients_IFSSA).csv')\n",
        "foodhamper_data = pd.read_csv('Food Hampers Fact(FoodHampers_IFSSA).csv')"
      ],
      "metadata": {
        "colab": {
          "base_uri": "https://localhost:8080/"
        },
        "id": "JSbwKY9O0VTu",
        "outputId": "5b552153-7b7c-4e0b-8730-25906acb9e80"
      },
      "execution_count": null,
      "outputs": [
        {
          "output_type": "stream",
          "name": "stderr",
          "text": [
            "<ipython-input-2-f76ad6f33d73>:2: DtypeWarning: Columns (7,13) have mixed types. Specify dtype option on import or set low_memory=False.\n",
            "  client_data = pd.read_csv('Clients Data Dimension(Clients_IFSSA).csv')\n",
            "<ipython-input-2-f76ad6f33d73>:3: DtypeWarning: Columns (11,30) have mixed types. Specify dtype option on import or set low_memory=False.\n",
            "  foodhamper_data = pd.read_csv('Food Hampers Fact(FoodHampers_IFSSA).csv')\n"
          ]
        }
      ]
    },
    {
      "cell_type": "code",
      "source": [
        "client_data.head()"
      ],
      "metadata": {
        "colab": {
          "base_uri": "https://localhost:8080/",
          "height": 516
        },
        "id": "1RXIVNPj042W",
        "outputId": "73d34ec6-f765-42b9-9870-c964abc47fbc"
      },
      "execution_count": null,
      "outputs": [
        {
          "output_type": "execute_result",
          "data": {
            "text/plain": [
              "                                           address address_complement  \\\n",
              "0                                              NaN                NaN   \n",
              "1                                              NaN                NaN   \n",
              "2  11834 Kingsway NW, Edmonton, AB T5G 3J5, Canada                NaN   \n",
              "3     17916 78 St NW, Edmonton, AB T5Z 0G5, Canada                NaN   \n",
              "4                                              NaN                NaN   \n",
              "\n",
              "                                      address_text  age  bio birthdates  \\\n",
              "0                                              NaN  NaN  NaN        NaN   \n",
              "1                                              NaN  NaN  NaN        NaN   \n",
              "2  11834 Kingsway NW, Edmonton, AB T5G 3J5, Canada  NaN  NaN        NaN   \n",
              "3     17916 78 St NW, Edmonton, AB T5Z 0G5, Canada  NaN  NaN        NaN   \n",
              "4                                              NaN  NaN  NaN        NaN   \n",
              "\n",
              "  client_status_more_info communication_barrier contact_frequency  \\\n",
              "0                     NaN                   NaN               NaN   \n",
              "1                     NaN                   NaN               NaN   \n",
              "2                     NaN                   NaN               NaN   \n",
              "3                     NaN                   NaN               NaN   \n",
              "4                     NaN                   NaN               NaN   \n",
              "\n",
              "      date_reopened  ...  status                     status_update  \\\n",
              "0               NaN  ...  Active                               NaN   \n",
              "1               NaN  ...  Active                               NaN   \n",
              "2               NaN  ...  Active                               NaN   \n",
              "3               NaN  ...  Active                               NaN   \n",
              "4  2023-10-04 17:20  ...  Active  1696450812192x367068913511604100   \n",
              "\n",
              "   urgent_goal                            worker zz_address_txt  \\\n",
              "0           no  1659409273747x473742471276596300            NaN   \n",
              "1           no                               NaN            NaN   \n",
              "2           no  1667329109038x317932150591159600            NaN   \n",
              "3           no                               NaN            NaN   \n",
              "4           no                               NaN            NaN   \n",
              "\n",
              "      Creation Date     Modified Date     Slug  \\\n",
              "0  2022-09-23 19:07  2024-08-22 11:56  pod-001   \n",
              "1  2022-09-23 19:09  2024-08-22 11:50        2   \n",
              "2  2022-11-01 15:27  2024-08-22 12:36  pod-023   \n",
              "3  2022-11-07 12:12  2024-08-22 11:58  pod-024   \n",
              "4  2022-11-07 12:17  2024-08-22 12:04  pod-025   \n",
              "\n",
              "                            Creator                         unique id  \n",
              "0  1658438468381x917903915060866600  1663970867191x215057012520910850  \n",
              "1  1658438468381x917903915060866600  1663970977536x320239406776320000  \n",
              "2  1658438468381x917903915060866600  1667327243288x887165737992192000  \n",
              "3  1667329109038x317932150591159600  1667833948363x769349711194751000  \n",
              "4  1667329109038x317932150591159600  1667834247644x935054501347328000  \n",
              "\n",
              "[5 rows x 44 columns]"
            ],
            "text/html": [
              "\n",
              "  <div id=\"df-613d520c-90c4-43da-a725-5d9efb96fe69\" class=\"colab-df-container\">\n",
              "    <div>\n",
              "<style scoped>\n",
              "    .dataframe tbody tr th:only-of-type {\n",
              "        vertical-align: middle;\n",
              "    }\n",
              "\n",
              "    .dataframe tbody tr th {\n",
              "        vertical-align: top;\n",
              "    }\n",
              "\n",
              "    .dataframe thead th {\n",
              "        text-align: right;\n",
              "    }\n",
              "</style>\n",
              "<table border=\"1\" class=\"dataframe\">\n",
              "  <thead>\n",
              "    <tr style=\"text-align: right;\">\n",
              "      <th></th>\n",
              "      <th>address</th>\n",
              "      <th>address_complement</th>\n",
              "      <th>address_text</th>\n",
              "      <th>age</th>\n",
              "      <th>bio</th>\n",
              "      <th>birthdates</th>\n",
              "      <th>client_status_more_info</th>\n",
              "      <th>communication_barrier</th>\n",
              "      <th>contact_frequency</th>\n",
              "      <th>date_reopened</th>\n",
              "      <th>...</th>\n",
              "      <th>status</th>\n",
              "      <th>status_update</th>\n",
              "      <th>urgent_goal</th>\n",
              "      <th>worker</th>\n",
              "      <th>zz_address_txt</th>\n",
              "      <th>Creation Date</th>\n",
              "      <th>Modified Date</th>\n",
              "      <th>Slug</th>\n",
              "      <th>Creator</th>\n",
              "      <th>unique id</th>\n",
              "    </tr>\n",
              "  </thead>\n",
              "  <tbody>\n",
              "    <tr>\n",
              "      <th>0</th>\n",
              "      <td>NaN</td>\n",
              "      <td>NaN</td>\n",
              "      <td>NaN</td>\n",
              "      <td>NaN</td>\n",
              "      <td>NaN</td>\n",
              "      <td>NaN</td>\n",
              "      <td>NaN</td>\n",
              "      <td>NaN</td>\n",
              "      <td>NaN</td>\n",
              "      <td>NaN</td>\n",
              "      <td>...</td>\n",
              "      <td>Active</td>\n",
              "      <td>NaN</td>\n",
              "      <td>no</td>\n",
              "      <td>1659409273747x473742471276596300</td>\n",
              "      <td>NaN</td>\n",
              "      <td>2022-09-23 19:07</td>\n",
              "      <td>2024-08-22 11:56</td>\n",
              "      <td>pod-001</td>\n",
              "      <td>1658438468381x917903915060866600</td>\n",
              "      <td>1663970867191x215057012520910850</td>\n",
              "    </tr>\n",
              "    <tr>\n",
              "      <th>1</th>\n",
              "      <td>NaN</td>\n",
              "      <td>NaN</td>\n",
              "      <td>NaN</td>\n",
              "      <td>NaN</td>\n",
              "      <td>NaN</td>\n",
              "      <td>NaN</td>\n",
              "      <td>NaN</td>\n",
              "      <td>NaN</td>\n",
              "      <td>NaN</td>\n",
              "      <td>NaN</td>\n",
              "      <td>...</td>\n",
              "      <td>Active</td>\n",
              "      <td>NaN</td>\n",
              "      <td>no</td>\n",
              "      <td>NaN</td>\n",
              "      <td>NaN</td>\n",
              "      <td>2022-09-23 19:09</td>\n",
              "      <td>2024-08-22 11:50</td>\n",
              "      <td>2</td>\n",
              "      <td>1658438468381x917903915060866600</td>\n",
              "      <td>1663970977536x320239406776320000</td>\n",
              "    </tr>\n",
              "    <tr>\n",
              "      <th>2</th>\n",
              "      <td>11834 Kingsway NW, Edmonton, AB T5G 3J5, Canada</td>\n",
              "      <td>NaN</td>\n",
              "      <td>11834 Kingsway NW, Edmonton, AB T5G 3J5, Canada</td>\n",
              "      <td>NaN</td>\n",
              "      <td>NaN</td>\n",
              "      <td>NaN</td>\n",
              "      <td>NaN</td>\n",
              "      <td>NaN</td>\n",
              "      <td>NaN</td>\n",
              "      <td>NaN</td>\n",
              "      <td>...</td>\n",
              "      <td>Active</td>\n",
              "      <td>NaN</td>\n",
              "      <td>no</td>\n",
              "      <td>1667329109038x317932150591159600</td>\n",
              "      <td>NaN</td>\n",
              "      <td>2022-11-01 15:27</td>\n",
              "      <td>2024-08-22 12:36</td>\n",
              "      <td>pod-023</td>\n",
              "      <td>1658438468381x917903915060866600</td>\n",
              "      <td>1667327243288x887165737992192000</td>\n",
              "    </tr>\n",
              "    <tr>\n",
              "      <th>3</th>\n",
              "      <td>17916 78 St NW, Edmonton, AB T5Z 0G5, Canada</td>\n",
              "      <td>NaN</td>\n",
              "      <td>17916 78 St NW, Edmonton, AB T5Z 0G5, Canada</td>\n",
              "      <td>NaN</td>\n",
              "      <td>NaN</td>\n",
              "      <td>NaN</td>\n",
              "      <td>NaN</td>\n",
              "      <td>NaN</td>\n",
              "      <td>NaN</td>\n",
              "      <td>NaN</td>\n",
              "      <td>...</td>\n",
              "      <td>Active</td>\n",
              "      <td>NaN</td>\n",
              "      <td>no</td>\n",
              "      <td>NaN</td>\n",
              "      <td>NaN</td>\n",
              "      <td>2022-11-07 12:12</td>\n",
              "      <td>2024-08-22 11:58</td>\n",
              "      <td>pod-024</td>\n",
              "      <td>1667329109038x317932150591159600</td>\n",
              "      <td>1667833948363x769349711194751000</td>\n",
              "    </tr>\n",
              "    <tr>\n",
              "      <th>4</th>\n",
              "      <td>NaN</td>\n",
              "      <td>NaN</td>\n",
              "      <td>NaN</td>\n",
              "      <td>NaN</td>\n",
              "      <td>NaN</td>\n",
              "      <td>NaN</td>\n",
              "      <td>NaN</td>\n",
              "      <td>NaN</td>\n",
              "      <td>NaN</td>\n",
              "      <td>2023-10-04 17:20</td>\n",
              "      <td>...</td>\n",
              "      <td>Active</td>\n",
              "      <td>1696450812192x367068913511604100</td>\n",
              "      <td>no</td>\n",
              "      <td>NaN</td>\n",
              "      <td>NaN</td>\n",
              "      <td>2022-11-07 12:17</td>\n",
              "      <td>2024-08-22 12:04</td>\n",
              "      <td>pod-025</td>\n",
              "      <td>1667329109038x317932150591159600</td>\n",
              "      <td>1667834247644x935054501347328000</td>\n",
              "    </tr>\n",
              "  </tbody>\n",
              "</table>\n",
              "<p>5 rows × 44 columns</p>\n",
              "</div>\n",
              "    <div class=\"colab-df-buttons\">\n",
              "\n",
              "  <div class=\"colab-df-container\">\n",
              "    <button class=\"colab-df-convert\" onclick=\"convertToInteractive('df-613d520c-90c4-43da-a725-5d9efb96fe69')\"\n",
              "            title=\"Convert this dataframe to an interactive table.\"\n",
              "            style=\"display:none;\">\n",
              "\n",
              "  <svg xmlns=\"http://www.w3.org/2000/svg\" height=\"24px\" viewBox=\"0 -960 960 960\">\n",
              "    <path d=\"M120-120v-720h720v720H120Zm60-500h600v-160H180v160Zm220 220h160v-160H400v160Zm0 220h160v-160H400v160ZM180-400h160v-160H180v160Zm440 0h160v-160H620v160ZM180-180h160v-160H180v160Zm440 0h160v-160H620v160Z\"/>\n",
              "  </svg>\n",
              "    </button>\n",
              "\n",
              "  <style>\n",
              "    .colab-df-container {\n",
              "      display:flex;\n",
              "      gap: 12px;\n",
              "    }\n",
              "\n",
              "    .colab-df-convert {\n",
              "      background-color: #E8F0FE;\n",
              "      border: none;\n",
              "      border-radius: 50%;\n",
              "      cursor: pointer;\n",
              "      display: none;\n",
              "      fill: #1967D2;\n",
              "      height: 32px;\n",
              "      padding: 0 0 0 0;\n",
              "      width: 32px;\n",
              "    }\n",
              "\n",
              "    .colab-df-convert:hover {\n",
              "      background-color: #E2EBFA;\n",
              "      box-shadow: 0px 1px 2px rgba(60, 64, 67, 0.3), 0px 1px 3px 1px rgba(60, 64, 67, 0.15);\n",
              "      fill: #174EA6;\n",
              "    }\n",
              "\n",
              "    .colab-df-buttons div {\n",
              "      margin-bottom: 4px;\n",
              "    }\n",
              "\n",
              "    [theme=dark] .colab-df-convert {\n",
              "      background-color: #3B4455;\n",
              "      fill: #D2E3FC;\n",
              "    }\n",
              "\n",
              "    [theme=dark] .colab-df-convert:hover {\n",
              "      background-color: #434B5C;\n",
              "      box-shadow: 0px 1px 3px 1px rgba(0, 0, 0, 0.15);\n",
              "      filter: drop-shadow(0px 1px 2px rgba(0, 0, 0, 0.3));\n",
              "      fill: #FFFFFF;\n",
              "    }\n",
              "  </style>\n",
              "\n",
              "    <script>\n",
              "      const buttonEl =\n",
              "        document.querySelector('#df-613d520c-90c4-43da-a725-5d9efb96fe69 button.colab-df-convert');\n",
              "      buttonEl.style.display =\n",
              "        google.colab.kernel.accessAllowed ? 'block' : 'none';\n",
              "\n",
              "      async function convertToInteractive(key) {\n",
              "        const element = document.querySelector('#df-613d520c-90c4-43da-a725-5d9efb96fe69');\n",
              "        const dataTable =\n",
              "          await google.colab.kernel.invokeFunction('convertToInteractive',\n",
              "                                                    [key], {});\n",
              "        if (!dataTable) return;\n",
              "\n",
              "        const docLinkHtml = 'Like what you see? Visit the ' +\n",
              "          '<a target=\"_blank\" href=https://colab.research.google.com/notebooks/data_table.ipynb>data table notebook</a>'\n",
              "          + ' to learn more about interactive tables.';\n",
              "        element.innerHTML = '';\n",
              "        dataTable['output_type'] = 'display_data';\n",
              "        await google.colab.output.renderOutput(dataTable, element);\n",
              "        const docLink = document.createElement('div');\n",
              "        docLink.innerHTML = docLinkHtml;\n",
              "        element.appendChild(docLink);\n",
              "      }\n",
              "    </script>\n",
              "  </div>\n",
              "\n",
              "\n",
              "<div id=\"df-96a7007c-8a6f-4c20-835e-c215c9f5b656\">\n",
              "  <button class=\"colab-df-quickchart\" onclick=\"quickchart('df-96a7007c-8a6f-4c20-835e-c215c9f5b656')\"\n",
              "            title=\"Suggest charts\"\n",
              "            style=\"display:none;\">\n",
              "\n",
              "<svg xmlns=\"http://www.w3.org/2000/svg\" height=\"24px\"viewBox=\"0 0 24 24\"\n",
              "     width=\"24px\">\n",
              "    <g>\n",
              "        <path d=\"M19 3H5c-1.1 0-2 .9-2 2v14c0 1.1.9 2 2 2h14c1.1 0 2-.9 2-2V5c0-1.1-.9-2-2-2zM9 17H7v-7h2v7zm4 0h-2V7h2v10zm4 0h-2v-4h2v4z\"/>\n",
              "    </g>\n",
              "</svg>\n",
              "  </button>\n",
              "\n",
              "<style>\n",
              "  .colab-df-quickchart {\n",
              "      --bg-color: #E8F0FE;\n",
              "      --fill-color: #1967D2;\n",
              "      --hover-bg-color: #E2EBFA;\n",
              "      --hover-fill-color: #174EA6;\n",
              "      --disabled-fill-color: #AAA;\n",
              "      --disabled-bg-color: #DDD;\n",
              "  }\n",
              "\n",
              "  [theme=dark] .colab-df-quickchart {\n",
              "      --bg-color: #3B4455;\n",
              "      --fill-color: #D2E3FC;\n",
              "      --hover-bg-color: #434B5C;\n",
              "      --hover-fill-color: #FFFFFF;\n",
              "      --disabled-bg-color: #3B4455;\n",
              "      --disabled-fill-color: #666;\n",
              "  }\n",
              "\n",
              "  .colab-df-quickchart {\n",
              "    background-color: var(--bg-color);\n",
              "    border: none;\n",
              "    border-radius: 50%;\n",
              "    cursor: pointer;\n",
              "    display: none;\n",
              "    fill: var(--fill-color);\n",
              "    height: 32px;\n",
              "    padding: 0;\n",
              "    width: 32px;\n",
              "  }\n",
              "\n",
              "  .colab-df-quickchart:hover {\n",
              "    background-color: var(--hover-bg-color);\n",
              "    box-shadow: 0 1px 2px rgba(60, 64, 67, 0.3), 0 1px 3px 1px rgba(60, 64, 67, 0.15);\n",
              "    fill: var(--button-hover-fill-color);\n",
              "  }\n",
              "\n",
              "  .colab-df-quickchart-complete:disabled,\n",
              "  .colab-df-quickchart-complete:disabled:hover {\n",
              "    background-color: var(--disabled-bg-color);\n",
              "    fill: var(--disabled-fill-color);\n",
              "    box-shadow: none;\n",
              "  }\n",
              "\n",
              "  .colab-df-spinner {\n",
              "    border: 2px solid var(--fill-color);\n",
              "    border-color: transparent;\n",
              "    border-bottom-color: var(--fill-color);\n",
              "    animation:\n",
              "      spin 1s steps(1) infinite;\n",
              "  }\n",
              "\n",
              "  @keyframes spin {\n",
              "    0% {\n",
              "      border-color: transparent;\n",
              "      border-bottom-color: var(--fill-color);\n",
              "      border-left-color: var(--fill-color);\n",
              "    }\n",
              "    20% {\n",
              "      border-color: transparent;\n",
              "      border-left-color: var(--fill-color);\n",
              "      border-top-color: var(--fill-color);\n",
              "    }\n",
              "    30% {\n",
              "      border-color: transparent;\n",
              "      border-left-color: var(--fill-color);\n",
              "      border-top-color: var(--fill-color);\n",
              "      border-right-color: var(--fill-color);\n",
              "    }\n",
              "    40% {\n",
              "      border-color: transparent;\n",
              "      border-right-color: var(--fill-color);\n",
              "      border-top-color: var(--fill-color);\n",
              "    }\n",
              "    60% {\n",
              "      border-color: transparent;\n",
              "      border-right-color: var(--fill-color);\n",
              "    }\n",
              "    80% {\n",
              "      border-color: transparent;\n",
              "      border-right-color: var(--fill-color);\n",
              "      border-bottom-color: var(--fill-color);\n",
              "    }\n",
              "    90% {\n",
              "      border-color: transparent;\n",
              "      border-bottom-color: var(--fill-color);\n",
              "    }\n",
              "  }\n",
              "</style>\n",
              "\n",
              "  <script>\n",
              "    async function quickchart(key) {\n",
              "      const quickchartButtonEl =\n",
              "        document.querySelector('#' + key + ' button');\n",
              "      quickchartButtonEl.disabled = true;  // To prevent multiple clicks.\n",
              "      quickchartButtonEl.classList.add('colab-df-spinner');\n",
              "      try {\n",
              "        const charts = await google.colab.kernel.invokeFunction(\n",
              "            'suggestCharts', [key], {});\n",
              "      } catch (error) {\n",
              "        console.error('Error during call to suggestCharts:', error);\n",
              "      }\n",
              "      quickchartButtonEl.classList.remove('colab-df-spinner');\n",
              "      quickchartButtonEl.classList.add('colab-df-quickchart-complete');\n",
              "    }\n",
              "    (() => {\n",
              "      let quickchartButtonEl =\n",
              "        document.querySelector('#df-96a7007c-8a6f-4c20-835e-c215c9f5b656 button');\n",
              "      quickchartButtonEl.style.display =\n",
              "        google.colab.kernel.accessAllowed ? 'block' : 'none';\n",
              "    })();\n",
              "  </script>\n",
              "</div>\n",
              "\n",
              "    </div>\n",
              "  </div>\n"
            ],
            "application/vnd.google.colaboratory.intrinsic+json": {
              "type": "dataframe",
              "variable_name": "client_data"
            }
          },
          "metadata": {},
          "execution_count": 3
        }
      ]
    },
    {
      "cell_type": "code",
      "source": [
        "client_data.shape"
      ],
      "metadata": {
        "colab": {
          "base_uri": "https://localhost:8080/"
        },
        "id": "Y29kCCl4SwgT",
        "outputId": "910fecdb-12b8-4102-a684-c981bdb40105"
      },
      "execution_count": null,
      "outputs": [
        {
          "output_type": "execute_result",
          "data": {
            "text/plain": [
              "(25505, 44)"
            ]
          },
          "metadata": {},
          "execution_count": 4
        }
      ]
    },
    {
      "cell_type": "code",
      "source": [
        "foodhamper_data.head()"
      ],
      "metadata": {
        "colab": {
          "base_uri": "https://localhost:8080/",
          "height": 533
        },
        "id": "IrhKtIj-09zR",
        "outputId": "da19816d-5f03-40d6-8777-aea355cf45e3"
      },
      "execution_count": null,
      "outputs": [
        {
          "output_type": "execute_result",
          "data": {
            "text/plain": [
              "  agent_collect agent_collect_note                     agent_related  \\\n",
              "0           NaN                NaN  1689771309517x402134288376915900   \n",
              "1           NaN                NaN  1689771309517x402134288376915900   \n",
              "2           NaN                NaN  1689771309517x402134288376915900   \n",
              "3           NaN                NaN  1689771309517x402134288376915900   \n",
              "4           NaN                NaN  1689771309517x402134288376915900   \n",
              "\n",
              "   appointment_contact appointment_participants appointment_type cal_color  \\\n",
              "0                  NaN                      NaN      Food Hamper       NaN   \n",
              "1                  NaN                      NaN      Food Hamper       NaN   \n",
              "2                  NaN                      NaN      Food Hamper       NaN   \n",
              "3                  NaN                      NaN      Food Hamper       NaN   \n",
              "4                  NaN                      NaN      Food Hamper       NaN   \n",
              "\n",
              "  client_collected client_list collect_scheduled_date  ... staff_invited  \\\n",
              "0              NaN         NaN     Jul 27, 2023 00:00  ...           NaN   \n",
              "1              NaN         NaN     Aug 26, 2023 00:00  ...           NaN   \n",
              "2              NaN         NaN     Sep 25, 2023 00:00  ...           NaN   \n",
              "3              NaN         NaN     Oct 25, 2023 00:00  ...           NaN   \n",
              "4              NaN         NaN     Nov 24, 2023 00:00  ...           NaN   \n",
              "\n",
              "  timezone                     title unique_client where       Creation Date  \\\n",
              "0      NaN  New food hamper schedule           NaN   NaN  Jul 27, 2023 15:57   \n",
              "1      NaN  New food hamper schedule           NaN   NaN  Jul 27, 2023 15:57   \n",
              "2      NaN  New food hamper schedule           NaN   NaN  Jul 27, 2023 15:57   \n",
              "3      NaN  New food hamper schedule           NaN   NaN  Jul 27, 2023 15:57   \n",
              "4      NaN  New food hamper schedule           NaN   NaN  Jul 27, 2023 15:57   \n",
              "\n",
              "        Modified Date  Slug                           Creator  \\\n",
              "0  Jul 27, 2023 15:57   NaN  1689771309517x402134288376915900   \n",
              "1  Jul 27, 2023 15:57   NaN  1689771309517x402134288376915900   \n",
              "2  Jul 27, 2023 15:57   NaN  1689771309517x402134288376915900   \n",
              "3  Jul 27, 2023 15:57   NaN  1689771309517x402134288376915900   \n",
              "4  Jul 27, 2023 15:57   NaN  1689771309517x402134288376915900   \n",
              "\n",
              "                          unique id  \n",
              "0  1690484251501x480105574053396160  \n",
              "1  1690484266053x272870528999898500  \n",
              "2  1690484268062x404921931938873500  \n",
              "3  1690484269673x683706627103465300  \n",
              "4  1690484271378x480307445517271800  \n",
              "\n",
              "[5 rows x 39 columns]"
            ],
            "text/html": [
              "\n",
              "  <div id=\"df-b0840e02-af15-4d67-92b7-3e5eefbef52c\" class=\"colab-df-container\">\n",
              "    <div>\n",
              "<style scoped>\n",
              "    .dataframe tbody tr th:only-of-type {\n",
              "        vertical-align: middle;\n",
              "    }\n",
              "\n",
              "    .dataframe tbody tr th {\n",
              "        vertical-align: top;\n",
              "    }\n",
              "\n",
              "    .dataframe thead th {\n",
              "        text-align: right;\n",
              "    }\n",
              "</style>\n",
              "<table border=\"1\" class=\"dataframe\">\n",
              "  <thead>\n",
              "    <tr style=\"text-align: right;\">\n",
              "      <th></th>\n",
              "      <th>agent_collect</th>\n",
              "      <th>agent_collect_note</th>\n",
              "      <th>agent_related</th>\n",
              "      <th>appointment_contact</th>\n",
              "      <th>appointment_participants</th>\n",
              "      <th>appointment_type</th>\n",
              "      <th>cal_color</th>\n",
              "      <th>client_collected</th>\n",
              "      <th>client_list</th>\n",
              "      <th>collect_scheduled_date</th>\n",
              "      <th>...</th>\n",
              "      <th>staff_invited</th>\n",
              "      <th>timezone</th>\n",
              "      <th>title</th>\n",
              "      <th>unique_client</th>\n",
              "      <th>where</th>\n",
              "      <th>Creation Date</th>\n",
              "      <th>Modified Date</th>\n",
              "      <th>Slug</th>\n",
              "      <th>Creator</th>\n",
              "      <th>unique id</th>\n",
              "    </tr>\n",
              "  </thead>\n",
              "  <tbody>\n",
              "    <tr>\n",
              "      <th>0</th>\n",
              "      <td>NaN</td>\n",
              "      <td>NaN</td>\n",
              "      <td>1689771309517x402134288376915900</td>\n",
              "      <td>NaN</td>\n",
              "      <td>NaN</td>\n",
              "      <td>Food Hamper</td>\n",
              "      <td>NaN</td>\n",
              "      <td>NaN</td>\n",
              "      <td>NaN</td>\n",
              "      <td>Jul 27, 2023 00:00</td>\n",
              "      <td>...</td>\n",
              "      <td>NaN</td>\n",
              "      <td>NaN</td>\n",
              "      <td>New food hamper schedule</td>\n",
              "      <td>NaN</td>\n",
              "      <td>NaN</td>\n",
              "      <td>Jul 27, 2023 15:57</td>\n",
              "      <td>Jul 27, 2023 15:57</td>\n",
              "      <td>NaN</td>\n",
              "      <td>1689771309517x402134288376915900</td>\n",
              "      <td>1690484251501x480105574053396160</td>\n",
              "    </tr>\n",
              "    <tr>\n",
              "      <th>1</th>\n",
              "      <td>NaN</td>\n",
              "      <td>NaN</td>\n",
              "      <td>1689771309517x402134288376915900</td>\n",
              "      <td>NaN</td>\n",
              "      <td>NaN</td>\n",
              "      <td>Food Hamper</td>\n",
              "      <td>NaN</td>\n",
              "      <td>NaN</td>\n",
              "      <td>NaN</td>\n",
              "      <td>Aug 26, 2023 00:00</td>\n",
              "      <td>...</td>\n",
              "      <td>NaN</td>\n",
              "      <td>NaN</td>\n",
              "      <td>New food hamper schedule</td>\n",
              "      <td>NaN</td>\n",
              "      <td>NaN</td>\n",
              "      <td>Jul 27, 2023 15:57</td>\n",
              "      <td>Jul 27, 2023 15:57</td>\n",
              "      <td>NaN</td>\n",
              "      <td>1689771309517x402134288376915900</td>\n",
              "      <td>1690484266053x272870528999898500</td>\n",
              "    </tr>\n",
              "    <tr>\n",
              "      <th>2</th>\n",
              "      <td>NaN</td>\n",
              "      <td>NaN</td>\n",
              "      <td>1689771309517x402134288376915900</td>\n",
              "      <td>NaN</td>\n",
              "      <td>NaN</td>\n",
              "      <td>Food Hamper</td>\n",
              "      <td>NaN</td>\n",
              "      <td>NaN</td>\n",
              "      <td>NaN</td>\n",
              "      <td>Sep 25, 2023 00:00</td>\n",
              "      <td>...</td>\n",
              "      <td>NaN</td>\n",
              "      <td>NaN</td>\n",
              "      <td>New food hamper schedule</td>\n",
              "      <td>NaN</td>\n",
              "      <td>NaN</td>\n",
              "      <td>Jul 27, 2023 15:57</td>\n",
              "      <td>Jul 27, 2023 15:57</td>\n",
              "      <td>NaN</td>\n",
              "      <td>1689771309517x402134288376915900</td>\n",
              "      <td>1690484268062x404921931938873500</td>\n",
              "    </tr>\n",
              "    <tr>\n",
              "      <th>3</th>\n",
              "      <td>NaN</td>\n",
              "      <td>NaN</td>\n",
              "      <td>1689771309517x402134288376915900</td>\n",
              "      <td>NaN</td>\n",
              "      <td>NaN</td>\n",
              "      <td>Food Hamper</td>\n",
              "      <td>NaN</td>\n",
              "      <td>NaN</td>\n",
              "      <td>NaN</td>\n",
              "      <td>Oct 25, 2023 00:00</td>\n",
              "      <td>...</td>\n",
              "      <td>NaN</td>\n",
              "      <td>NaN</td>\n",
              "      <td>New food hamper schedule</td>\n",
              "      <td>NaN</td>\n",
              "      <td>NaN</td>\n",
              "      <td>Jul 27, 2023 15:57</td>\n",
              "      <td>Jul 27, 2023 15:57</td>\n",
              "      <td>NaN</td>\n",
              "      <td>1689771309517x402134288376915900</td>\n",
              "      <td>1690484269673x683706627103465300</td>\n",
              "    </tr>\n",
              "    <tr>\n",
              "      <th>4</th>\n",
              "      <td>NaN</td>\n",
              "      <td>NaN</td>\n",
              "      <td>1689771309517x402134288376915900</td>\n",
              "      <td>NaN</td>\n",
              "      <td>NaN</td>\n",
              "      <td>Food Hamper</td>\n",
              "      <td>NaN</td>\n",
              "      <td>NaN</td>\n",
              "      <td>NaN</td>\n",
              "      <td>Nov 24, 2023 00:00</td>\n",
              "      <td>...</td>\n",
              "      <td>NaN</td>\n",
              "      <td>NaN</td>\n",
              "      <td>New food hamper schedule</td>\n",
              "      <td>NaN</td>\n",
              "      <td>NaN</td>\n",
              "      <td>Jul 27, 2023 15:57</td>\n",
              "      <td>Jul 27, 2023 15:57</td>\n",
              "      <td>NaN</td>\n",
              "      <td>1689771309517x402134288376915900</td>\n",
              "      <td>1690484271378x480307445517271800</td>\n",
              "    </tr>\n",
              "  </tbody>\n",
              "</table>\n",
              "<p>5 rows × 39 columns</p>\n",
              "</div>\n",
              "    <div class=\"colab-df-buttons\">\n",
              "\n",
              "  <div class=\"colab-df-container\">\n",
              "    <button class=\"colab-df-convert\" onclick=\"convertToInteractive('df-b0840e02-af15-4d67-92b7-3e5eefbef52c')\"\n",
              "            title=\"Convert this dataframe to an interactive table.\"\n",
              "            style=\"display:none;\">\n",
              "\n",
              "  <svg xmlns=\"http://www.w3.org/2000/svg\" height=\"24px\" viewBox=\"0 -960 960 960\">\n",
              "    <path d=\"M120-120v-720h720v720H120Zm60-500h600v-160H180v160Zm220 220h160v-160H400v160Zm0 220h160v-160H400v160ZM180-400h160v-160H180v160Zm440 0h160v-160H620v160ZM180-180h160v-160H180v160Zm440 0h160v-160H620v160Z\"/>\n",
              "  </svg>\n",
              "    </button>\n",
              "\n",
              "  <style>\n",
              "    .colab-df-container {\n",
              "      display:flex;\n",
              "      gap: 12px;\n",
              "    }\n",
              "\n",
              "    .colab-df-convert {\n",
              "      background-color: #E8F0FE;\n",
              "      border: none;\n",
              "      border-radius: 50%;\n",
              "      cursor: pointer;\n",
              "      display: none;\n",
              "      fill: #1967D2;\n",
              "      height: 32px;\n",
              "      padding: 0 0 0 0;\n",
              "      width: 32px;\n",
              "    }\n",
              "\n",
              "    .colab-df-convert:hover {\n",
              "      background-color: #E2EBFA;\n",
              "      box-shadow: 0px 1px 2px rgba(60, 64, 67, 0.3), 0px 1px 3px 1px rgba(60, 64, 67, 0.15);\n",
              "      fill: #174EA6;\n",
              "    }\n",
              "\n",
              "    .colab-df-buttons div {\n",
              "      margin-bottom: 4px;\n",
              "    }\n",
              "\n",
              "    [theme=dark] .colab-df-convert {\n",
              "      background-color: #3B4455;\n",
              "      fill: #D2E3FC;\n",
              "    }\n",
              "\n",
              "    [theme=dark] .colab-df-convert:hover {\n",
              "      background-color: #434B5C;\n",
              "      box-shadow: 0px 1px 3px 1px rgba(0, 0, 0, 0.15);\n",
              "      filter: drop-shadow(0px 1px 2px rgba(0, 0, 0, 0.3));\n",
              "      fill: #FFFFFF;\n",
              "    }\n",
              "  </style>\n",
              "\n",
              "    <script>\n",
              "      const buttonEl =\n",
              "        document.querySelector('#df-b0840e02-af15-4d67-92b7-3e5eefbef52c button.colab-df-convert');\n",
              "      buttonEl.style.display =\n",
              "        google.colab.kernel.accessAllowed ? 'block' : 'none';\n",
              "\n",
              "      async function convertToInteractive(key) {\n",
              "        const element = document.querySelector('#df-b0840e02-af15-4d67-92b7-3e5eefbef52c');\n",
              "        const dataTable =\n",
              "          await google.colab.kernel.invokeFunction('convertToInteractive',\n",
              "                                                    [key], {});\n",
              "        if (!dataTable) return;\n",
              "\n",
              "        const docLinkHtml = 'Like what you see? Visit the ' +\n",
              "          '<a target=\"_blank\" href=https://colab.research.google.com/notebooks/data_table.ipynb>data table notebook</a>'\n",
              "          + ' to learn more about interactive tables.';\n",
              "        element.innerHTML = '';\n",
              "        dataTable['output_type'] = 'display_data';\n",
              "        await google.colab.output.renderOutput(dataTable, element);\n",
              "        const docLink = document.createElement('div');\n",
              "        docLink.innerHTML = docLinkHtml;\n",
              "        element.appendChild(docLink);\n",
              "      }\n",
              "    </script>\n",
              "  </div>\n",
              "\n",
              "\n",
              "<div id=\"df-0b910102-f375-4d2f-a276-957df144c38e\">\n",
              "  <button class=\"colab-df-quickchart\" onclick=\"quickchart('df-0b910102-f375-4d2f-a276-957df144c38e')\"\n",
              "            title=\"Suggest charts\"\n",
              "            style=\"display:none;\">\n",
              "\n",
              "<svg xmlns=\"http://www.w3.org/2000/svg\" height=\"24px\"viewBox=\"0 0 24 24\"\n",
              "     width=\"24px\">\n",
              "    <g>\n",
              "        <path d=\"M19 3H5c-1.1 0-2 .9-2 2v14c0 1.1.9 2 2 2h14c1.1 0 2-.9 2-2V5c0-1.1-.9-2-2-2zM9 17H7v-7h2v7zm4 0h-2V7h2v10zm4 0h-2v-4h2v4z\"/>\n",
              "    </g>\n",
              "</svg>\n",
              "  </button>\n",
              "\n",
              "<style>\n",
              "  .colab-df-quickchart {\n",
              "      --bg-color: #E8F0FE;\n",
              "      --fill-color: #1967D2;\n",
              "      --hover-bg-color: #E2EBFA;\n",
              "      --hover-fill-color: #174EA6;\n",
              "      --disabled-fill-color: #AAA;\n",
              "      --disabled-bg-color: #DDD;\n",
              "  }\n",
              "\n",
              "  [theme=dark] .colab-df-quickchart {\n",
              "      --bg-color: #3B4455;\n",
              "      --fill-color: #D2E3FC;\n",
              "      --hover-bg-color: #434B5C;\n",
              "      --hover-fill-color: #FFFFFF;\n",
              "      --disabled-bg-color: #3B4455;\n",
              "      --disabled-fill-color: #666;\n",
              "  }\n",
              "\n",
              "  .colab-df-quickchart {\n",
              "    background-color: var(--bg-color);\n",
              "    border: none;\n",
              "    border-radius: 50%;\n",
              "    cursor: pointer;\n",
              "    display: none;\n",
              "    fill: var(--fill-color);\n",
              "    height: 32px;\n",
              "    padding: 0;\n",
              "    width: 32px;\n",
              "  }\n",
              "\n",
              "  .colab-df-quickchart:hover {\n",
              "    background-color: var(--hover-bg-color);\n",
              "    box-shadow: 0 1px 2px rgba(60, 64, 67, 0.3), 0 1px 3px 1px rgba(60, 64, 67, 0.15);\n",
              "    fill: var(--button-hover-fill-color);\n",
              "  }\n",
              "\n",
              "  .colab-df-quickchart-complete:disabled,\n",
              "  .colab-df-quickchart-complete:disabled:hover {\n",
              "    background-color: var(--disabled-bg-color);\n",
              "    fill: var(--disabled-fill-color);\n",
              "    box-shadow: none;\n",
              "  }\n",
              "\n",
              "  .colab-df-spinner {\n",
              "    border: 2px solid var(--fill-color);\n",
              "    border-color: transparent;\n",
              "    border-bottom-color: var(--fill-color);\n",
              "    animation:\n",
              "      spin 1s steps(1) infinite;\n",
              "  }\n",
              "\n",
              "  @keyframes spin {\n",
              "    0% {\n",
              "      border-color: transparent;\n",
              "      border-bottom-color: var(--fill-color);\n",
              "      border-left-color: var(--fill-color);\n",
              "    }\n",
              "    20% {\n",
              "      border-color: transparent;\n",
              "      border-left-color: var(--fill-color);\n",
              "      border-top-color: var(--fill-color);\n",
              "    }\n",
              "    30% {\n",
              "      border-color: transparent;\n",
              "      border-left-color: var(--fill-color);\n",
              "      border-top-color: var(--fill-color);\n",
              "      border-right-color: var(--fill-color);\n",
              "    }\n",
              "    40% {\n",
              "      border-color: transparent;\n",
              "      border-right-color: var(--fill-color);\n",
              "      border-top-color: var(--fill-color);\n",
              "    }\n",
              "    60% {\n",
              "      border-color: transparent;\n",
              "      border-right-color: var(--fill-color);\n",
              "    }\n",
              "    80% {\n",
              "      border-color: transparent;\n",
              "      border-right-color: var(--fill-color);\n",
              "      border-bottom-color: var(--fill-color);\n",
              "    }\n",
              "    90% {\n",
              "      border-color: transparent;\n",
              "      border-bottom-color: var(--fill-color);\n",
              "    }\n",
              "  }\n",
              "</style>\n",
              "\n",
              "  <script>\n",
              "    async function quickchart(key) {\n",
              "      const quickchartButtonEl =\n",
              "        document.querySelector('#' + key + ' button');\n",
              "      quickchartButtonEl.disabled = true;  // To prevent multiple clicks.\n",
              "      quickchartButtonEl.classList.add('colab-df-spinner');\n",
              "      try {\n",
              "        const charts = await google.colab.kernel.invokeFunction(\n",
              "            'suggestCharts', [key], {});\n",
              "      } catch (error) {\n",
              "        console.error('Error during call to suggestCharts:', error);\n",
              "      }\n",
              "      quickchartButtonEl.classList.remove('colab-df-spinner');\n",
              "      quickchartButtonEl.classList.add('colab-df-quickchart-complete');\n",
              "    }\n",
              "    (() => {\n",
              "      let quickchartButtonEl =\n",
              "        document.querySelector('#df-0b910102-f375-4d2f-a276-957df144c38e button');\n",
              "      quickchartButtonEl.style.display =\n",
              "        google.colab.kernel.accessAllowed ? 'block' : 'none';\n",
              "    })();\n",
              "  </script>\n",
              "</div>\n",
              "\n",
              "    </div>\n",
              "  </div>\n"
            ],
            "application/vnd.google.colaboratory.intrinsic+json": {
              "type": "dataframe",
              "variable_name": "foodhamper_data"
            }
          },
          "metadata": {},
          "execution_count": 5
        }
      ]
    },
    {
      "cell_type": "code",
      "source": [
        "foodhamper_data.shape"
      ],
      "metadata": {
        "colab": {
          "base_uri": "https://localhost:8080/"
        },
        "id": "TRbTp3a6S1Cq",
        "outputId": "7450b363-e4ed-4918-9dac-de3270ce1838"
      },
      "execution_count": null,
      "outputs": [
        {
          "output_type": "execute_result",
          "data": {
            "text/plain": [
              "(16605, 39)"
            ]
          },
          "metadata": {},
          "execution_count": 6
        }
      ]
    },
    {
      "cell_type": "code",
      "source": [
        "# Displaying the basic information of the data\n",
        "print(client_data.info())"
      ],
      "metadata": {
        "colab": {
          "base_uri": "https://localhost:8080/"
        },
        "id": "MijmwThJ1Amu",
        "outputId": "924db6d0-efd6-40ef-eb57-6691688c823d"
      },
      "execution_count": null,
      "outputs": [
        {
          "output_type": "stream",
          "name": "stdout",
          "text": [
            "<class 'pandas.core.frame.DataFrame'>\n",
            "RangeIndex: 25505 entries, 0 to 25504\n",
            "Data columns (total 44 columns):\n",
            " #   Column                            Non-Null Count  Dtype  \n",
            "---  ------                            --------------  -----  \n",
            " 0   address                           7264 non-null   object \n",
            " 1   address_complement                494 non-null    object \n",
            " 2   address_text                      6375 non-null   object \n",
            " 3   age                               25082 non-null  float64\n",
            " 4   bio                               5 non-null      object \n",
            " 5   birthdates                        25088 non-null  object \n",
            " 6   client_status_more_info           59 non-null     object \n",
            " 7   communication_barrier             1 non-null      object \n",
            " 8   contact_frequency                 202 non-null    object \n",
            " 9   date_reopened                     13135 non-null  object \n",
            " 10  dependents_qty                    20591 non-null  float64\n",
            " 11  emergency_contact_name            0 non-null      float64\n",
            " 12  emergency_phone_number            0 non-null      float64\n",
            " 13  english_proficiency_level         21 non-null     object \n",
            " 14  external_id                       24312 non-null  object \n",
            " 15  family                            25442 non-null  object \n",
            " 16  household                         13789 non-null  object \n",
            " 17  id_xano                           31 non-null     float64\n",
            " 18  latest_contact_method             533 non-null    object \n",
            " 19  latest_language_code              527 non-null    object \n",
            " 20  organization                      25505 non-null  object \n",
            " 21  organization_signature            0 non-null      float64\n",
            " 22  pets                              0 non-null      float64\n",
            " 23  picture                           3 non-null      object \n",
            " 24  podio_created_on                  23240 non-null  object \n",
            " 25  preferred_contact_method-old-old  0 non-null      float64\n",
            " 26  preferred_contact_methods         1354 non-null   object \n",
            " 27  preferred_languages               5120 non-null   object \n",
            " 28  primary_birthdate                 25083 non-null  object \n",
            " 29  primary_client_key                17870 non-null  float64\n",
            " 30  primary_contact                   24047 non-null  object \n",
            " 31  referral_organizations_allowed    6 non-null      object \n",
            " 32  sex                               24044 non-null  object \n",
            " 33  sex_new                           24508 non-null  object \n",
            " 34  status                            25505 non-null  object \n",
            " 35  status_update                     14086 non-null  object \n",
            " 36  urgent_goal                       25505 non-null  object \n",
            " 37  worker                            7136 non-null   object \n",
            " 38  zz_address_txt                    24117 non-null  object \n",
            " 39  Creation Date                     25505 non-null  object \n",
            " 40  Modified Date                     25505 non-null  object \n",
            " 41  Slug                              25505 non-null  object \n",
            " 42  Creator                           25501 non-null  object \n",
            " 43  unique id                         25505 non-null  object \n",
            "dtypes: float64(9), object(35)\n",
            "memory usage: 8.6+ MB\n",
            "None\n"
          ]
        }
      ]
    },
    {
      "cell_type": "code",
      "source": [
        "# displaying the basic information of data\n",
        "print(foodhamper_data.info())"
      ],
      "metadata": {
        "colab": {
          "base_uri": "https://localhost:8080/"
        },
        "id": "5Vgcv5Oy1VYB",
        "outputId": "a920d51b-0340-4e32-f190-012cd0eee933"
      },
      "execution_count": null,
      "outputs": [
        {
          "output_type": "stream",
          "name": "stdout",
          "text": [
            "<class 'pandas.core.frame.DataFrame'>\n",
            "RangeIndex: 16605 entries, 0 to 16604\n",
            "Data columns (total 39 columns):\n",
            " #   Column                    Non-Null Count  Dtype  \n",
            "---  ------                    --------------  -----  \n",
            " 0   agent_collect             7025 non-null   object \n",
            " 1   agent_collect_note        5566 non-null   object \n",
            " 2   agent_related             16605 non-null  object \n",
            " 3   appointment_contact       0 non-null      float64\n",
            " 4   appointment_participants  12313 non-null  object \n",
            " 5   appointment_type          16605 non-null  object \n",
            " 6   cal_color                 7025 non-null   object \n",
            " 7   client_collected          8957 non-null   object \n",
            " 8   client_list               16486 non-null  object \n",
            " 9   collect_scheduled_date    16602 non-null  object \n",
            " 10  collect_token             16605 non-null  object \n",
            " 11  confirmed                 2915 non-null   object \n",
            " 12  contact_method            16605 non-null  object \n",
            " 13  datetime_from             16604 non-null  object \n",
            " 14  datetime_to               16599 non-null  object \n",
            " 15  details                   2268 non-null   object \n",
            " 16  g_event_id                0 non-null      float64\n",
            " 17  g_event_link              0 non-null      float64\n",
            " 18  hamper_confirmation_type  7025 non-null   object \n",
            " 19  hamper_type               16605 non-null  object \n",
            " 20  id_xano                   2905 non-null   float64\n",
            " 21  marked_off                16605 non-null  object \n",
            " 22  meeting_link              0 non-null      float64\n",
            " 23  organization              16605 non-null  object \n",
            " 24  pickup_date               7025 non-null   object \n",
            " 25  pickup_location           16605 non-null  object \n",
            " 26  qrcode                    16580 non-null  object \n",
            " 27  quantity                  16605 non-null  int64  \n",
            " 28  related_scheduler         16600 non-null  object \n",
            " 29  staff_invited             0 non-null      float64\n",
            " 30  timezone                  5 non-null      object \n",
            " 31  title                     16605 non-null  object \n",
            " 32  unique_client             16486 non-null  object \n",
            " 33  where                     0 non-null      float64\n",
            " 34  Creation Date             16605 non-null  object \n",
            " 35  Modified Date             16605 non-null  object \n",
            " 36  Slug                      0 non-null      float64\n",
            " 37  Creator                   16605 non-null  object \n",
            " 38  unique id                 16605 non-null  object \n",
            "dtypes: float64(8), int64(1), object(30)\n",
            "memory usage: 4.9+ MB\n",
            "None\n"
          ]
        }
      ]
    },
    {
      "cell_type": "code",
      "source": [
        "# Identifying the missing values\n",
        "print(client_data.isnull().sum())"
      ],
      "metadata": {
        "colab": {
          "base_uri": "https://localhost:8080/"
        },
        "id": "_0pgARlE1iYX",
        "outputId": "c409be12-a7a4-4303-b23f-0c558847e9f6"
      },
      "execution_count": null,
      "outputs": [
        {
          "output_type": "stream",
          "name": "stdout",
          "text": [
            "address                             18241\n",
            "address_complement                  25011\n",
            "address_text                        19130\n",
            "age                                   423\n",
            "bio                                 25500\n",
            "birthdates                            417\n",
            "client_status_more_info             25446\n",
            "communication_barrier               25504\n",
            "contact_frequency                   25303\n",
            "date_reopened                       12370\n",
            "dependents_qty                       4914\n",
            "emergency_contact_name              25505\n",
            "emergency_phone_number              25505\n",
            "english_proficiency_level           25484\n",
            "external_id                          1193\n",
            "family                                 63\n",
            "household                           11716\n",
            "id_xano                             25474\n",
            "latest_contact_method               24972\n",
            "latest_language_code                24978\n",
            "organization                            0\n",
            "organization_signature              25505\n",
            "pets                                25505\n",
            "picture                             25502\n",
            "podio_created_on                     2265\n",
            "preferred_contact_method-old-old    25505\n",
            "preferred_contact_methods           24151\n",
            "preferred_languages                 20385\n",
            "primary_birthdate                     422\n",
            "primary_client_key                   7635\n",
            "primary_contact                      1458\n",
            "referral_organizations_allowed      25499\n",
            "sex                                  1461\n",
            "sex_new                               997\n",
            "status                                  0\n",
            "status_update                       11419\n",
            "urgent_goal                             0\n",
            "worker                              18369\n",
            "zz_address_txt                       1388\n",
            "Creation Date                           0\n",
            "Modified Date                           0\n",
            "Slug                                    0\n",
            "Creator                                 4\n",
            "unique id                               0\n",
            "dtype: int64\n"
          ]
        }
      ]
    },
    {
      "cell_type": "code",
      "source": [
        "# Checking for the missing values\n",
        "print(foodhamper_data.isnull().sum())"
      ],
      "metadata": {
        "colab": {
          "base_uri": "https://localhost:8080/"
        },
        "id": "Ss3QZ2q01nwL",
        "outputId": "5f5b821d-818b-4b25-baea-338da1d0734b"
      },
      "execution_count": null,
      "outputs": [
        {
          "output_type": "stream",
          "name": "stdout",
          "text": [
            "agent_collect                9580\n",
            "agent_collect_note          11039\n",
            "agent_related                   0\n",
            "appointment_contact         16605\n",
            "appointment_participants     4292\n",
            "appointment_type                0\n",
            "cal_color                    9580\n",
            "client_collected             7648\n",
            "client_list                   119\n",
            "collect_scheduled_date          3\n",
            "collect_token                   0\n",
            "confirmed                   13690\n",
            "contact_method                  0\n",
            "datetime_from                   1\n",
            "datetime_to                     6\n",
            "details                     14337\n",
            "g_event_id                  16605\n",
            "g_event_link                16605\n",
            "hamper_confirmation_type     9580\n",
            "hamper_type                     0\n",
            "id_xano                     13700\n",
            "marked_off                      0\n",
            "meeting_link                16605\n",
            "organization                    0\n",
            "pickup_date                  9580\n",
            "pickup_location                 0\n",
            "qrcode                         25\n",
            "quantity                        0\n",
            "related_scheduler               5\n",
            "staff_invited               16605\n",
            "timezone                    16600\n",
            "title                           0\n",
            "unique_client                 119\n",
            "where                       16605\n",
            "Creation Date                   0\n",
            "Modified Date                   0\n",
            "Slug                        16605\n",
            "Creator                         0\n",
            "unique id                       0\n",
            "dtype: int64\n"
          ]
        }
      ]
    },
    {
      "cell_type": "code",
      "source": [
        "#checking for the duplicate values\n",
        "print(client_data.duplicated().sum())\n",
        "print(foodhamper_data.duplicated().sum())"
      ],
      "metadata": {
        "colab": {
          "base_uri": "https://localhost:8080/"
        },
        "id": "lVVLuVOt3bWm",
        "outputId": "34109625-3fe6-49a4-bbf7-eb9d7fc37397"
      },
      "execution_count": null,
      "outputs": [
        {
          "output_type": "stream",
          "name": "stdout",
          "text": [
            "0\n",
            "0\n"
          ]
        }
      ]
    },
    {
      "cell_type": "code",
      "source": [
        "client_data.describe()"
      ],
      "metadata": {
        "colab": {
          "base_uri": "https://localhost:8080/",
          "height": 300
        },
        "id": "3NCRYXN5-Dxd",
        "outputId": "32743b5a-87e1-406a-f70f-bb35c42449a1"
      },
      "execution_count": null,
      "outputs": [
        {
          "output_type": "execute_result",
          "data": {
            "text/plain": [
              "                age  dependents_qty  emergency_contact_name  \\\n",
              "count  25082.000000    20591.000000                     0.0   \n",
              "mean      26.771031        4.737507                     NaN   \n",
              "std       17.535251        2.393636                     NaN   \n",
              "min      -76.000000        0.000000                     NaN   \n",
              "25%       12.000000        3.000000                     NaN   \n",
              "50%       22.000000        5.000000                     NaN   \n",
              "75%       40.000000        6.000000                     NaN   \n",
              "max      123.000000       18.000000                     NaN   \n",
              "\n",
              "       emergency_phone_number       id_xano  organization_signature  pets  \\\n",
              "count                     0.0  3.100000e+01                     0.0   0.0   \n",
              "mean                      NaN  8.788638e+13                     NaN   NaN   \n",
              "std                       NaN  2.799543e+13                     NaN   NaN   \n",
              "min                       NaN  6.712890e+11                     NaN   NaN   \n",
              "25%                       NaN  9.999560e+13                     NaN   NaN   \n",
              "50%                       NaN  9.999560e+13                     NaN   NaN   \n",
              "75%                       NaN  9.999560e+13                     NaN   NaN   \n",
              "max                       NaN  9.999560e+13                     NaN   NaN   \n",
              "\n",
              "       preferred_contact_method-old-old  primary_client_key  \n",
              "count                               0.0        17870.000000  \n",
              "mean                                NaN         3325.388416  \n",
              "std                                 NaN         2147.395207  \n",
              "min                                 NaN            1.000000  \n",
              "25%                                 NaN         1408.250000  \n",
              "50%                                 NaN         2889.000000  \n",
              "75%                                 NaN         5290.000000  \n",
              "max                                 NaN         7026.000000  "
            ],
            "text/html": [
              "\n",
              "  <div id=\"df-a065e7c7-cffc-416b-ad7c-f8bca8ff254e\" class=\"colab-df-container\">\n",
              "    <div>\n",
              "<style scoped>\n",
              "    .dataframe tbody tr th:only-of-type {\n",
              "        vertical-align: middle;\n",
              "    }\n",
              "\n",
              "    .dataframe tbody tr th {\n",
              "        vertical-align: top;\n",
              "    }\n",
              "\n",
              "    .dataframe thead th {\n",
              "        text-align: right;\n",
              "    }\n",
              "</style>\n",
              "<table border=\"1\" class=\"dataframe\">\n",
              "  <thead>\n",
              "    <tr style=\"text-align: right;\">\n",
              "      <th></th>\n",
              "      <th>age</th>\n",
              "      <th>dependents_qty</th>\n",
              "      <th>emergency_contact_name</th>\n",
              "      <th>emergency_phone_number</th>\n",
              "      <th>id_xano</th>\n",
              "      <th>organization_signature</th>\n",
              "      <th>pets</th>\n",
              "      <th>preferred_contact_method-old-old</th>\n",
              "      <th>primary_client_key</th>\n",
              "    </tr>\n",
              "  </thead>\n",
              "  <tbody>\n",
              "    <tr>\n",
              "      <th>count</th>\n",
              "      <td>25082.000000</td>\n",
              "      <td>20591.000000</td>\n",
              "      <td>0.0</td>\n",
              "      <td>0.0</td>\n",
              "      <td>3.100000e+01</td>\n",
              "      <td>0.0</td>\n",
              "      <td>0.0</td>\n",
              "      <td>0.0</td>\n",
              "      <td>17870.000000</td>\n",
              "    </tr>\n",
              "    <tr>\n",
              "      <th>mean</th>\n",
              "      <td>26.771031</td>\n",
              "      <td>4.737507</td>\n",
              "      <td>NaN</td>\n",
              "      <td>NaN</td>\n",
              "      <td>8.788638e+13</td>\n",
              "      <td>NaN</td>\n",
              "      <td>NaN</td>\n",
              "      <td>NaN</td>\n",
              "      <td>3325.388416</td>\n",
              "    </tr>\n",
              "    <tr>\n",
              "      <th>std</th>\n",
              "      <td>17.535251</td>\n",
              "      <td>2.393636</td>\n",
              "      <td>NaN</td>\n",
              "      <td>NaN</td>\n",
              "      <td>2.799543e+13</td>\n",
              "      <td>NaN</td>\n",
              "      <td>NaN</td>\n",
              "      <td>NaN</td>\n",
              "      <td>2147.395207</td>\n",
              "    </tr>\n",
              "    <tr>\n",
              "      <th>min</th>\n",
              "      <td>-76.000000</td>\n",
              "      <td>0.000000</td>\n",
              "      <td>NaN</td>\n",
              "      <td>NaN</td>\n",
              "      <td>6.712890e+11</td>\n",
              "      <td>NaN</td>\n",
              "      <td>NaN</td>\n",
              "      <td>NaN</td>\n",
              "      <td>1.000000</td>\n",
              "    </tr>\n",
              "    <tr>\n",
              "      <th>25%</th>\n",
              "      <td>12.000000</td>\n",
              "      <td>3.000000</td>\n",
              "      <td>NaN</td>\n",
              "      <td>NaN</td>\n",
              "      <td>9.999560e+13</td>\n",
              "      <td>NaN</td>\n",
              "      <td>NaN</td>\n",
              "      <td>NaN</td>\n",
              "      <td>1408.250000</td>\n",
              "    </tr>\n",
              "    <tr>\n",
              "      <th>50%</th>\n",
              "      <td>22.000000</td>\n",
              "      <td>5.000000</td>\n",
              "      <td>NaN</td>\n",
              "      <td>NaN</td>\n",
              "      <td>9.999560e+13</td>\n",
              "      <td>NaN</td>\n",
              "      <td>NaN</td>\n",
              "      <td>NaN</td>\n",
              "      <td>2889.000000</td>\n",
              "    </tr>\n",
              "    <tr>\n",
              "      <th>75%</th>\n",
              "      <td>40.000000</td>\n",
              "      <td>6.000000</td>\n",
              "      <td>NaN</td>\n",
              "      <td>NaN</td>\n",
              "      <td>9.999560e+13</td>\n",
              "      <td>NaN</td>\n",
              "      <td>NaN</td>\n",
              "      <td>NaN</td>\n",
              "      <td>5290.000000</td>\n",
              "    </tr>\n",
              "    <tr>\n",
              "      <th>max</th>\n",
              "      <td>123.000000</td>\n",
              "      <td>18.000000</td>\n",
              "      <td>NaN</td>\n",
              "      <td>NaN</td>\n",
              "      <td>9.999560e+13</td>\n",
              "      <td>NaN</td>\n",
              "      <td>NaN</td>\n",
              "      <td>NaN</td>\n",
              "      <td>7026.000000</td>\n",
              "    </tr>\n",
              "  </tbody>\n",
              "</table>\n",
              "</div>\n",
              "    <div class=\"colab-df-buttons\">\n",
              "\n",
              "  <div class=\"colab-df-container\">\n",
              "    <button class=\"colab-df-convert\" onclick=\"convertToInteractive('df-a065e7c7-cffc-416b-ad7c-f8bca8ff254e')\"\n",
              "            title=\"Convert this dataframe to an interactive table.\"\n",
              "            style=\"display:none;\">\n",
              "\n",
              "  <svg xmlns=\"http://www.w3.org/2000/svg\" height=\"24px\" viewBox=\"0 -960 960 960\">\n",
              "    <path d=\"M120-120v-720h720v720H120Zm60-500h600v-160H180v160Zm220 220h160v-160H400v160Zm0 220h160v-160H400v160ZM180-400h160v-160H180v160Zm440 0h160v-160H620v160ZM180-180h160v-160H180v160Zm440 0h160v-160H620v160Z\"/>\n",
              "  </svg>\n",
              "    </button>\n",
              "\n",
              "  <style>\n",
              "    .colab-df-container {\n",
              "      display:flex;\n",
              "      gap: 12px;\n",
              "    }\n",
              "\n",
              "    .colab-df-convert {\n",
              "      background-color: #E8F0FE;\n",
              "      border: none;\n",
              "      border-radius: 50%;\n",
              "      cursor: pointer;\n",
              "      display: none;\n",
              "      fill: #1967D2;\n",
              "      height: 32px;\n",
              "      padding: 0 0 0 0;\n",
              "      width: 32px;\n",
              "    }\n",
              "\n",
              "    .colab-df-convert:hover {\n",
              "      background-color: #E2EBFA;\n",
              "      box-shadow: 0px 1px 2px rgba(60, 64, 67, 0.3), 0px 1px 3px 1px rgba(60, 64, 67, 0.15);\n",
              "      fill: #174EA6;\n",
              "    }\n",
              "\n",
              "    .colab-df-buttons div {\n",
              "      margin-bottom: 4px;\n",
              "    }\n",
              "\n",
              "    [theme=dark] .colab-df-convert {\n",
              "      background-color: #3B4455;\n",
              "      fill: #D2E3FC;\n",
              "    }\n",
              "\n",
              "    [theme=dark] .colab-df-convert:hover {\n",
              "      background-color: #434B5C;\n",
              "      box-shadow: 0px 1px 3px 1px rgba(0, 0, 0, 0.15);\n",
              "      filter: drop-shadow(0px 1px 2px rgba(0, 0, 0, 0.3));\n",
              "      fill: #FFFFFF;\n",
              "    }\n",
              "  </style>\n",
              "\n",
              "    <script>\n",
              "      const buttonEl =\n",
              "        document.querySelector('#df-a065e7c7-cffc-416b-ad7c-f8bca8ff254e button.colab-df-convert');\n",
              "      buttonEl.style.display =\n",
              "        google.colab.kernel.accessAllowed ? 'block' : 'none';\n",
              "\n",
              "      async function convertToInteractive(key) {\n",
              "        const element = document.querySelector('#df-a065e7c7-cffc-416b-ad7c-f8bca8ff254e');\n",
              "        const dataTable =\n",
              "          await google.colab.kernel.invokeFunction('convertToInteractive',\n",
              "                                                    [key], {});\n",
              "        if (!dataTable) return;\n",
              "\n",
              "        const docLinkHtml = 'Like what you see? Visit the ' +\n",
              "          '<a target=\"_blank\" href=https://colab.research.google.com/notebooks/data_table.ipynb>data table notebook</a>'\n",
              "          + ' to learn more about interactive tables.';\n",
              "        element.innerHTML = '';\n",
              "        dataTable['output_type'] = 'display_data';\n",
              "        await google.colab.output.renderOutput(dataTable, element);\n",
              "        const docLink = document.createElement('div');\n",
              "        docLink.innerHTML = docLinkHtml;\n",
              "        element.appendChild(docLink);\n",
              "      }\n",
              "    </script>\n",
              "  </div>\n",
              "\n",
              "\n",
              "<div id=\"df-60fa22f1-446f-4087-bd7f-1dc7f2e6c3b9\">\n",
              "  <button class=\"colab-df-quickchart\" onclick=\"quickchart('df-60fa22f1-446f-4087-bd7f-1dc7f2e6c3b9')\"\n",
              "            title=\"Suggest charts\"\n",
              "            style=\"display:none;\">\n",
              "\n",
              "<svg xmlns=\"http://www.w3.org/2000/svg\" height=\"24px\"viewBox=\"0 0 24 24\"\n",
              "     width=\"24px\">\n",
              "    <g>\n",
              "        <path d=\"M19 3H5c-1.1 0-2 .9-2 2v14c0 1.1.9 2 2 2h14c1.1 0 2-.9 2-2V5c0-1.1-.9-2-2-2zM9 17H7v-7h2v7zm4 0h-2V7h2v10zm4 0h-2v-4h2v4z\"/>\n",
              "    </g>\n",
              "</svg>\n",
              "  </button>\n",
              "\n",
              "<style>\n",
              "  .colab-df-quickchart {\n",
              "      --bg-color: #E8F0FE;\n",
              "      --fill-color: #1967D2;\n",
              "      --hover-bg-color: #E2EBFA;\n",
              "      --hover-fill-color: #174EA6;\n",
              "      --disabled-fill-color: #AAA;\n",
              "      --disabled-bg-color: #DDD;\n",
              "  }\n",
              "\n",
              "  [theme=dark] .colab-df-quickchart {\n",
              "      --bg-color: #3B4455;\n",
              "      --fill-color: #D2E3FC;\n",
              "      --hover-bg-color: #434B5C;\n",
              "      --hover-fill-color: #FFFFFF;\n",
              "      --disabled-bg-color: #3B4455;\n",
              "      --disabled-fill-color: #666;\n",
              "  }\n",
              "\n",
              "  .colab-df-quickchart {\n",
              "    background-color: var(--bg-color);\n",
              "    border: none;\n",
              "    border-radius: 50%;\n",
              "    cursor: pointer;\n",
              "    display: none;\n",
              "    fill: var(--fill-color);\n",
              "    height: 32px;\n",
              "    padding: 0;\n",
              "    width: 32px;\n",
              "  }\n",
              "\n",
              "  .colab-df-quickchart:hover {\n",
              "    background-color: var(--hover-bg-color);\n",
              "    box-shadow: 0 1px 2px rgba(60, 64, 67, 0.3), 0 1px 3px 1px rgba(60, 64, 67, 0.15);\n",
              "    fill: var(--button-hover-fill-color);\n",
              "  }\n",
              "\n",
              "  .colab-df-quickchart-complete:disabled,\n",
              "  .colab-df-quickchart-complete:disabled:hover {\n",
              "    background-color: var(--disabled-bg-color);\n",
              "    fill: var(--disabled-fill-color);\n",
              "    box-shadow: none;\n",
              "  }\n",
              "\n",
              "  .colab-df-spinner {\n",
              "    border: 2px solid var(--fill-color);\n",
              "    border-color: transparent;\n",
              "    border-bottom-color: var(--fill-color);\n",
              "    animation:\n",
              "      spin 1s steps(1) infinite;\n",
              "  }\n",
              "\n",
              "  @keyframes spin {\n",
              "    0% {\n",
              "      border-color: transparent;\n",
              "      border-bottom-color: var(--fill-color);\n",
              "      border-left-color: var(--fill-color);\n",
              "    }\n",
              "    20% {\n",
              "      border-color: transparent;\n",
              "      border-left-color: var(--fill-color);\n",
              "      border-top-color: var(--fill-color);\n",
              "    }\n",
              "    30% {\n",
              "      border-color: transparent;\n",
              "      border-left-color: var(--fill-color);\n",
              "      border-top-color: var(--fill-color);\n",
              "      border-right-color: var(--fill-color);\n",
              "    }\n",
              "    40% {\n",
              "      border-color: transparent;\n",
              "      border-right-color: var(--fill-color);\n",
              "      border-top-color: var(--fill-color);\n",
              "    }\n",
              "    60% {\n",
              "      border-color: transparent;\n",
              "      border-right-color: var(--fill-color);\n",
              "    }\n",
              "    80% {\n",
              "      border-color: transparent;\n",
              "      border-right-color: var(--fill-color);\n",
              "      border-bottom-color: var(--fill-color);\n",
              "    }\n",
              "    90% {\n",
              "      border-color: transparent;\n",
              "      border-bottom-color: var(--fill-color);\n",
              "    }\n",
              "  }\n",
              "</style>\n",
              "\n",
              "  <script>\n",
              "    async function quickchart(key) {\n",
              "      const quickchartButtonEl =\n",
              "        document.querySelector('#' + key + ' button');\n",
              "      quickchartButtonEl.disabled = true;  // To prevent multiple clicks.\n",
              "      quickchartButtonEl.classList.add('colab-df-spinner');\n",
              "      try {\n",
              "        const charts = await google.colab.kernel.invokeFunction(\n",
              "            'suggestCharts', [key], {});\n",
              "      } catch (error) {\n",
              "        console.error('Error during call to suggestCharts:', error);\n",
              "      }\n",
              "      quickchartButtonEl.classList.remove('colab-df-spinner');\n",
              "      quickchartButtonEl.classList.add('colab-df-quickchart-complete');\n",
              "    }\n",
              "    (() => {\n",
              "      let quickchartButtonEl =\n",
              "        document.querySelector('#df-60fa22f1-446f-4087-bd7f-1dc7f2e6c3b9 button');\n",
              "      quickchartButtonEl.style.display =\n",
              "        google.colab.kernel.accessAllowed ? 'block' : 'none';\n",
              "    })();\n",
              "  </script>\n",
              "</div>\n",
              "\n",
              "    </div>\n",
              "  </div>\n"
            ],
            "application/vnd.google.colaboratory.intrinsic+json": {
              "type": "dataframe",
              "summary": "{\n  \"name\": \"client_data\",\n  \"rows\": 8,\n  \"fields\": [\n    {\n      \"column\": \"age\",\n      \"properties\": {\n        \"dtype\": \"number\",\n        \"std\": 8859.64020440443,\n        \"min\": -76.0,\n        \"max\": 25082.0,\n        \"num_unique_values\": 8,\n        \"samples\": [\n          26.771031018260107,\n          22.0,\n          25082.0\n        ],\n        \"semantic_type\": \"\",\n        \"description\": \"\"\n      }\n    },\n    {\n      \"column\": \"dependents_qty\",\n      \"properties\": {\n        \"dtype\": \"number\",\n        \"std\": 7278.043441016126,\n        \"min\": 0.0,\n        \"max\": 20591.0,\n        \"num_unique_values\": 8,\n        \"samples\": [\n          4.737506677674713,\n          5.0,\n          20591.0\n        ],\n        \"semantic_type\": \"\",\n        \"description\": \"\"\n      }\n    },\n    {\n      \"column\": \"emergency_contact_name\",\n      \"properties\": {\n        \"dtype\": \"number\",\n        \"std\": null,\n        \"min\": 0.0,\n        \"max\": 0.0,\n        \"num_unique_values\": 1,\n        \"samples\": [\n          0.0\n        ],\n        \"semantic_type\": \"\",\n        \"description\": \"\"\n      }\n    },\n    {\n      \"column\": \"emergency_phone_number\",\n      \"properties\": {\n        \"dtype\": \"number\",\n        \"std\": null,\n        \"min\": 0.0,\n        \"max\": 0.0,\n        \"num_unique_values\": 1,\n        \"samples\": [\n          0.0\n        ],\n        \"semantic_type\": \"\",\n        \"description\": \"\"\n      }\n    },\n    {\n      \"column\": \"id_xano\",\n      \"properties\": {\n        \"dtype\": \"number\",\n        \"std\": 46527373577086.45,\n        \"min\": 31.0,\n        \"max\": 99995600000000.0,\n        \"num_unique_values\": 5,\n        \"samples\": [\n          87886383516129.03\n        ],\n        \"semantic_type\": \"\",\n        \"description\": \"\"\n      }\n    },\n    {\n      \"column\": \"organization_signature\",\n      \"properties\": {\n        \"dtype\": \"number\",\n        \"std\": null,\n        \"min\": 0.0,\n        \"max\": 0.0,\n        \"num_unique_values\": 1,\n        \"samples\": [\n          0.0\n        ],\n        \"semantic_type\": \"\",\n        \"description\": \"\"\n      }\n    },\n    {\n      \"column\": \"pets\",\n      \"properties\": {\n        \"dtype\": \"number\",\n        \"std\": null,\n        \"min\": 0.0,\n        \"max\": 0.0,\n        \"num_unique_values\": 1,\n        \"samples\": [\n          0.0\n        ],\n        \"semantic_type\": \"\",\n        \"description\": \"\"\n      }\n    },\n    {\n      \"column\": \"preferred_contact_method-old-old\",\n      \"properties\": {\n        \"dtype\": \"number\",\n        \"std\": null,\n        \"min\": 0.0,\n        \"max\": 0.0,\n        \"num_unique_values\": 1,\n        \"samples\": [\n          0.0\n        ],\n        \"semantic_type\": \"\",\n        \"description\": \"\"\n      }\n    },\n    {\n      \"column\": \"primary_client_key\",\n      \"properties\": {\n        \"dtype\": \"number\",\n        \"std\": 5645.657159775249,\n        \"min\": 1.0,\n        \"max\": 17870.0,\n        \"num_unique_values\": 8,\n        \"samples\": [\n          3325.388416340235\n        ],\n        \"semantic_type\": \"\",\n        \"description\": \"\"\n      }\n    }\n  ]\n}"
            }
          },
          "metadata": {},
          "execution_count": 12
        }
      ]
    },
    {
      "cell_type": "code",
      "source": [
        "foodhamper_data.describe()"
      ],
      "metadata": {
        "colab": {
          "base_uri": "https://localhost:8080/",
          "height": 300
        },
        "id": "gvuw1o-H-JIJ",
        "outputId": "f9457fe1-ff4c-43a8-83ea-a9feca927cff"
      },
      "execution_count": null,
      "outputs": [
        {
          "output_type": "execute_result",
          "data": {
            "text/plain": [
              "       appointment_contact  g_event_id  g_event_link       id_xano  \\\n",
              "count                  0.0         0.0           0.0  2.905000e+03   \n",
              "mean                   NaN         NaN           NaN  9.942010e+13   \n",
              "std                    NaN         NaN           NaN  6.131533e+12   \n",
              "min                    NaN         NaN           NaN  3.646760e+12   \n",
              "25%                    NaN         NaN           NaN  9.999010e+13   \n",
              "50%                    NaN         NaN           NaN  9.999010e+13   \n",
              "75%                    NaN         NaN           NaN  9.999010e+13   \n",
              "max                    NaN         NaN           NaN  9.999010e+13   \n",
              "\n",
              "       meeting_link      quantity  staff_invited  where  Slug  \n",
              "count           0.0  16605.000000            0.0    0.0   0.0  \n",
              "mean            NaN      1.000120            NaN    NaN   NaN  \n",
              "std             NaN      0.010974            NaN    NaN   NaN  \n",
              "min             NaN      1.000000            NaN    NaN   NaN  \n",
              "25%             NaN      1.000000            NaN    NaN   NaN  \n",
              "50%             NaN      1.000000            NaN    NaN   NaN  \n",
              "75%             NaN      1.000000            NaN    NaN   NaN  \n",
              "max             NaN      2.000000            NaN    NaN   NaN  "
            ],
            "text/html": [
              "\n",
              "  <div id=\"df-8d4bbcdf-d777-481a-91d7-33ab07ea90a5\" class=\"colab-df-container\">\n",
              "    <div>\n",
              "<style scoped>\n",
              "    .dataframe tbody tr th:only-of-type {\n",
              "        vertical-align: middle;\n",
              "    }\n",
              "\n",
              "    .dataframe tbody tr th {\n",
              "        vertical-align: top;\n",
              "    }\n",
              "\n",
              "    .dataframe thead th {\n",
              "        text-align: right;\n",
              "    }\n",
              "</style>\n",
              "<table border=\"1\" class=\"dataframe\">\n",
              "  <thead>\n",
              "    <tr style=\"text-align: right;\">\n",
              "      <th></th>\n",
              "      <th>appointment_contact</th>\n",
              "      <th>g_event_id</th>\n",
              "      <th>g_event_link</th>\n",
              "      <th>id_xano</th>\n",
              "      <th>meeting_link</th>\n",
              "      <th>quantity</th>\n",
              "      <th>staff_invited</th>\n",
              "      <th>where</th>\n",
              "      <th>Slug</th>\n",
              "    </tr>\n",
              "  </thead>\n",
              "  <tbody>\n",
              "    <tr>\n",
              "      <th>count</th>\n",
              "      <td>0.0</td>\n",
              "      <td>0.0</td>\n",
              "      <td>0.0</td>\n",
              "      <td>2.905000e+03</td>\n",
              "      <td>0.0</td>\n",
              "      <td>16605.000000</td>\n",
              "      <td>0.0</td>\n",
              "      <td>0.0</td>\n",
              "      <td>0.0</td>\n",
              "    </tr>\n",
              "    <tr>\n",
              "      <th>mean</th>\n",
              "      <td>NaN</td>\n",
              "      <td>NaN</td>\n",
              "      <td>NaN</td>\n",
              "      <td>9.942010e+13</td>\n",
              "      <td>NaN</td>\n",
              "      <td>1.000120</td>\n",
              "      <td>NaN</td>\n",
              "      <td>NaN</td>\n",
              "      <td>NaN</td>\n",
              "    </tr>\n",
              "    <tr>\n",
              "      <th>std</th>\n",
              "      <td>NaN</td>\n",
              "      <td>NaN</td>\n",
              "      <td>NaN</td>\n",
              "      <td>6.131533e+12</td>\n",
              "      <td>NaN</td>\n",
              "      <td>0.010974</td>\n",
              "      <td>NaN</td>\n",
              "      <td>NaN</td>\n",
              "      <td>NaN</td>\n",
              "    </tr>\n",
              "    <tr>\n",
              "      <th>min</th>\n",
              "      <td>NaN</td>\n",
              "      <td>NaN</td>\n",
              "      <td>NaN</td>\n",
              "      <td>3.646760e+12</td>\n",
              "      <td>NaN</td>\n",
              "      <td>1.000000</td>\n",
              "      <td>NaN</td>\n",
              "      <td>NaN</td>\n",
              "      <td>NaN</td>\n",
              "    </tr>\n",
              "    <tr>\n",
              "      <th>25%</th>\n",
              "      <td>NaN</td>\n",
              "      <td>NaN</td>\n",
              "      <td>NaN</td>\n",
              "      <td>9.999010e+13</td>\n",
              "      <td>NaN</td>\n",
              "      <td>1.000000</td>\n",
              "      <td>NaN</td>\n",
              "      <td>NaN</td>\n",
              "      <td>NaN</td>\n",
              "    </tr>\n",
              "    <tr>\n",
              "      <th>50%</th>\n",
              "      <td>NaN</td>\n",
              "      <td>NaN</td>\n",
              "      <td>NaN</td>\n",
              "      <td>9.999010e+13</td>\n",
              "      <td>NaN</td>\n",
              "      <td>1.000000</td>\n",
              "      <td>NaN</td>\n",
              "      <td>NaN</td>\n",
              "      <td>NaN</td>\n",
              "    </tr>\n",
              "    <tr>\n",
              "      <th>75%</th>\n",
              "      <td>NaN</td>\n",
              "      <td>NaN</td>\n",
              "      <td>NaN</td>\n",
              "      <td>9.999010e+13</td>\n",
              "      <td>NaN</td>\n",
              "      <td>1.000000</td>\n",
              "      <td>NaN</td>\n",
              "      <td>NaN</td>\n",
              "      <td>NaN</td>\n",
              "    </tr>\n",
              "    <tr>\n",
              "      <th>max</th>\n",
              "      <td>NaN</td>\n",
              "      <td>NaN</td>\n",
              "      <td>NaN</td>\n",
              "      <td>9.999010e+13</td>\n",
              "      <td>NaN</td>\n",
              "      <td>2.000000</td>\n",
              "      <td>NaN</td>\n",
              "      <td>NaN</td>\n",
              "      <td>NaN</td>\n",
              "    </tr>\n",
              "  </tbody>\n",
              "</table>\n",
              "</div>\n",
              "    <div class=\"colab-df-buttons\">\n",
              "\n",
              "  <div class=\"colab-df-container\">\n",
              "    <button class=\"colab-df-convert\" onclick=\"convertToInteractive('df-8d4bbcdf-d777-481a-91d7-33ab07ea90a5')\"\n",
              "            title=\"Convert this dataframe to an interactive table.\"\n",
              "            style=\"display:none;\">\n",
              "\n",
              "  <svg xmlns=\"http://www.w3.org/2000/svg\" height=\"24px\" viewBox=\"0 -960 960 960\">\n",
              "    <path d=\"M120-120v-720h720v720H120Zm60-500h600v-160H180v160Zm220 220h160v-160H400v160Zm0 220h160v-160H400v160ZM180-400h160v-160H180v160Zm440 0h160v-160H620v160ZM180-180h160v-160H180v160Zm440 0h160v-160H620v160Z\"/>\n",
              "  </svg>\n",
              "    </button>\n",
              "\n",
              "  <style>\n",
              "    .colab-df-container {\n",
              "      display:flex;\n",
              "      gap: 12px;\n",
              "    }\n",
              "\n",
              "    .colab-df-convert {\n",
              "      background-color: #E8F0FE;\n",
              "      border: none;\n",
              "      border-radius: 50%;\n",
              "      cursor: pointer;\n",
              "      display: none;\n",
              "      fill: #1967D2;\n",
              "      height: 32px;\n",
              "      padding: 0 0 0 0;\n",
              "      width: 32px;\n",
              "    }\n",
              "\n",
              "    .colab-df-convert:hover {\n",
              "      background-color: #E2EBFA;\n",
              "      box-shadow: 0px 1px 2px rgba(60, 64, 67, 0.3), 0px 1px 3px 1px rgba(60, 64, 67, 0.15);\n",
              "      fill: #174EA6;\n",
              "    }\n",
              "\n",
              "    .colab-df-buttons div {\n",
              "      margin-bottom: 4px;\n",
              "    }\n",
              "\n",
              "    [theme=dark] .colab-df-convert {\n",
              "      background-color: #3B4455;\n",
              "      fill: #D2E3FC;\n",
              "    }\n",
              "\n",
              "    [theme=dark] .colab-df-convert:hover {\n",
              "      background-color: #434B5C;\n",
              "      box-shadow: 0px 1px 3px 1px rgba(0, 0, 0, 0.15);\n",
              "      filter: drop-shadow(0px 1px 2px rgba(0, 0, 0, 0.3));\n",
              "      fill: #FFFFFF;\n",
              "    }\n",
              "  </style>\n",
              "\n",
              "    <script>\n",
              "      const buttonEl =\n",
              "        document.querySelector('#df-8d4bbcdf-d777-481a-91d7-33ab07ea90a5 button.colab-df-convert');\n",
              "      buttonEl.style.display =\n",
              "        google.colab.kernel.accessAllowed ? 'block' : 'none';\n",
              "\n",
              "      async function convertToInteractive(key) {\n",
              "        const element = document.querySelector('#df-8d4bbcdf-d777-481a-91d7-33ab07ea90a5');\n",
              "        const dataTable =\n",
              "          await google.colab.kernel.invokeFunction('convertToInteractive',\n",
              "                                                    [key], {});\n",
              "        if (!dataTable) return;\n",
              "\n",
              "        const docLinkHtml = 'Like what you see? Visit the ' +\n",
              "          '<a target=\"_blank\" href=https://colab.research.google.com/notebooks/data_table.ipynb>data table notebook</a>'\n",
              "          + ' to learn more about interactive tables.';\n",
              "        element.innerHTML = '';\n",
              "        dataTable['output_type'] = 'display_data';\n",
              "        await google.colab.output.renderOutput(dataTable, element);\n",
              "        const docLink = document.createElement('div');\n",
              "        docLink.innerHTML = docLinkHtml;\n",
              "        element.appendChild(docLink);\n",
              "      }\n",
              "    </script>\n",
              "  </div>\n",
              "\n",
              "\n",
              "<div id=\"df-ade1cf68-fe86-447e-beee-7a6f58b46825\">\n",
              "  <button class=\"colab-df-quickchart\" onclick=\"quickchart('df-ade1cf68-fe86-447e-beee-7a6f58b46825')\"\n",
              "            title=\"Suggest charts\"\n",
              "            style=\"display:none;\">\n",
              "\n",
              "<svg xmlns=\"http://www.w3.org/2000/svg\" height=\"24px\"viewBox=\"0 0 24 24\"\n",
              "     width=\"24px\">\n",
              "    <g>\n",
              "        <path d=\"M19 3H5c-1.1 0-2 .9-2 2v14c0 1.1.9 2 2 2h14c1.1 0 2-.9 2-2V5c0-1.1-.9-2-2-2zM9 17H7v-7h2v7zm4 0h-2V7h2v10zm4 0h-2v-4h2v4z\"/>\n",
              "    </g>\n",
              "</svg>\n",
              "  </button>\n",
              "\n",
              "<style>\n",
              "  .colab-df-quickchart {\n",
              "      --bg-color: #E8F0FE;\n",
              "      --fill-color: #1967D2;\n",
              "      --hover-bg-color: #E2EBFA;\n",
              "      --hover-fill-color: #174EA6;\n",
              "      --disabled-fill-color: #AAA;\n",
              "      --disabled-bg-color: #DDD;\n",
              "  }\n",
              "\n",
              "  [theme=dark] .colab-df-quickchart {\n",
              "      --bg-color: #3B4455;\n",
              "      --fill-color: #D2E3FC;\n",
              "      --hover-bg-color: #434B5C;\n",
              "      --hover-fill-color: #FFFFFF;\n",
              "      --disabled-bg-color: #3B4455;\n",
              "      --disabled-fill-color: #666;\n",
              "  }\n",
              "\n",
              "  .colab-df-quickchart {\n",
              "    background-color: var(--bg-color);\n",
              "    border: none;\n",
              "    border-radius: 50%;\n",
              "    cursor: pointer;\n",
              "    display: none;\n",
              "    fill: var(--fill-color);\n",
              "    height: 32px;\n",
              "    padding: 0;\n",
              "    width: 32px;\n",
              "  }\n",
              "\n",
              "  .colab-df-quickchart:hover {\n",
              "    background-color: var(--hover-bg-color);\n",
              "    box-shadow: 0 1px 2px rgba(60, 64, 67, 0.3), 0 1px 3px 1px rgba(60, 64, 67, 0.15);\n",
              "    fill: var(--button-hover-fill-color);\n",
              "  }\n",
              "\n",
              "  .colab-df-quickchart-complete:disabled,\n",
              "  .colab-df-quickchart-complete:disabled:hover {\n",
              "    background-color: var(--disabled-bg-color);\n",
              "    fill: var(--disabled-fill-color);\n",
              "    box-shadow: none;\n",
              "  }\n",
              "\n",
              "  .colab-df-spinner {\n",
              "    border: 2px solid var(--fill-color);\n",
              "    border-color: transparent;\n",
              "    border-bottom-color: var(--fill-color);\n",
              "    animation:\n",
              "      spin 1s steps(1) infinite;\n",
              "  }\n",
              "\n",
              "  @keyframes spin {\n",
              "    0% {\n",
              "      border-color: transparent;\n",
              "      border-bottom-color: var(--fill-color);\n",
              "      border-left-color: var(--fill-color);\n",
              "    }\n",
              "    20% {\n",
              "      border-color: transparent;\n",
              "      border-left-color: var(--fill-color);\n",
              "      border-top-color: var(--fill-color);\n",
              "    }\n",
              "    30% {\n",
              "      border-color: transparent;\n",
              "      border-left-color: var(--fill-color);\n",
              "      border-top-color: var(--fill-color);\n",
              "      border-right-color: var(--fill-color);\n",
              "    }\n",
              "    40% {\n",
              "      border-color: transparent;\n",
              "      border-right-color: var(--fill-color);\n",
              "      border-top-color: var(--fill-color);\n",
              "    }\n",
              "    60% {\n",
              "      border-color: transparent;\n",
              "      border-right-color: var(--fill-color);\n",
              "    }\n",
              "    80% {\n",
              "      border-color: transparent;\n",
              "      border-right-color: var(--fill-color);\n",
              "      border-bottom-color: var(--fill-color);\n",
              "    }\n",
              "    90% {\n",
              "      border-color: transparent;\n",
              "      border-bottom-color: var(--fill-color);\n",
              "    }\n",
              "  }\n",
              "</style>\n",
              "\n",
              "  <script>\n",
              "    async function quickchart(key) {\n",
              "      const quickchartButtonEl =\n",
              "        document.querySelector('#' + key + ' button');\n",
              "      quickchartButtonEl.disabled = true;  // To prevent multiple clicks.\n",
              "      quickchartButtonEl.classList.add('colab-df-spinner');\n",
              "      try {\n",
              "        const charts = await google.colab.kernel.invokeFunction(\n",
              "            'suggestCharts', [key], {});\n",
              "      } catch (error) {\n",
              "        console.error('Error during call to suggestCharts:', error);\n",
              "      }\n",
              "      quickchartButtonEl.classList.remove('colab-df-spinner');\n",
              "      quickchartButtonEl.classList.add('colab-df-quickchart-complete');\n",
              "    }\n",
              "    (() => {\n",
              "      let quickchartButtonEl =\n",
              "        document.querySelector('#df-ade1cf68-fe86-447e-beee-7a6f58b46825 button');\n",
              "      quickchartButtonEl.style.display =\n",
              "        google.colab.kernel.accessAllowed ? 'block' : 'none';\n",
              "    })();\n",
              "  </script>\n",
              "</div>\n",
              "\n",
              "    </div>\n",
              "  </div>\n"
            ],
            "application/vnd.google.colaboratory.intrinsic+json": {
              "type": "dataframe",
              "summary": "{\n  \"name\": \"foodhamper_data\",\n  \"rows\": 8,\n  \"fields\": [\n    {\n      \"column\": \"appointment_contact\",\n      \"properties\": {\n        \"dtype\": \"number\",\n        \"std\": null,\n        \"min\": 0.0,\n        \"max\": 0.0,\n        \"num_unique_values\": 1,\n        \"samples\": [\n          0.0\n        ],\n        \"semantic_type\": \"\",\n        \"description\": \"\"\n      }\n    },\n    {\n      \"column\": \"g_event_id\",\n      \"properties\": {\n        \"dtype\": \"number\",\n        \"std\": null,\n        \"min\": 0.0,\n        \"max\": 0.0,\n        \"num_unique_values\": 1,\n        \"samples\": [\n          0.0\n        ],\n        \"semantic_type\": \"\",\n        \"description\": \"\"\n      }\n    },\n    {\n      \"column\": \"g_event_link\",\n      \"properties\": {\n        \"dtype\": \"number\",\n        \"std\": null,\n        \"min\": 0.0,\n        \"max\": 0.0,\n        \"num_unique_values\": 1,\n        \"samples\": [\n          0.0\n        ],\n        \"semantic_type\": \"\",\n        \"description\": \"\"\n      }\n    },\n    {\n      \"column\": \"id_xano\",\n      \"properties\": {\n        \"dtype\": \"number\",\n        \"std\": 50031413608907.36,\n        \"min\": 2905.0,\n        \"max\": 99990100000000.0,\n        \"num_unique_values\": 5,\n        \"samples\": [\n          99420097166953.53\n        ],\n        \"semantic_type\": \"\",\n        \"description\": \"\"\n      }\n    },\n    {\n      \"column\": \"meeting_link\",\n      \"properties\": {\n        \"dtype\": \"number\",\n        \"std\": null,\n        \"min\": 0.0,\n        \"max\": 0.0,\n        \"num_unique_values\": 1,\n        \"samples\": [\n          0.0\n        ],\n        \"semantic_type\": \"\",\n        \"description\": \"\"\n      }\n    },\n    {\n      \"column\": \"quantity\",\n      \"properties\": {\n        \"dtype\": \"number\",\n        \"std\": 5870.399961103578,\n        \"min\": 0.01097444280530607,\n        \"max\": 16605.0,\n        \"num_unique_values\": 5,\n        \"samples\": [\n          1.000120445648901\n        ],\n        \"semantic_type\": \"\",\n        \"description\": \"\"\n      }\n    },\n    {\n      \"column\": \"staff_invited\",\n      \"properties\": {\n        \"dtype\": \"number\",\n        \"std\": null,\n        \"min\": 0.0,\n        \"max\": 0.0,\n        \"num_unique_values\": 1,\n        \"samples\": [\n          0.0\n        ],\n        \"semantic_type\": \"\",\n        \"description\": \"\"\n      }\n    },\n    {\n      \"column\": \"where\",\n      \"properties\": {\n        \"dtype\": \"number\",\n        \"std\": null,\n        \"min\": 0.0,\n        \"max\": 0.0,\n        \"num_unique_values\": 1,\n        \"samples\": [\n          0.0\n        ],\n        \"semantic_type\": \"\",\n        \"description\": \"\"\n      }\n    },\n    {\n      \"column\": \"Slug\",\n      \"properties\": {\n        \"dtype\": \"number\",\n        \"std\": null,\n        \"min\": 0.0,\n        \"max\": 0.0,\n        \"num_unique_values\": 1,\n        \"samples\": [\n          0.0\n        ],\n        \"semantic_type\": \"\",\n        \"description\": \"\"\n      }\n    }\n  ]\n}"
            }
          },
          "metadata": {},
          "execution_count": 13
        }
      ]
    },
    {
      "cell_type": "markdown",
      "source": [
        "# Handling missing values\n",
        "Dropping the columns that contain only null values or are blank. We also drop the columns that contain very less information or contain only one values like for organization we don't have any missing values but all the cells contain one organization name."
      ],
      "metadata": {
        "id": "mDCRZKdgm1Mv"
      }
    },
    {
      "cell_type": "code",
      "source": [
        "# Dropping the columns with very less data\n",
        "# Get the list of columns in the dataframe\n",
        "existing_columns = client_data.columns\n",
        "\n",
        "# Create a list of columns to drop, ensuring they exist in the dataframe\n",
        "columns_to_drop = [col for col in ['worker','address_complement','preferred_contact_methods','primary_birthdate','address_text', 'bio', 'client_status_more_info','communication_barrier', 'emergency_contact_name','emergency_phone_number', 'english_proficiency_level','organization_signature','picture','id_xano','status_update','preferred_contact_method-old-old','pets','referral_organizations_allowed','organization', 'sex','urgent_goal','zz_address_txt','latest_contact_method','latest_language_code',] if col in existing_columns]\n",
        "\n",
        "# Drop the columns\n",
        "client_data = client_data.drop(columns=columns_to_drop)"
      ],
      "metadata": {
        "id": "D-9_TWzOAZ0-"
      },
      "execution_count": null,
      "outputs": []
    },
    {
      "cell_type": "markdown",
      "source": [
        "Converting the data types."
      ],
      "metadata": {
        "id": "EYuU-3CBngiA"
      }
    },
    {
      "cell_type": "code",
      "source": [
        "# Converting the datatypes\n",
        "client_data['birthdates'] = pd.to_datetime(client_data['birthdates'], format='mixed', errors='coerce')\n",
        "client_data['date_reopened'] = pd.to_datetime(client_data['date_reopened'], errors='coerce')\n",
        "client_data['Creation Date'] = pd.to_datetime(client_data['Creation Date'], errors='coerce')\n",
        "client_data['Modified Date'] = pd.to_datetime(client_data['Modified Date'], errors='coerce')\n",
        "client_data['contact_frequency'] = client_data['contact_frequency'].astype('category')\n",
        "client_data['household'] = client_data['household'].astype('category')\n",
        "client_data['podio_created_on'] = pd.to_datetime(client_data['podio_created_on'], errors='coerce')\n",
        "client_data['preferred_languages'] = client_data['preferred_languages'].astype('category')\n",
        "client_data['sex_new'] = client_data['sex_new'].astype('category')\n",
        "client_data['status'] = client_data['status'].astype('category')\n"
      ],
      "metadata": {
        "id": "NSR1vk2ALxlw"
      },
      "execution_count": null,
      "outputs": []
    },
    {
      "cell_type": "markdown",
      "source": [
        "As we have more values for birthdates than age so for the missing values we get age from the birthdates."
      ],
      "metadata": {
        "id": "TUanR_CDnm6r"
      }
    },
    {
      "cell_type": "code",
      "source": [
        "# Create a mask for missing 'age' and non-missing 'birthdates'\n",
        "mask = client_data['age'].isnull() & client_data['birthdates'].notnull()\n",
        "\n",
        "# Calculate age based on 'Modified Date'\n",
        "client_data.loc[mask, 'age'] = (client_data.loc[mask, 'Modified Date'] - client_data.loc[mask, 'birthdates']).dt.days // 365"
      ],
      "metadata": {
        "id": "UZIow4izMdG9"
      },
      "execution_count": null,
      "outputs": []
    },
    {
      "cell_type": "code",
      "source": [
        "client_data.info()"
      ],
      "metadata": {
        "colab": {
          "base_uri": "https://localhost:8080/"
        },
        "id": "R27ywiauKLJ5",
        "outputId": "d47074ba-6dd4-4ebf-8cf5-2421262189ca"
      },
      "execution_count": null,
      "outputs": [
        {
          "output_type": "stream",
          "name": "stdout",
          "text": [
            "<class 'pandas.core.frame.DataFrame'>\n",
            "RangeIndex: 25505 entries, 0 to 25504\n",
            "Data columns (total 20 columns):\n",
            " #   Column               Non-Null Count  Dtype         \n",
            "---  ------               --------------  -----         \n",
            " 0   address              7264 non-null   object        \n",
            " 1   age                  25090 non-null  float64       \n",
            " 2   birthdates           25077 non-null  datetime64[ns]\n",
            " 3   contact_frequency    202 non-null    category      \n",
            " 4   date_reopened        13135 non-null  datetime64[ns]\n",
            " 5   dependents_qty       20591 non-null  float64       \n",
            " 6   external_id          24312 non-null  object        \n",
            " 7   family               25442 non-null  object        \n",
            " 8   household            13789 non-null  category      \n",
            " 9   podio_created_on     23240 non-null  datetime64[ns]\n",
            " 10  preferred_languages  5120 non-null   category      \n",
            " 11  primary_client_key   17870 non-null  float64       \n",
            " 12  primary_contact      24047 non-null  object        \n",
            " 13  sex_new              24508 non-null  category      \n",
            " 14  status               25505 non-null  category      \n",
            " 15  Creation Date        25505 non-null  datetime64[ns]\n",
            " 16  Modified Date        25505 non-null  datetime64[ns]\n",
            " 17  Slug                 25505 non-null  object        \n",
            " 18  Creator              25501 non-null  object        \n",
            " 19  unique id            25505 non-null  object        \n",
            "dtypes: category(5), datetime64[ns](5), float64(3), object(7)\n",
            "memory usage: 3.1+ MB\n"
          ]
        }
      ]
    },
    {
      "cell_type": "code",
      "source": [
        "existingcolumns = foodhamper_data.columns\n",
        "columns_to_drop = [col for col in ['agent_collect','id_xano','qrcode','appointment_contact','agent_collect_note','cal_color', 'contact_method', 'appointment_type','g_event_id','g_event_link','meeting_link','marked_off','organization','staff_invited','timezone','where','Slug']]\n",
        "foodhamper_data = foodhamper_data.drop(columns=columns_to_drop)"
      ],
      "metadata": {
        "id": "axqQYvDLKyex"
      },
      "execution_count": null,
      "outputs": []
    },
    {
      "cell_type": "code",
      "source": [
        "foodhamper_data.info()"
      ],
      "metadata": {
        "colab": {
          "base_uri": "https://localhost:8080/"
        },
        "id": "dtOjBHPnLuhf",
        "outputId": "bd7e2352-d266-4fd6-a4ff-f59e67035614"
      },
      "execution_count": null,
      "outputs": [
        {
          "output_type": "stream",
          "name": "stdout",
          "text": [
            "<class 'pandas.core.frame.DataFrame'>\n",
            "RangeIndex: 16605 entries, 0 to 16604\n",
            "Data columns (total 22 columns):\n",
            " #   Column                    Non-Null Count  Dtype \n",
            "---  ------                    --------------  ----- \n",
            " 0   agent_related             16605 non-null  object\n",
            " 1   appointment_participants  12313 non-null  object\n",
            " 2   client_collected          8957 non-null   object\n",
            " 3   client_list               16486 non-null  object\n",
            " 4   collect_scheduled_date    16602 non-null  object\n",
            " 5   collect_token             16605 non-null  object\n",
            " 6   confirmed                 2915 non-null   object\n",
            " 7   datetime_from             16604 non-null  object\n",
            " 8   datetime_to               16599 non-null  object\n",
            " 9   details                   2268 non-null   object\n",
            " 10  hamper_confirmation_type  7025 non-null   object\n",
            " 11  hamper_type               16605 non-null  object\n",
            " 12  pickup_date               7025 non-null   object\n",
            " 13  pickup_location           16605 non-null  object\n",
            " 14  quantity                  16605 non-null  int64 \n",
            " 15  related_scheduler         16600 non-null  object\n",
            " 16  title                     16605 non-null  object\n",
            " 17  unique_client             16486 non-null  object\n",
            " 18  Creation Date             16605 non-null  object\n",
            " 19  Modified Date             16605 non-null  object\n",
            " 20  Creator                   16605 non-null  object\n",
            " 21  unique id                 16605 non-null  object\n",
            "dtypes: int64(1), object(21)\n",
            "memory usage: 2.8+ MB\n"
          ]
        }
      ]
    },
    {
      "cell_type": "code",
      "source": [
        "foodhamper_data['Creation Date'] = pd.to_datetime(foodhamper_data['Creation Date'], errors='coerce')\n",
        "foodhamper_data['Modified Date'] = pd.to_datetime(foodhamper_data['Modified Date'], errors='coerce')\n",
        "foodhamper_data['collect_scheduled_date'] = pd.to_datetime(foodhamper_data['collect_scheduled_date'], errors='coerce')\n",
        "foodhamper_data['datetime_from'] = pd.to_datetime(foodhamper_data['datetime_from'], errors='coerce')\n",
        "foodhamper_data['datetime_to'] = pd.to_datetime(foodhamper_data['datetime_to'], errors='coerce')\n",
        "foodhamper_data['confirmed'] = foodhamper_data['confirmed'].astype('category')\n",
        "foodhamper_data['hamper_confirmation_type'] = foodhamper_data['hamper_confirmation_type'].astype('category')\n",
        "foodhamper_data['pickup_date'] = pd.to_datetime(foodhamper_data['pickup_date'], errors='coerce')\n",
        "foodhamper_data['title'] = foodhamper_data['title'].astype('category')\n",
        "foodhamper_data['hamper_type'] = foodhamper_data['hamper_type'].astype('category')\n",
        "\n"
      ],
      "metadata": {
        "id": "BGv8dMH5mYMW"
      },
      "execution_count": null,
      "outputs": []
    },
    {
      "cell_type": "code",
      "source": [
        "foodhamper_data.info()"
      ],
      "metadata": {
        "colab": {
          "base_uri": "https://localhost:8080/"
        },
        "id": "fqz3pGN2cLQv",
        "outputId": "79778c3d-98e9-4a58-d11c-8c5ca40b134d"
      },
      "execution_count": null,
      "outputs": [
        {
          "output_type": "stream",
          "name": "stdout",
          "text": [
            "<class 'pandas.core.frame.DataFrame'>\n",
            "RangeIndex: 16605 entries, 0 to 16604\n",
            "Data columns (total 22 columns):\n",
            " #   Column                    Non-Null Count  Dtype         \n",
            "---  ------                    --------------  -----         \n",
            " 0   agent_related             16605 non-null  object        \n",
            " 1   appointment_participants  12313 non-null  object        \n",
            " 2   client_collected          8957 non-null   object        \n",
            " 3   client_list               16486 non-null  object        \n",
            " 4   collect_scheduled_date    16602 non-null  datetime64[ns]\n",
            " 5   collect_token             16605 non-null  object        \n",
            " 6   confirmed                 2915 non-null   category      \n",
            " 7   datetime_from             16604 non-null  datetime64[ns]\n",
            " 8   datetime_to               16599 non-null  datetime64[ns]\n",
            " 9   details                   2268 non-null   object        \n",
            " 10  hamper_confirmation_type  7025 non-null   category      \n",
            " 11  hamper_type               16605 non-null  category      \n",
            " 12  pickup_date               7025 non-null   datetime64[ns]\n",
            " 13  pickup_location           16605 non-null  object        \n",
            " 14  quantity                  16605 non-null  int64         \n",
            " 15  related_scheduler         16600 non-null  object        \n",
            " 16  title                     16605 non-null  category      \n",
            " 17  unique_client             16486 non-null  object        \n",
            " 18  Creation Date             16605 non-null  datetime64[ns]\n",
            " 19  Modified Date             16605 non-null  datetime64[ns]\n",
            " 20  Creator                   16605 non-null  object        \n",
            " 21  unique id                 16605 non-null  object        \n",
            "dtypes: category(4), datetime64[ns](6), int64(1), object(11)\n",
            "memory usage: 2.3+ MB\n"
          ]
        }
      ]
    },
    {
      "cell_type": "code",
      "source": [
        "# check if datetime_from and datetime_to are identical\n",
        "identical_dates = (foodhamper_data['datetime_from'] == foodhamper_data['datetime_to'])\n",
        "\n",
        "# count the number of identical and non-identical rows\n",
        "identical_count = identical_dates.sum()\n",
        "non_identical_count = len(foodhamper_data) - identical_count\n",
        "\n",
        "print(f\"Number of identical rows: {identical_count}\")"
      ],
      "metadata": {
        "colab": {
          "base_uri": "https://localhost:8080/"
        },
        "id": "XDmAbym18AaP",
        "outputId": "53390996-0b62-491b-def7-94346d455f29"
      },
      "execution_count": null,
      "outputs": [
        {
          "output_type": "stream",
          "name": "stdout",
          "text": [
            "Number of identical rows: 16599\n"
          ]
        }
      ]
    },
    {
      "cell_type": "code",
      "source": [
        "# remove datetime_to column\n",
        "foodhamper_data = foodhamper_data.drop(columns=['datetime_to'])"
      ],
      "metadata": {
        "id": "nBJ-hRHg8jur"
      },
      "execution_count": null,
      "outputs": []
    },
    {
      "cell_type": "markdown",
      "source": [
        "# Merging the data"
      ],
      "metadata": {
        "id": "n8JSAMpKnxZj"
      }
    },
    {
      "cell_type": "markdown",
      "source": [
        "Merging the datasets on unique_id of food hamper dataset and do the left merge on the client dataframe because we need the data for all the clients in foodhamper data."
      ],
      "metadata": {
        "id": "GAiAOssix7Wp"
      }
    },
    {
      "cell_type": "code",
      "source": [
        "#merging the datasets on unique_id and do the left merge od dataframe\n",
        "merged_data = pd.merge(foodhamper_data,client_data, left_on='unique_client', right_on='unique id', how='left')"
      ],
      "metadata": {
        "id": "aR9zw751V_aZ"
      },
      "execution_count": null,
      "outputs": []
    },
    {
      "cell_type": "code",
      "source": [
        "merged_data.info()"
      ],
      "metadata": {
        "id": "7tFAQHLBW6q0",
        "colab": {
          "base_uri": "https://localhost:8080/"
        },
        "outputId": "ece5d7c3-cbd5-4f22-f26c-df9e8f6c9026"
      },
      "execution_count": null,
      "outputs": [
        {
          "output_type": "stream",
          "name": "stdout",
          "text": [
            "<class 'pandas.core.frame.DataFrame'>\n",
            "RangeIndex: 16605 entries, 0 to 16604\n",
            "Data columns (total 41 columns):\n",
            " #   Column                    Non-Null Count  Dtype         \n",
            "---  ------                    --------------  -----         \n",
            " 0   agent_related             16605 non-null  object        \n",
            " 1   appointment_participants  12313 non-null  object        \n",
            " 2   client_collected          8957 non-null   object        \n",
            " 3   client_list               16486 non-null  object        \n",
            " 4   collect_scheduled_date    16602 non-null  datetime64[ns]\n",
            " 5   collect_token             16605 non-null  object        \n",
            " 6   confirmed                 2915 non-null   category      \n",
            " 7   datetime_from             16604 non-null  datetime64[ns]\n",
            " 8   details                   2268 non-null   object        \n",
            " 9   hamper_confirmation_type  7025 non-null   category      \n",
            " 10  hamper_type               16605 non-null  category      \n",
            " 11  pickup_date               7025 non-null   datetime64[ns]\n",
            " 12  pickup_location           16605 non-null  object        \n",
            " 13  quantity                  16605 non-null  int64         \n",
            " 14  related_scheduler         16600 non-null  object        \n",
            " 15  title                     16605 non-null  category      \n",
            " 16  unique_client             16486 non-null  object        \n",
            " 17  Creation Date_x           16605 non-null  datetime64[ns]\n",
            " 18  Modified Date_x           16605 non-null  datetime64[ns]\n",
            " 19  Creator_x                 16605 non-null  object        \n",
            " 20  unique id_x               16605 non-null  object        \n",
            " 21  address                   15801 non-null  object        \n",
            " 22  age                       16042 non-null  float64       \n",
            " 23  birthdates                16023 non-null  datetime64[ns]\n",
            " 24  contact_frequency         2621 non-null   category      \n",
            " 25  date_reopened             4649 non-null   datetime64[ns]\n",
            " 26  dependents_qty            16379 non-null  float64       \n",
            " 27  external_id               13683 non-null  object        \n",
            " 28  family                    16439 non-null  object        \n",
            " 29  household                 16195 non-null  category      \n",
            " 30  podio_created_on          13249 non-null  datetime64[ns]\n",
            " 31  preferred_languages       15790 non-null  category      \n",
            " 32  primary_client_key        510 non-null    float64       \n",
            " 33  primary_contact           15752 non-null  object        \n",
            " 34  sex_new                   14992 non-null  category      \n",
            " 35  status                    16486 non-null  category      \n",
            " 36  Creation Date_y           16486 non-null  datetime64[ns]\n",
            " 37  Modified Date_y           16486 non-null  datetime64[ns]\n",
            " 38  Slug                      16486 non-null  object        \n",
            " 39  Creator_y                 16486 non-null  object        \n",
            " 40  unique id_y               16486 non-null  object        \n",
            "dtypes: category(9), datetime64[ns](10), float64(3), int64(1), object(18)\n",
            "memory usage: 4.2+ MB\n"
          ]
        }
      ]
    },
    {
      "cell_type": "code",
      "source": [
        "# checking if the creation data and modified date are same from both datasets\n",
        "creation_date_match = (merged_data[\"Creation Date_x\"] == merged_data[\"Modified Date_x\"])\n",
        "modified_date_match = (merged_data[\"Creation Date_y\"] == merged_data[\"Modified Date_y\"])\n",
        "\n",
        "print(f\"Matching Creation Dates: {creation_date_match.sum()} / {len(merged_data)}\")\n",
        "print(f\"Matching Modified Dates: {modified_date_match.sum()} / {len(merged_data)}\")\n"
      ],
      "metadata": {
        "id": "Cl50VnmPlNnJ",
        "colab": {
          "base_uri": "https://localhost:8080/"
        },
        "outputId": "b7697397-7d16-4693-be1c-ee07e92919b6"
      },
      "execution_count": null,
      "outputs": [
        {
          "output_type": "stream",
          "name": "stdout",
          "text": [
            "Matching Creation Dates: 1603 / 16605\n",
            "Matching Modified Dates: 0 / 16605\n"
          ]
        }
      ]
    },
    {
      "cell_type": "code",
      "source": [
        "# checking for duplicates in unique_id\n",
        "duplicate_count = merged_data['unique_client'].duplicated().sum()\n",
        "duplicate_count_1 = merged_data['unique id_x'].duplicated().sum()\n",
        "duplicate_count_2 = merged_data['unique id_y'].duplicated().sum()\n",
        "print(f\"Number of duplicate unique_id: {duplicate_count}\")\n",
        "print(f\"Number of duplicate unique id_x: {duplicate_count_1}\")\n",
        "print(f\"Number of duplicate unique id_y: {duplicate_count_2}\")\n"
      ],
      "metadata": {
        "colab": {
          "base_uri": "https://localhost:8080/"
        },
        "id": "FMRMt8taK0Lp",
        "outputId": "fda957e3-7fdc-4b69-abc9-d63608e87091"
      },
      "execution_count": null,
      "outputs": [
        {
          "output_type": "stream",
          "name": "stdout",
          "text": [
            "Number of duplicate unique_id: 15553\n",
            "Number of duplicate unique id_x: 0\n",
            "Number of duplicate unique id_y: 15553\n"
          ]
        }
      ]
    },
    {
      "cell_type": "code",
      "source": [
        "# checking for duplicates\n",
        "duplicate_count = merged_data.duplicated().sum()\n",
        "print(f\"Number of duplicate rows: {duplicate_count}\")"
      ],
      "metadata": {
        "colab": {
          "base_uri": "https://localhost:8080/"
        },
        "id": "U538r2F1LTJZ",
        "outputId": "5cbb0e2c-ff69-44b7-9b19-e410bb11eaa5"
      },
      "execution_count": null,
      "outputs": [
        {
          "output_type": "stream",
          "name": "stdout",
          "text": [
            "Number of duplicate rows: 0\n"
          ]
        }
      ]
    },
    {
      "cell_type": "code",
      "source": [
        "# deleting the unimportant columns\n",
        "# merged_data = merged_data.drop(columns=['unique id_y','Creation Date_y','Modified Date_y', 'Creation Date_x','Modified Date_x'])"
      ],
      "metadata": {
        "id": "QFf_qRPFIRqq"
      },
      "execution_count": null,
      "outputs": []
    },
    {
      "cell_type": "code",
      "source": [
        "merged_data = merged_data.rename(columns={'unique id_x': 'unique id'})"
      ],
      "metadata": {
        "id": "YBKGqQV4LkVl"
      },
      "execution_count": null,
      "outputs": []
    },
    {
      "cell_type": "code",
      "source": [
        "# comparing the data in creator_x and creator_y to see if the data is same in these columns\n",
        "creator_match = (merged_data[\"Creator_x\"] == merged_data[\"Creator_y\"])\n",
        "print(f\"Matching Creator Values: {creator_match.sum()} / {len(merged_data)}\")"
      ],
      "metadata": {
        "colab": {
          "base_uri": "https://localhost:8080/"
        },
        "id": "Syi88re_MXKJ",
        "outputId": "0726fe9a-35a1-4024-ee6f-ff472b5ee5fc"
      },
      "execution_count": null,
      "outputs": [
        {
          "output_type": "stream",
          "name": "stdout",
          "text": [
            "Matching Creator Values: 1451 / 16605\n"
          ]
        }
      ]
    },
    {
      "cell_type": "code",
      "source": [
        "merged_data.info()"
      ],
      "metadata": {
        "colab": {
          "base_uri": "https://localhost:8080/"
        },
        "id": "BJuezOYELoGL",
        "outputId": "efb3fedc-a59b-4cba-fbaf-56380e883ffc"
      },
      "execution_count": null,
      "outputs": [
        {
          "output_type": "stream",
          "name": "stdout",
          "text": [
            "<class 'pandas.core.frame.DataFrame'>\n",
            "RangeIndex: 16605 entries, 0 to 16604\n",
            "Data columns (total 41 columns):\n",
            " #   Column                    Non-Null Count  Dtype         \n",
            "---  ------                    --------------  -----         \n",
            " 0   agent_related             16605 non-null  object        \n",
            " 1   appointment_participants  12313 non-null  object        \n",
            " 2   client_collected          8957 non-null   object        \n",
            " 3   client_list               16486 non-null  object        \n",
            " 4   collect_scheduled_date    16602 non-null  datetime64[ns]\n",
            " 5   collect_token             16605 non-null  object        \n",
            " 6   confirmed                 2915 non-null   category      \n",
            " 7   datetime_from             16604 non-null  datetime64[ns]\n",
            " 8   details                   2268 non-null   object        \n",
            " 9   hamper_confirmation_type  7025 non-null   category      \n",
            " 10  hamper_type               16605 non-null  category      \n",
            " 11  pickup_date               7025 non-null   datetime64[ns]\n",
            " 12  pickup_location           16605 non-null  object        \n",
            " 13  quantity                  16605 non-null  int64         \n",
            " 14  related_scheduler         16600 non-null  object        \n",
            " 15  title                     16605 non-null  category      \n",
            " 16  unique_client             16486 non-null  object        \n",
            " 17  Creation Date_x           16605 non-null  datetime64[ns]\n",
            " 18  Modified Date_x           16605 non-null  datetime64[ns]\n",
            " 19  Creator_x                 16605 non-null  object        \n",
            " 20  unique id                 16605 non-null  object        \n",
            " 21  address                   15801 non-null  object        \n",
            " 22  age                       16042 non-null  float64       \n",
            " 23  birthdates                16023 non-null  datetime64[ns]\n",
            " 24  contact_frequency         2621 non-null   category      \n",
            " 25  date_reopened             4649 non-null   datetime64[ns]\n",
            " 26  dependents_qty            16379 non-null  float64       \n",
            " 27  external_id               13683 non-null  object        \n",
            " 28  family                    16439 non-null  object        \n",
            " 29  household                 16195 non-null  category      \n",
            " 30  podio_created_on          13249 non-null  datetime64[ns]\n",
            " 31  preferred_languages       15790 non-null  category      \n",
            " 32  primary_client_key        510 non-null    float64       \n",
            " 33  primary_contact           15752 non-null  object        \n",
            " 34  sex_new                   14992 non-null  category      \n",
            " 35  status                    16486 non-null  category      \n",
            " 36  Creation Date_y           16486 non-null  datetime64[ns]\n",
            " 37  Modified Date_y           16486 non-null  datetime64[ns]\n",
            " 38  Slug                      16486 non-null  object        \n",
            " 39  Creator_y                 16486 non-null  object        \n",
            " 40  unique id_y               16486 non-null  object        \n",
            "dtypes: category(9), datetime64[ns](10), float64(3), int64(1), object(18)\n",
            "memory usage: 4.2+ MB\n"
          ]
        }
      ]
    },
    {
      "cell_type": "markdown",
      "source": [
        "We drop the columns that are no longer needed which means that for our predictions we don't need them."
      ],
      "metadata": {
        "id": "wJPu2nv3qxIF"
      }
    },
    {
      "cell_type": "code",
      "source": [
        "# drop column not necessary\n",
        "merged_data = merged_data.drop(columns=['appointment_participants','client_collected','client_list','details','hamper_type','Creator_x','Creator_y','podio_created_on','unique id_y','Slug'])"
      ],
      "metadata": {
        "id": "gF1c4YQ9xlqP"
      },
      "execution_count": null,
      "outputs": []
    },
    {
      "cell_type": "code",
      "source": [
        "# print unique from sex column\n",
        "print(merged_data['sex_new'].unique())"
      ],
      "metadata": {
        "colab": {
          "base_uri": "https://localhost:8080/"
        },
        "id": "-p4o5XzU2lXR",
        "outputId": "21473aa7-fe13-4833-9a94-26394e41fc34"
      },
      "execution_count": null,
      "outputs": [
        {
          "output_type": "stream",
          "name": "stdout",
          "text": [
            "[NaN, 'Female', 'Male', ' Female']\n",
            "Categories (5, object): [' Female', 'Female', 'Male', 'Other Sexual and/or Gender Identity',\n",
            "                         'Transgender']\n"
          ]
        }
      ]
    },
    {
      "cell_type": "markdown",
      "source": [
        "To have more clear observations about the gender we only keep three gender that are male female and undefined that is if the gender is unknown or they belong to any other gender they are labelled as undefined."
      ],
      "metadata": {
        "id": "EIJrXclPrUH1"
      }
    },
    {
      "cell_type": "code",
      "source": [
        "# Convert to string and clean spaces\n",
        "merged_data['sex_new'] = merged_data['sex_new'].astype(str).str.strip()\n",
        "\n",
        "# Print unique values before mapping\n",
        "print(\"Before Mapping - Unique Values in 'sex_new':\")\n",
        "print(merged_data['sex_new'].unique())\n",
        "\n",
        "# Standardizing gender labels\n",
        "gender_mapping = {\n",
        "    ' Female': 'Female',  # Fix spacing issue\n",
        "    'Other Sexual and/or Gender Identity': 'Undefined',\n",
        "    'Transgender': 'Undefined',\n",
        "}\n",
        "\n",
        "# Apply mapping\n",
        "merged_data['sex_new'] = merged_data['sex_new'].replace(gender_mapping)\n",
        "\n",
        "# Convert to categorical with forced 4 categories\n",
        "merged_data['sex_new'] = pd.Categorical(\n",
        "    merged_data['sex_new'],\n",
        "    categories=['Female', 'Male', 'Undefined']\n",
        ")\n",
        "\n",
        "# Ensure NaN values are properly assigned to \"Undefined\"\n",
        "merged_data.loc[merged_data['sex_new'].isna(), 'sex_new'] = 'Undefined'\n",
        "\n",
        "# Rename column\n",
        "merged_data.rename(columns={'sex_new': 'Sex'}, inplace=True)\n",
        "\n",
        "# Print updated unique values\n",
        "print(\"\\nAfter Mapping - Unique Values in 'Sex' column:\")\n",
        "print(merged_data['Sex'].value_counts(dropna=False))\n"
      ],
      "metadata": {
        "colab": {
          "base_uri": "https://localhost:8080/"
        },
        "id": "VUOwsznZ8UOh",
        "outputId": "da7a6af8-643c-4422-c2e9-66c0d26fa653"
      },
      "execution_count": null,
      "outputs": [
        {
          "output_type": "stream",
          "name": "stdout",
          "text": [
            "Before Mapping - Unique Values in 'sex_new':\n",
            "['nan' 'Female' 'Male']\n",
            "\n",
            "After Mapping - Unique Values in 'Sex' column:\n",
            "Sex\n",
            "Male         7715\n",
            "Female       7277\n",
            "Undefined    1613\n",
            "Name: count, dtype: int64\n"
          ]
        }
      ]
    },
    {
      "cell_type": "markdown",
      "source": [
        "For the status column we have some of the unused categories which we change remove and keep only the columns that are used and update the count to avoid any misleading observations."
      ],
      "metadata": {
        "id": "3RhJR2APrt3R"
      }
    },
    {
      "cell_type": "code",
      "source": [
        "# print status column unique\n",
        "print(merged_data['status'].unique())"
      ],
      "metadata": {
        "colab": {
          "base_uri": "https://localhost:8080/"
        },
        "id": "AKdNReUz9rqp",
        "outputId": "065a1a86-890f-45a8-9c7d-6856c5d7b33b"
      },
      "execution_count": null,
      "outputs": [
        {
          "output_type": "stream",
          "name": "stdout",
          "text": [
            "[NaN, 'Active', 'Closed', 'Pending', 'Outreach', 'Flagged']\n",
            "Categories (8, object): ['Active', 'Closed', 'Does not Qualify', 'Draft', 'Flagged', 'Outreach',\n",
            "                         'Pending', 'Suspended']\n"
          ]
        }
      ]
    },
    {
      "cell_type": "code",
      "source": [
        "# Get all unique values that are present in the dataset\n",
        "actual_values = merged_data['status'].unique()\n",
        "\n",
        "# Get all predefined categories\n",
        "all_categories = merged_data['status'].dtype.categories\n",
        "\n",
        "# Find missing categories\n",
        "missing_categories = set(all_categories) - set(actual_values)\n",
        "\n",
        "print(f\"Categories in dtype but missing in actual data: {missing_categories}\")\n"
      ],
      "metadata": {
        "colab": {
          "base_uri": "https://localhost:8080/"
        },
        "id": "5_UznGEW-LDM",
        "outputId": "defe0cde-895c-4a29-e4fd-8dd1c698f995"
      },
      "execution_count": null,
      "outputs": [
        {
          "output_type": "stream",
          "name": "stdout",
          "text": [
            "Categories in dtype but missing in actual data: {'Draft', 'Does not Qualify', 'Suspended'}\n"
          ]
        }
      ]
    },
    {
      "cell_type": "code",
      "source": [
        "# Ensure the column exists and is categorical before modifying\n",
        "if 'status' in merged_data.columns and pd.api.types.is_categorical_dtype(merged_data['status']):\n",
        "    # Remove unused categories\n",
        "    merged_data['status'] = merged_data['status'].cat.remove_unused_categories()\n",
        "\n",
        "    # Count values including NaN\n",
        "    status_counts = merged_data['status'].value_counts(dropna=False)  # Keeping NaN in count\n",
        "\n",
        "    # Print updated count including NaN\n",
        "    print(\"Updated 'status' column value counts (including NaN):\")\n",
        "    print(status_counts)\n",
        "else:\n",
        "    print(\"Column 'status' does not exist or is not categorical in merged_data.\")\n"
      ],
      "metadata": {
        "colab": {
          "base_uri": "https://localhost:8080/"
        },
        "id": "Qj5WsA-i-PA-",
        "outputId": "13121ce5-1029-40f2-a05c-7bf8f0a31124"
      },
      "execution_count": null,
      "outputs": [
        {
          "output_type": "stream",
          "name": "stdout",
          "text": [
            "Updated 'status' column value counts (including NaN):\n",
            "status\n",
            "Active      15620\n",
            "Closed        610\n",
            "Pending       211\n",
            "NaN           119\n",
            "Outreach       31\n",
            "Flagged        14\n",
            "Name: count, dtype: int64\n"
          ]
        },
        {
          "output_type": "stream",
          "name": "stderr",
          "text": [
            "<ipython-input-38-0a635291a1c9>:2: DeprecationWarning: is_categorical_dtype is deprecated and will be removed in a future version. Use isinstance(dtype, pd.CategoricalDtype) instead\n",
            "  if 'status' in merged_data.columns and pd.api.types.is_categorical_dtype(merged_data['status']):\n"
          ]
        }
      ]
    },
    {
      "cell_type": "code",
      "source": [
        "merged_data.head(5)"
      ],
      "metadata": {
        "colab": {
          "base_uri": "https://localhost:8080/",
          "height": 273
        },
        "id": "O-NGKDliLwcI",
        "outputId": "ff4bfedf-f74e-4cea-94c0-824b67ff0b55"
      },
      "execution_count": null,
      "outputs": [
        {
          "output_type": "execute_result",
          "data": {
            "text/plain": [
              "                      agent_related collect_scheduled_date collect_token  \\\n",
              "0  1689771309517x402134288376915900             2023-07-27        9CHJ75   \n",
              "1  1689771309517x402134288376915900             2023-08-26        1VYMC5   \n",
              "2  1689771309517x402134288376915900             2023-09-25        QHWDXG   \n",
              "3  1689771309517x402134288376915900             2023-10-25        6SAN43   \n",
              "4  1689771309517x402134288376915900             2023-11-24        TMXAOB   \n",
              "\n",
              "  confirmed datetime_from hamper_confirmation_type pickup_date  \\\n",
              "0       NaN    2023-07-27                      NaN         NaT   \n",
              "1       NaN    2023-08-26                      NaN         NaT   \n",
              "2       NaN    2023-09-25                      NaN         NaT   \n",
              "3       NaN    2023-10-25                      NaN         NaT   \n",
              "4       NaN    2023-11-24                      NaN         NaT   \n",
              "\n",
              "                    pickup_location  quantity  \\\n",
              "0  1689345971878x737827531391241900         1   \n",
              "1  1689345971878x737827531391241900         1   \n",
              "2  1689345971878x737827531391241900         1   \n",
              "3  1689345971878x737827531391241900         1   \n",
              "4  1689345971878x737827531391241900         1   \n",
              "\n",
              "                  related_scheduler  ... external_id family household  \\\n",
              "0  1690484248195x781303437208059900  ...         NaN    NaN       NaN   \n",
              "1  1690484248195x781303437208059900  ...         NaN    NaN       NaN   \n",
              "2  1690484248195x781303437208059900  ...         NaN    NaN       NaN   \n",
              "3  1690484248195x781303437208059900  ...         NaN    NaN       NaN   \n",
              "4  1690484248195x781303437208059900  ...         NaN    NaN       NaN   \n",
              "\n",
              "  preferred_languages primary_client_key primary_contact        Sex status  \\\n",
              "0                 NaN                NaN             NaN  Undefined    NaN   \n",
              "1                 NaN                NaN             NaN  Undefined    NaN   \n",
              "2                 NaN                NaN             NaN  Undefined    NaN   \n",
              "3                 NaN                NaN             NaN  Undefined    NaN   \n",
              "4                 NaN                NaN             NaN  Undefined    NaN   \n",
              "\n",
              "  Creation Date_y Modified Date_y  \n",
              "0             NaT             NaT  \n",
              "1             NaT             NaT  \n",
              "2             NaT             NaT  \n",
              "3             NaT             NaT  \n",
              "4             NaT             NaT  \n",
              "\n",
              "[5 rows x 31 columns]"
            ],
            "text/html": [
              "\n",
              "  <div id=\"df-9a0a709d-7b16-4b18-ba77-3872aee16261\" class=\"colab-df-container\">\n",
              "    <div>\n",
              "<style scoped>\n",
              "    .dataframe tbody tr th:only-of-type {\n",
              "        vertical-align: middle;\n",
              "    }\n",
              "\n",
              "    .dataframe tbody tr th {\n",
              "        vertical-align: top;\n",
              "    }\n",
              "\n",
              "    .dataframe thead th {\n",
              "        text-align: right;\n",
              "    }\n",
              "</style>\n",
              "<table border=\"1\" class=\"dataframe\">\n",
              "  <thead>\n",
              "    <tr style=\"text-align: right;\">\n",
              "      <th></th>\n",
              "      <th>agent_related</th>\n",
              "      <th>collect_scheduled_date</th>\n",
              "      <th>collect_token</th>\n",
              "      <th>confirmed</th>\n",
              "      <th>datetime_from</th>\n",
              "      <th>hamper_confirmation_type</th>\n",
              "      <th>pickup_date</th>\n",
              "      <th>pickup_location</th>\n",
              "      <th>quantity</th>\n",
              "      <th>related_scheduler</th>\n",
              "      <th>...</th>\n",
              "      <th>external_id</th>\n",
              "      <th>family</th>\n",
              "      <th>household</th>\n",
              "      <th>preferred_languages</th>\n",
              "      <th>primary_client_key</th>\n",
              "      <th>primary_contact</th>\n",
              "      <th>Sex</th>\n",
              "      <th>status</th>\n",
              "      <th>Creation Date_y</th>\n",
              "      <th>Modified Date_y</th>\n",
              "    </tr>\n",
              "  </thead>\n",
              "  <tbody>\n",
              "    <tr>\n",
              "      <th>0</th>\n",
              "      <td>1689771309517x402134288376915900</td>\n",
              "      <td>2023-07-27</td>\n",
              "      <td>9CHJ75</td>\n",
              "      <td>NaN</td>\n",
              "      <td>2023-07-27</td>\n",
              "      <td>NaN</td>\n",
              "      <td>NaT</td>\n",
              "      <td>1689345971878x737827531391241900</td>\n",
              "      <td>1</td>\n",
              "      <td>1690484248195x781303437208059900</td>\n",
              "      <td>...</td>\n",
              "      <td>NaN</td>\n",
              "      <td>NaN</td>\n",
              "      <td>NaN</td>\n",
              "      <td>NaN</td>\n",
              "      <td>NaN</td>\n",
              "      <td>NaN</td>\n",
              "      <td>Undefined</td>\n",
              "      <td>NaN</td>\n",
              "      <td>NaT</td>\n",
              "      <td>NaT</td>\n",
              "    </tr>\n",
              "    <tr>\n",
              "      <th>1</th>\n",
              "      <td>1689771309517x402134288376915900</td>\n",
              "      <td>2023-08-26</td>\n",
              "      <td>1VYMC5</td>\n",
              "      <td>NaN</td>\n",
              "      <td>2023-08-26</td>\n",
              "      <td>NaN</td>\n",
              "      <td>NaT</td>\n",
              "      <td>1689345971878x737827531391241900</td>\n",
              "      <td>1</td>\n",
              "      <td>1690484248195x781303437208059900</td>\n",
              "      <td>...</td>\n",
              "      <td>NaN</td>\n",
              "      <td>NaN</td>\n",
              "      <td>NaN</td>\n",
              "      <td>NaN</td>\n",
              "      <td>NaN</td>\n",
              "      <td>NaN</td>\n",
              "      <td>Undefined</td>\n",
              "      <td>NaN</td>\n",
              "      <td>NaT</td>\n",
              "      <td>NaT</td>\n",
              "    </tr>\n",
              "    <tr>\n",
              "      <th>2</th>\n",
              "      <td>1689771309517x402134288376915900</td>\n",
              "      <td>2023-09-25</td>\n",
              "      <td>QHWDXG</td>\n",
              "      <td>NaN</td>\n",
              "      <td>2023-09-25</td>\n",
              "      <td>NaN</td>\n",
              "      <td>NaT</td>\n",
              "      <td>1689345971878x737827531391241900</td>\n",
              "      <td>1</td>\n",
              "      <td>1690484248195x781303437208059900</td>\n",
              "      <td>...</td>\n",
              "      <td>NaN</td>\n",
              "      <td>NaN</td>\n",
              "      <td>NaN</td>\n",
              "      <td>NaN</td>\n",
              "      <td>NaN</td>\n",
              "      <td>NaN</td>\n",
              "      <td>Undefined</td>\n",
              "      <td>NaN</td>\n",
              "      <td>NaT</td>\n",
              "      <td>NaT</td>\n",
              "    </tr>\n",
              "    <tr>\n",
              "      <th>3</th>\n",
              "      <td>1689771309517x402134288376915900</td>\n",
              "      <td>2023-10-25</td>\n",
              "      <td>6SAN43</td>\n",
              "      <td>NaN</td>\n",
              "      <td>2023-10-25</td>\n",
              "      <td>NaN</td>\n",
              "      <td>NaT</td>\n",
              "      <td>1689345971878x737827531391241900</td>\n",
              "      <td>1</td>\n",
              "      <td>1690484248195x781303437208059900</td>\n",
              "      <td>...</td>\n",
              "      <td>NaN</td>\n",
              "      <td>NaN</td>\n",
              "      <td>NaN</td>\n",
              "      <td>NaN</td>\n",
              "      <td>NaN</td>\n",
              "      <td>NaN</td>\n",
              "      <td>Undefined</td>\n",
              "      <td>NaN</td>\n",
              "      <td>NaT</td>\n",
              "      <td>NaT</td>\n",
              "    </tr>\n",
              "    <tr>\n",
              "      <th>4</th>\n",
              "      <td>1689771309517x402134288376915900</td>\n",
              "      <td>2023-11-24</td>\n",
              "      <td>TMXAOB</td>\n",
              "      <td>NaN</td>\n",
              "      <td>2023-11-24</td>\n",
              "      <td>NaN</td>\n",
              "      <td>NaT</td>\n",
              "      <td>1689345971878x737827531391241900</td>\n",
              "      <td>1</td>\n",
              "      <td>1690484248195x781303437208059900</td>\n",
              "      <td>...</td>\n",
              "      <td>NaN</td>\n",
              "      <td>NaN</td>\n",
              "      <td>NaN</td>\n",
              "      <td>NaN</td>\n",
              "      <td>NaN</td>\n",
              "      <td>NaN</td>\n",
              "      <td>Undefined</td>\n",
              "      <td>NaN</td>\n",
              "      <td>NaT</td>\n",
              "      <td>NaT</td>\n",
              "    </tr>\n",
              "  </tbody>\n",
              "</table>\n",
              "<p>5 rows × 31 columns</p>\n",
              "</div>\n",
              "    <div class=\"colab-df-buttons\">\n",
              "\n",
              "  <div class=\"colab-df-container\">\n",
              "    <button class=\"colab-df-convert\" onclick=\"convertToInteractive('df-9a0a709d-7b16-4b18-ba77-3872aee16261')\"\n",
              "            title=\"Convert this dataframe to an interactive table.\"\n",
              "            style=\"display:none;\">\n",
              "\n",
              "  <svg xmlns=\"http://www.w3.org/2000/svg\" height=\"24px\" viewBox=\"0 -960 960 960\">\n",
              "    <path d=\"M120-120v-720h720v720H120Zm60-500h600v-160H180v160Zm220 220h160v-160H400v160Zm0 220h160v-160H400v160ZM180-400h160v-160H180v160Zm440 0h160v-160H620v160ZM180-180h160v-160H180v160Zm440 0h160v-160H620v160Z\"/>\n",
              "  </svg>\n",
              "    </button>\n",
              "\n",
              "  <style>\n",
              "    .colab-df-container {\n",
              "      display:flex;\n",
              "      gap: 12px;\n",
              "    }\n",
              "\n",
              "    .colab-df-convert {\n",
              "      background-color: #E8F0FE;\n",
              "      border: none;\n",
              "      border-radius: 50%;\n",
              "      cursor: pointer;\n",
              "      display: none;\n",
              "      fill: #1967D2;\n",
              "      height: 32px;\n",
              "      padding: 0 0 0 0;\n",
              "      width: 32px;\n",
              "    }\n",
              "\n",
              "    .colab-df-convert:hover {\n",
              "      background-color: #E2EBFA;\n",
              "      box-shadow: 0px 1px 2px rgba(60, 64, 67, 0.3), 0px 1px 3px 1px rgba(60, 64, 67, 0.15);\n",
              "      fill: #174EA6;\n",
              "    }\n",
              "\n",
              "    .colab-df-buttons div {\n",
              "      margin-bottom: 4px;\n",
              "    }\n",
              "\n",
              "    [theme=dark] .colab-df-convert {\n",
              "      background-color: #3B4455;\n",
              "      fill: #D2E3FC;\n",
              "    }\n",
              "\n",
              "    [theme=dark] .colab-df-convert:hover {\n",
              "      background-color: #434B5C;\n",
              "      box-shadow: 0px 1px 3px 1px rgba(0, 0, 0, 0.15);\n",
              "      filter: drop-shadow(0px 1px 2px rgba(0, 0, 0, 0.3));\n",
              "      fill: #FFFFFF;\n",
              "    }\n",
              "  </style>\n",
              "\n",
              "    <script>\n",
              "      const buttonEl =\n",
              "        document.querySelector('#df-9a0a709d-7b16-4b18-ba77-3872aee16261 button.colab-df-convert');\n",
              "      buttonEl.style.display =\n",
              "        google.colab.kernel.accessAllowed ? 'block' : 'none';\n",
              "\n",
              "      async function convertToInteractive(key) {\n",
              "        const element = document.querySelector('#df-9a0a709d-7b16-4b18-ba77-3872aee16261');\n",
              "        const dataTable =\n",
              "          await google.colab.kernel.invokeFunction('convertToInteractive',\n",
              "                                                    [key], {});\n",
              "        if (!dataTable) return;\n",
              "\n",
              "        const docLinkHtml = 'Like what you see? Visit the ' +\n",
              "          '<a target=\"_blank\" href=https://colab.research.google.com/notebooks/data_table.ipynb>data table notebook</a>'\n",
              "          + ' to learn more about interactive tables.';\n",
              "        element.innerHTML = '';\n",
              "        dataTable['output_type'] = 'display_data';\n",
              "        await google.colab.output.renderOutput(dataTable, element);\n",
              "        const docLink = document.createElement('div');\n",
              "        docLink.innerHTML = docLinkHtml;\n",
              "        element.appendChild(docLink);\n",
              "      }\n",
              "    </script>\n",
              "  </div>\n",
              "\n",
              "\n",
              "<div id=\"df-d7afed0e-3012-458d-81af-7c96c1fca9b5\">\n",
              "  <button class=\"colab-df-quickchart\" onclick=\"quickchart('df-d7afed0e-3012-458d-81af-7c96c1fca9b5')\"\n",
              "            title=\"Suggest charts\"\n",
              "            style=\"display:none;\">\n",
              "\n",
              "<svg xmlns=\"http://www.w3.org/2000/svg\" height=\"24px\"viewBox=\"0 0 24 24\"\n",
              "     width=\"24px\">\n",
              "    <g>\n",
              "        <path d=\"M19 3H5c-1.1 0-2 .9-2 2v14c0 1.1.9 2 2 2h14c1.1 0 2-.9 2-2V5c0-1.1-.9-2-2-2zM9 17H7v-7h2v7zm4 0h-2V7h2v10zm4 0h-2v-4h2v4z\"/>\n",
              "    </g>\n",
              "</svg>\n",
              "  </button>\n",
              "\n",
              "<style>\n",
              "  .colab-df-quickchart {\n",
              "      --bg-color: #E8F0FE;\n",
              "      --fill-color: #1967D2;\n",
              "      --hover-bg-color: #E2EBFA;\n",
              "      --hover-fill-color: #174EA6;\n",
              "      --disabled-fill-color: #AAA;\n",
              "      --disabled-bg-color: #DDD;\n",
              "  }\n",
              "\n",
              "  [theme=dark] .colab-df-quickchart {\n",
              "      --bg-color: #3B4455;\n",
              "      --fill-color: #D2E3FC;\n",
              "      --hover-bg-color: #434B5C;\n",
              "      --hover-fill-color: #FFFFFF;\n",
              "      --disabled-bg-color: #3B4455;\n",
              "      --disabled-fill-color: #666;\n",
              "  }\n",
              "\n",
              "  .colab-df-quickchart {\n",
              "    background-color: var(--bg-color);\n",
              "    border: none;\n",
              "    border-radius: 50%;\n",
              "    cursor: pointer;\n",
              "    display: none;\n",
              "    fill: var(--fill-color);\n",
              "    height: 32px;\n",
              "    padding: 0;\n",
              "    width: 32px;\n",
              "  }\n",
              "\n",
              "  .colab-df-quickchart:hover {\n",
              "    background-color: var(--hover-bg-color);\n",
              "    box-shadow: 0 1px 2px rgba(60, 64, 67, 0.3), 0 1px 3px 1px rgba(60, 64, 67, 0.15);\n",
              "    fill: var(--button-hover-fill-color);\n",
              "  }\n",
              "\n",
              "  .colab-df-quickchart-complete:disabled,\n",
              "  .colab-df-quickchart-complete:disabled:hover {\n",
              "    background-color: var(--disabled-bg-color);\n",
              "    fill: var(--disabled-fill-color);\n",
              "    box-shadow: none;\n",
              "  }\n",
              "\n",
              "  .colab-df-spinner {\n",
              "    border: 2px solid var(--fill-color);\n",
              "    border-color: transparent;\n",
              "    border-bottom-color: var(--fill-color);\n",
              "    animation:\n",
              "      spin 1s steps(1) infinite;\n",
              "  }\n",
              "\n",
              "  @keyframes spin {\n",
              "    0% {\n",
              "      border-color: transparent;\n",
              "      border-bottom-color: var(--fill-color);\n",
              "      border-left-color: var(--fill-color);\n",
              "    }\n",
              "    20% {\n",
              "      border-color: transparent;\n",
              "      border-left-color: var(--fill-color);\n",
              "      border-top-color: var(--fill-color);\n",
              "    }\n",
              "    30% {\n",
              "      border-color: transparent;\n",
              "      border-left-color: var(--fill-color);\n",
              "      border-top-color: var(--fill-color);\n",
              "      border-right-color: var(--fill-color);\n",
              "    }\n",
              "    40% {\n",
              "      border-color: transparent;\n",
              "      border-right-color: var(--fill-color);\n",
              "      border-top-color: var(--fill-color);\n",
              "    }\n",
              "    60% {\n",
              "      border-color: transparent;\n",
              "      border-right-color: var(--fill-color);\n",
              "    }\n",
              "    80% {\n",
              "      border-color: transparent;\n",
              "      border-right-color: var(--fill-color);\n",
              "      border-bottom-color: var(--fill-color);\n",
              "    }\n",
              "    90% {\n",
              "      border-color: transparent;\n",
              "      border-bottom-color: var(--fill-color);\n",
              "    }\n",
              "  }\n",
              "</style>\n",
              "\n",
              "  <script>\n",
              "    async function quickchart(key) {\n",
              "      const quickchartButtonEl =\n",
              "        document.querySelector('#' + key + ' button');\n",
              "      quickchartButtonEl.disabled = true;  // To prevent multiple clicks.\n",
              "      quickchartButtonEl.classList.add('colab-df-spinner');\n",
              "      try {\n",
              "        const charts = await google.colab.kernel.invokeFunction(\n",
              "            'suggestCharts', [key], {});\n",
              "      } catch (error) {\n",
              "        console.error('Error during call to suggestCharts:', error);\n",
              "      }\n",
              "      quickchartButtonEl.classList.remove('colab-df-spinner');\n",
              "      quickchartButtonEl.classList.add('colab-df-quickchart-complete');\n",
              "    }\n",
              "    (() => {\n",
              "      let quickchartButtonEl =\n",
              "        document.querySelector('#df-d7afed0e-3012-458d-81af-7c96c1fca9b5 button');\n",
              "      quickchartButtonEl.style.display =\n",
              "        google.colab.kernel.accessAllowed ? 'block' : 'none';\n",
              "    })();\n",
              "  </script>\n",
              "</div>\n",
              "\n",
              "    </div>\n",
              "  </div>\n"
            ],
            "application/vnd.google.colaboratory.intrinsic+json": {
              "type": "dataframe",
              "variable_name": "merged_data"
            }
          },
          "metadata": {},
          "execution_count": 39
        }
      ]
    },
    {
      "cell_type": "code",
      "source": [
        "merged_data.shape"
      ],
      "metadata": {
        "colab": {
          "base_uri": "https://localhost:8080/"
        },
        "id": "yTUnrmSSYNfC",
        "outputId": "cdcf59f0-e185-4bb1-e696-f9f95ff4fb59"
      },
      "execution_count": null,
      "outputs": [
        {
          "output_type": "execute_result",
          "data": {
            "text/plain": [
              "(16605, 31)"
            ]
          },
          "metadata": {},
          "execution_count": 40
        }
      ]
    },
    {
      "cell_type": "code",
      "source": [
        "for col in merged_data.columns:\n",
        "    print(f\"{col}: {merged_data[col].nunique()} unique values, {merged_data[col].isnull().sum()} missing values\")\n"
      ],
      "metadata": {
        "colab": {
          "base_uri": "https://localhost:8080/"
        },
        "id": "aRE3GpnIXml8",
        "outputId": "f144f6ca-99e0-41dd-a837-a44af1bed8eb"
      },
      "execution_count": null,
      "outputs": [
        {
          "output_type": "stream",
          "name": "stdout",
          "text": [
            "agent_related: 16 unique values, 0 missing values\n",
            "collect_scheduled_date: 796 unique values, 3 missing values\n",
            "collect_token: 13786 unique values, 0 missing values\n",
            "confirmed: 2 unique values, 13690 missing values\n",
            "datetime_from: 799 unique values, 1 missing values\n",
            "hamper_confirmation_type: 4 unique values, 9580 missing values\n",
            "pickup_date: 5733 unique values, 9580 missing values\n",
            "pickup_location: 1 unique values, 0 missing values\n",
            "quantity: 2 unique values, 0 missing values\n",
            "related_scheduler: 2050 unique values, 5 missing values\n",
            "title: 86 unique values, 0 missing values\n",
            "unique_client: 1051 unique values, 119 missing values\n",
            "Creation Date_x: 2477 unique values, 0 missing values\n",
            "Modified Date_x: 4203 unique values, 0 missing values\n",
            "unique id: 16605 unique values, 0 missing values\n",
            "address: 950 unique values, 804 missing values\n",
            "age: 76 unique values, 563 missing values\n",
            "birthdates: 840 unique values, 582 missing values\n",
            "contact_frequency: 2 unique values, 13984 missing values\n",
            "date_reopened: 272 unique values, 11956 missing values\n",
            "dependents_qty: 13 unique values, 226 missing values\n",
            "external_id: 849 unique values, 2922 missing values\n",
            "family: 1037 unique values, 166 missing values\n",
            "household: 2 unique values, 410 missing values\n",
            "preferred_languages: 98 unique values, 815 missing values\n",
            "primary_client_key: 41 unique values, 16095 missing values\n",
            "primary_contact: 1002 unique values, 853 missing values\n",
            "Sex: 3 unique values, 0 missing values\n",
            "status: 5 unique values, 119 missing values\n",
            "Creation Date_y: 251 unique values, 119 missing values\n",
            "Modified Date_y: 714 unique values, 119 missing values\n"
          ]
        }
      ]
    },
    {
      "cell_type": "code",
      "source": [
        "# group by family\n",
        "family_data = merged_data.groupby(['family'])"
      ],
      "metadata": {
        "id": "i3pJOQTcRlLD"
      },
      "execution_count": null,
      "outputs": []
    },
    {
      "cell_type": "markdown",
      "source": [
        "To handle the missing values for birthdates we convert the missing values to -1 which stands for unknown. We convert it to -1 instead of unknown so that we can convert the datatype to integer"
      ],
      "metadata": {
        "id": "wyGbTF4uoBcn"
      }
    },
    {
      "cell_type": "code",
      "source": [
        "#Drop birthdates\n",
        "merged_data = merged_data.drop(columns=['birthdates'])"
      ],
      "metadata": {
        "id": "pybqrI_1jSi5"
      },
      "execution_count": null,
      "outputs": []
    },
    {
      "cell_type": "code",
      "source": [
        "# checking the unique values for age\n",
        "unique_values = merged_data['age'].unique()\n",
        "print(unique_values)"
      ],
      "metadata": {
        "colab": {
          "base_uri": "https://localhost:8080/"
        },
        "id": "p9r6QdPflvfi",
        "outputId": "b4ee7064-464b-48ad-9b85-69feb4eed80e"
      },
      "execution_count": null,
      "outputs": [
        {
          "output_type": "stream",
          "name": "stdout",
          "text": [
            "[nan 36. 32. 30. 40. 28. 45. 35. 41. 49. 22. 38. 54. 21. 72. 26. 37. 42.\n",
            " 34. 39. 31. 57. 63. 66. 51. 50. 43. 46. 33. 69. 82. 55. 78. 48. 56. 59.\n",
            " 44. 74. 70. 60. 52. 65. 24. 47. 61. 53. 25. 77. 84. 20. 75.  0. 68. 58.\n",
            " 29. 27. 64. 71. 83. 67. 17. 18. 76. 23. 62. 80. 11. 13.  3.  2. 14. 10.\n",
            " 86.  7. 16.  1.  4.]\n"
          ]
        }
      ]
    },
    {
      "cell_type": "markdown",
      "source": [
        "We create the bins for the age column to look at specific age group as there are alot of unique values for the age we can bin them look which age group is receiving most of the hampers and which age group is more likely to come back."
      ],
      "metadata": {
        "id": "AslJC0AAs3Z3"
      }
    },
    {
      "cell_type": "code",
      "source": [
        "\n",
        "# Ensure 'age' has no infinite values\n",
        "merged_data['age'] = merged_data['age'].replace([np.inf, -np.inf], np.nan)\n",
        "\n",
        "# Define Age Groups\n",
        "bins = [0, 18, 35, 60, 100]\n",
        "labels = ['0-18', '19-35', '36-60', '60+']\n",
        "\n",
        "# Create 'age_group' column\n",
        "merged_data['age_group'] = pd.cut(merged_data['age'], bins=bins, labels=labels, right=False)\n",
        "\n",
        "# Fill NaN values with 'Undefined'\n",
        "merged_data['age_group'] = merged_data['age_group'].cat.add_categories(['Undefined'])  # Ensure 'Undefined' is a category\n",
        "merged_data['age_group'].fillna('Undefined', inplace=True)  # Replace NaN with 'Undefined'\n",
        "\n",
        "# Verify Results\n",
        "print(\"✅ Unique values in 'age_group':\", merged_data['age_group'].unique())\n",
        "print(\"✅ Count per Age Group:\")\n",
        "print(merged_data['age_group'].value_counts())\n"
      ],
      "metadata": {
        "colab": {
          "base_uri": "https://localhost:8080/"
        },
        "id": "B9xgEgBpnSOn",
        "outputId": "2c71346e-1757-4038-bcf6-7bc9479ad84c"
      },
      "execution_count": null,
      "outputs": [
        {
          "output_type": "stream",
          "name": "stdout",
          "text": [
            "✅ Unique values in 'age_group': ['Undefined', '36-60', '19-35', '60+', '0-18']\n",
            "Categories (5, object): ['0-18' < '19-35' < '36-60' < '60+' < 'Undefined']\n",
            "✅ Count per Age Group:\n",
            "age_group\n",
            "36-60        10581\n",
            "19-35         3635\n",
            "60+           1699\n",
            "Undefined      563\n",
            "0-18           127\n",
            "Name: count, dtype: int64\n"
          ]
        },
        {
          "output_type": "stream",
          "name": "stderr",
          "text": [
            "<ipython-input-45-68288688f32c>:13: FutureWarning: A value is trying to be set on a copy of a DataFrame or Series through chained assignment using an inplace method.\n",
            "The behavior will change in pandas 3.0. This inplace method will never work because the intermediate object on which we are setting values always behaves as a copy.\n",
            "\n",
            "For example, when doing 'df[col].method(value, inplace=True)', try using 'df.method({col: value}, inplace=True)' or df[col] = df[col].method(value) instead, to perform the operation inplace on the original object.\n",
            "\n",
            "\n",
            "  merged_data['age_group'].fillna('Undefined', inplace=True)  # Replace NaN with 'Undefined'\n"
          ]
        }
      ]
    },
    {
      "cell_type": "code",
      "source": [
        "# Check unique values in 'age_group'\n",
        "print(\"Unique values in 'age_group':\", merged_data['age_group'].unique())\n"
      ],
      "metadata": {
        "colab": {
          "base_uri": "https://localhost:8080/"
        },
        "id": "7dgR9BT1oyo7",
        "outputId": "a9673e81-c376-492d-e268-681bc8158c9e"
      },
      "execution_count": null,
      "outputs": [
        {
          "output_type": "stream",
          "name": "stdout",
          "text": [
            "Unique values in 'age_group': ['Undefined', '36-60', '19-35', '60+', '0-18']\n",
            "Categories (5, object): ['0-18' < '19-35' < '36-60' < '60+' < 'Undefined']\n"
          ]
        }
      ]
    },
    {
      "cell_type": "code",
      "source": [
        "#Unique values for dependent quantity\n",
        "unique_values = merged_data['dependents_qty'].unique()\n",
        "print(unique_values)"
      ],
      "metadata": {
        "colab": {
          "base_uri": "https://localhost:8080/"
        },
        "id": "xRODOJpxo_nq",
        "outputId": "7cc217f0-e4bb-467b-f5b6-2c472790e3cb"
      },
      "execution_count": null,
      "outputs": [
        {
          "output_type": "stream",
          "name": "stdout",
          "text": [
            "[nan  1.  6.  5.  2.  3.  9.  4.  7.  8. 12. 11. 10.  0.]\n"
          ]
        }
      ]
    },
    {
      "cell_type": "code",
      "source": [
        "# Filling the missing values with -1 to avoid messing with original data\n",
        "merged_data['dependents_qty'].fillna(-1, inplace=True)\n",
        "#Converting the Datatype to integer\n",
        "merged_data['dependents_qty'] = merged_data['dependents_qty'].astype(int)"
      ],
      "metadata": {
        "colab": {
          "base_uri": "https://localhost:8080/"
        },
        "id": "_F4LC7vopOcW",
        "outputId": "27973d64-ff2e-490a-e483-d60135314254"
      },
      "execution_count": null,
      "outputs": [
        {
          "output_type": "stream",
          "name": "stderr",
          "text": [
            "<ipython-input-48-afa5a2fd2c2b>:2: FutureWarning: A value is trying to be set on a copy of a DataFrame or Series through chained assignment using an inplace method.\n",
            "The behavior will change in pandas 3.0. This inplace method will never work because the intermediate object on which we are setting values always behaves as a copy.\n",
            "\n",
            "For example, when doing 'df[col].method(value, inplace=True)', try using 'df.method({col: value}, inplace=True)' or df[col] = df[col].method(value) instead, to perform the operation inplace on the original object.\n",
            "\n",
            "\n",
            "  merged_data['dependents_qty'].fillna(-1, inplace=True)\n"
          ]
        }
      ]
    },
    {
      "cell_type": "code",
      "source": [
        "merged_data.info()"
      ],
      "metadata": {
        "colab": {
          "base_uri": "https://localhost:8080/"
        },
        "id": "evbFKIQSpqYN",
        "outputId": "62c530ee-97ef-41a0-f35d-f04fa40beb17"
      },
      "execution_count": null,
      "outputs": [
        {
          "output_type": "stream",
          "name": "stdout",
          "text": [
            "<class 'pandas.core.frame.DataFrame'>\n",
            "RangeIndex: 16605 entries, 0 to 16604\n",
            "Data columns (total 31 columns):\n",
            " #   Column                    Non-Null Count  Dtype         \n",
            "---  ------                    --------------  -----         \n",
            " 0   agent_related             16605 non-null  object        \n",
            " 1   collect_scheduled_date    16602 non-null  datetime64[ns]\n",
            " 2   collect_token             16605 non-null  object        \n",
            " 3   confirmed                 2915 non-null   category      \n",
            " 4   datetime_from             16604 non-null  datetime64[ns]\n",
            " 5   hamper_confirmation_type  7025 non-null   category      \n",
            " 6   pickup_date               7025 non-null   datetime64[ns]\n",
            " 7   pickup_location           16605 non-null  object        \n",
            " 8   quantity                  16605 non-null  int64         \n",
            " 9   related_scheduler         16600 non-null  object        \n",
            " 10  title                     16605 non-null  category      \n",
            " 11  unique_client             16486 non-null  object        \n",
            " 12  Creation Date_x           16605 non-null  datetime64[ns]\n",
            " 13  Modified Date_x           16605 non-null  datetime64[ns]\n",
            " 14  unique id                 16605 non-null  object        \n",
            " 15  address                   15801 non-null  object        \n",
            " 16  age                       16042 non-null  float64       \n",
            " 17  contact_frequency         2621 non-null   category      \n",
            " 18  date_reopened             4649 non-null   datetime64[ns]\n",
            " 19  dependents_qty            16605 non-null  int64         \n",
            " 20  external_id               13683 non-null  object        \n",
            " 21  family                    16439 non-null  object        \n",
            " 22  household                 16195 non-null  category      \n",
            " 23  preferred_languages       15790 non-null  category      \n",
            " 24  primary_client_key        510 non-null    float64       \n",
            " 25  primary_contact           15752 non-null  object        \n",
            " 26  Sex                       16605 non-null  category      \n",
            " 27  status                    16486 non-null  category      \n",
            " 28  Creation Date_y           16486 non-null  datetime64[ns]\n",
            " 29  Modified Date_y           16486 non-null  datetime64[ns]\n",
            " 30  age_group                 16605 non-null  category      \n",
            "dtypes: category(9), datetime64[ns](8), float64(2), int64(2), object(10)\n",
            "memory usage: 3.0+ MB\n"
          ]
        }
      ]
    },
    {
      "cell_type": "code",
      "source": [
        "merged_data.describe()"
      ],
      "metadata": {
        "colab": {
          "base_uri": "https://localhost:8080/",
          "height": 424
        },
        "id": "KPeVetdhn8tn",
        "outputId": "0afaba36-cd92-4fd0-e04d-fc2e324cb1bd"
      },
      "execution_count": null,
      "outputs": [
        {
          "output_type": "execute_result",
          "data": {
            "text/plain": [
              "              collect_scheduled_date                  datetime_from  \\\n",
              "count                          16602                          16604   \n",
              "mean   2024-07-13 15:42:47.278641152  2024-07-13 15:39:57.853529088   \n",
              "min              2023-07-27 00:00:00            2023-07-27 00:00:00   \n",
              "25%              2024-04-06 03:00:00            2024-04-06 03:00:00   \n",
              "50%              2024-07-16 03:00:00            2024-07-16 03:00:00   \n",
              "75%              2024-10-21 03:00:00            2024-10-21 03:00:00   \n",
              "max              2025-09-06 03:00:00            2025-09-06 03:00:00   \n",
              "std                              NaN                            NaN   \n",
              "\n",
              "                         pickup_date      quantity  \\\n",
              "count                           7025  16605.000000   \n",
              "mean   2024-04-11 19:28:22.069751040      1.000120   \n",
              "min              2023-07-27 16:12:00      1.000000   \n",
              "25%              2024-02-01 17:00:00      1.000000   \n",
              "50%              2024-04-22 16:47:00      1.000000   \n",
              "75%              2024-06-24 14:20:00      1.000000   \n",
              "max              2024-08-26 15:13:00      2.000000   \n",
              "std                              NaN      0.010974   \n",
              "\n",
              "                     Creation Date_x                Modified Date_x  \\\n",
              "count                          16605                          16605   \n",
              "mean   2024-02-21 21:26:08.271003136  2024-05-08 23:09:34.634146304   \n",
              "min              2023-07-27 15:57:00            2023-07-27 15:57:00   \n",
              "25%              2023-12-12 17:13:00            2024-02-19 10:27:00   \n",
              "50%              2024-01-23 15:59:00            2024-05-02 16:53:00   \n",
              "75%              2024-04-05 18:24:00            2024-08-02 11:22:00   \n",
              "max              2024-08-26 14:36:00            2024-08-26 15:13:00   \n",
              "std                              NaN                            NaN   \n",
              "\n",
              "                age                  date_reopened  dependents_qty  \\\n",
              "count  16042.000000                           4649    16605.000000   \n",
              "mean      43.444334  2024-01-13 19:41:41.518605824        3.716953   \n",
              "min        0.000000            2023-01-06 19:11:00       -1.000000   \n",
              "25%       35.000000            2023-10-04 17:55:00        2.000000   \n",
              "50%       42.000000            2023-12-07 14:45:00        4.000000   \n",
              "75%       51.000000            2024-04-04 12:59:00        5.000000   \n",
              "max       86.000000            2024-08-23 16:36:00       12.000000   \n",
              "std       12.436332                            NaN        2.313427   \n",
              "\n",
              "       primary_client_key                Creation Date_y  \\\n",
              "count          510.000000                          16486   \n",
              "mean          3953.056863  2023-10-26 12:43:29.803469568   \n",
              "min            385.000000            2022-11-28 14:54:00   \n",
              "25%           2123.000000            2023-09-29 16:10:00   \n",
              "50%           2427.000000            2023-09-29 16:42:00   \n",
              "75%           6562.000000            2023-09-29 17:12:00   \n",
              "max           6980.000000            2024-08-23 16:36:00   \n",
              "std           2307.835265                            NaN   \n",
              "\n",
              "                     Modified Date_y  \n",
              "count                          16486  \n",
              "mean   2024-04-04 00:42:24.005822976  \n",
              "min              2023-11-14 09:17:00  \n",
              "25%              2024-01-11 15:24:00  \n",
              "50%              2024-03-27 15:57:00  \n",
              "75%              2024-06-01 17:22:00  \n",
              "max              2024-08-26 15:02:00  \n",
              "std                              NaN  "
            ],
            "text/html": [
              "\n",
              "  <div id=\"df-849f30bf-7aa2-4c1b-9114-5ae0ef29300d\" class=\"colab-df-container\">\n",
              "    <div>\n",
              "<style scoped>\n",
              "    .dataframe tbody tr th:only-of-type {\n",
              "        vertical-align: middle;\n",
              "    }\n",
              "\n",
              "    .dataframe tbody tr th {\n",
              "        vertical-align: top;\n",
              "    }\n",
              "\n",
              "    .dataframe thead th {\n",
              "        text-align: right;\n",
              "    }\n",
              "</style>\n",
              "<table border=\"1\" class=\"dataframe\">\n",
              "  <thead>\n",
              "    <tr style=\"text-align: right;\">\n",
              "      <th></th>\n",
              "      <th>collect_scheduled_date</th>\n",
              "      <th>datetime_from</th>\n",
              "      <th>pickup_date</th>\n",
              "      <th>quantity</th>\n",
              "      <th>Creation Date_x</th>\n",
              "      <th>Modified Date_x</th>\n",
              "      <th>age</th>\n",
              "      <th>date_reopened</th>\n",
              "      <th>dependents_qty</th>\n",
              "      <th>primary_client_key</th>\n",
              "      <th>Creation Date_y</th>\n",
              "      <th>Modified Date_y</th>\n",
              "    </tr>\n",
              "  </thead>\n",
              "  <tbody>\n",
              "    <tr>\n",
              "      <th>count</th>\n",
              "      <td>16602</td>\n",
              "      <td>16604</td>\n",
              "      <td>7025</td>\n",
              "      <td>16605.000000</td>\n",
              "      <td>16605</td>\n",
              "      <td>16605</td>\n",
              "      <td>16042.000000</td>\n",
              "      <td>4649</td>\n",
              "      <td>16605.000000</td>\n",
              "      <td>510.000000</td>\n",
              "      <td>16486</td>\n",
              "      <td>16486</td>\n",
              "    </tr>\n",
              "    <tr>\n",
              "      <th>mean</th>\n",
              "      <td>2024-07-13 15:42:47.278641152</td>\n",
              "      <td>2024-07-13 15:39:57.853529088</td>\n",
              "      <td>2024-04-11 19:28:22.069751040</td>\n",
              "      <td>1.000120</td>\n",
              "      <td>2024-02-21 21:26:08.271003136</td>\n",
              "      <td>2024-05-08 23:09:34.634146304</td>\n",
              "      <td>43.444334</td>\n",
              "      <td>2024-01-13 19:41:41.518605824</td>\n",
              "      <td>3.716953</td>\n",
              "      <td>3953.056863</td>\n",
              "      <td>2023-10-26 12:43:29.803469568</td>\n",
              "      <td>2024-04-04 00:42:24.005822976</td>\n",
              "    </tr>\n",
              "    <tr>\n",
              "      <th>min</th>\n",
              "      <td>2023-07-27 00:00:00</td>\n",
              "      <td>2023-07-27 00:00:00</td>\n",
              "      <td>2023-07-27 16:12:00</td>\n",
              "      <td>1.000000</td>\n",
              "      <td>2023-07-27 15:57:00</td>\n",
              "      <td>2023-07-27 15:57:00</td>\n",
              "      <td>0.000000</td>\n",
              "      <td>2023-01-06 19:11:00</td>\n",
              "      <td>-1.000000</td>\n",
              "      <td>385.000000</td>\n",
              "      <td>2022-11-28 14:54:00</td>\n",
              "      <td>2023-11-14 09:17:00</td>\n",
              "    </tr>\n",
              "    <tr>\n",
              "      <th>25%</th>\n",
              "      <td>2024-04-06 03:00:00</td>\n",
              "      <td>2024-04-06 03:00:00</td>\n",
              "      <td>2024-02-01 17:00:00</td>\n",
              "      <td>1.000000</td>\n",
              "      <td>2023-12-12 17:13:00</td>\n",
              "      <td>2024-02-19 10:27:00</td>\n",
              "      <td>35.000000</td>\n",
              "      <td>2023-10-04 17:55:00</td>\n",
              "      <td>2.000000</td>\n",
              "      <td>2123.000000</td>\n",
              "      <td>2023-09-29 16:10:00</td>\n",
              "      <td>2024-01-11 15:24:00</td>\n",
              "    </tr>\n",
              "    <tr>\n",
              "      <th>50%</th>\n",
              "      <td>2024-07-16 03:00:00</td>\n",
              "      <td>2024-07-16 03:00:00</td>\n",
              "      <td>2024-04-22 16:47:00</td>\n",
              "      <td>1.000000</td>\n",
              "      <td>2024-01-23 15:59:00</td>\n",
              "      <td>2024-05-02 16:53:00</td>\n",
              "      <td>42.000000</td>\n",
              "      <td>2023-12-07 14:45:00</td>\n",
              "      <td>4.000000</td>\n",
              "      <td>2427.000000</td>\n",
              "      <td>2023-09-29 16:42:00</td>\n",
              "      <td>2024-03-27 15:57:00</td>\n",
              "    </tr>\n",
              "    <tr>\n",
              "      <th>75%</th>\n",
              "      <td>2024-10-21 03:00:00</td>\n",
              "      <td>2024-10-21 03:00:00</td>\n",
              "      <td>2024-06-24 14:20:00</td>\n",
              "      <td>1.000000</td>\n",
              "      <td>2024-04-05 18:24:00</td>\n",
              "      <td>2024-08-02 11:22:00</td>\n",
              "      <td>51.000000</td>\n",
              "      <td>2024-04-04 12:59:00</td>\n",
              "      <td>5.000000</td>\n",
              "      <td>6562.000000</td>\n",
              "      <td>2023-09-29 17:12:00</td>\n",
              "      <td>2024-06-01 17:22:00</td>\n",
              "    </tr>\n",
              "    <tr>\n",
              "      <th>max</th>\n",
              "      <td>2025-09-06 03:00:00</td>\n",
              "      <td>2025-09-06 03:00:00</td>\n",
              "      <td>2024-08-26 15:13:00</td>\n",
              "      <td>2.000000</td>\n",
              "      <td>2024-08-26 14:36:00</td>\n",
              "      <td>2024-08-26 15:13:00</td>\n",
              "      <td>86.000000</td>\n",
              "      <td>2024-08-23 16:36:00</td>\n",
              "      <td>12.000000</td>\n",
              "      <td>6980.000000</td>\n",
              "      <td>2024-08-23 16:36:00</td>\n",
              "      <td>2024-08-26 15:02:00</td>\n",
              "    </tr>\n",
              "    <tr>\n",
              "      <th>std</th>\n",
              "      <td>NaN</td>\n",
              "      <td>NaN</td>\n",
              "      <td>NaN</td>\n",
              "      <td>0.010974</td>\n",
              "      <td>NaN</td>\n",
              "      <td>NaN</td>\n",
              "      <td>12.436332</td>\n",
              "      <td>NaN</td>\n",
              "      <td>2.313427</td>\n",
              "      <td>2307.835265</td>\n",
              "      <td>NaN</td>\n",
              "      <td>NaN</td>\n",
              "    </tr>\n",
              "  </tbody>\n",
              "</table>\n",
              "</div>\n",
              "    <div class=\"colab-df-buttons\">\n",
              "\n",
              "  <div class=\"colab-df-container\">\n",
              "    <button class=\"colab-df-convert\" onclick=\"convertToInteractive('df-849f30bf-7aa2-4c1b-9114-5ae0ef29300d')\"\n",
              "            title=\"Convert this dataframe to an interactive table.\"\n",
              "            style=\"display:none;\">\n",
              "\n",
              "  <svg xmlns=\"http://www.w3.org/2000/svg\" height=\"24px\" viewBox=\"0 -960 960 960\">\n",
              "    <path d=\"M120-120v-720h720v720H120Zm60-500h600v-160H180v160Zm220 220h160v-160H400v160Zm0 220h160v-160H400v160ZM180-400h160v-160H180v160Zm440 0h160v-160H620v160ZM180-180h160v-160H180v160Zm440 0h160v-160H620v160Z\"/>\n",
              "  </svg>\n",
              "    </button>\n",
              "\n",
              "  <style>\n",
              "    .colab-df-container {\n",
              "      display:flex;\n",
              "      gap: 12px;\n",
              "    }\n",
              "\n",
              "    .colab-df-convert {\n",
              "      background-color: #E8F0FE;\n",
              "      border: none;\n",
              "      border-radius: 50%;\n",
              "      cursor: pointer;\n",
              "      display: none;\n",
              "      fill: #1967D2;\n",
              "      height: 32px;\n",
              "      padding: 0 0 0 0;\n",
              "      width: 32px;\n",
              "    }\n",
              "\n",
              "    .colab-df-convert:hover {\n",
              "      background-color: #E2EBFA;\n",
              "      box-shadow: 0px 1px 2px rgba(60, 64, 67, 0.3), 0px 1px 3px 1px rgba(60, 64, 67, 0.15);\n",
              "      fill: #174EA6;\n",
              "    }\n",
              "\n",
              "    .colab-df-buttons div {\n",
              "      margin-bottom: 4px;\n",
              "    }\n",
              "\n",
              "    [theme=dark] .colab-df-convert {\n",
              "      background-color: #3B4455;\n",
              "      fill: #D2E3FC;\n",
              "    }\n",
              "\n",
              "    [theme=dark] .colab-df-convert:hover {\n",
              "      background-color: #434B5C;\n",
              "      box-shadow: 0px 1px 3px 1px rgba(0, 0, 0, 0.15);\n",
              "      filter: drop-shadow(0px 1px 2px rgba(0, 0, 0, 0.3));\n",
              "      fill: #FFFFFF;\n",
              "    }\n",
              "  </style>\n",
              "\n",
              "    <script>\n",
              "      const buttonEl =\n",
              "        document.querySelector('#df-849f30bf-7aa2-4c1b-9114-5ae0ef29300d button.colab-df-convert');\n",
              "      buttonEl.style.display =\n",
              "        google.colab.kernel.accessAllowed ? 'block' : 'none';\n",
              "\n",
              "      async function convertToInteractive(key) {\n",
              "        const element = document.querySelector('#df-849f30bf-7aa2-4c1b-9114-5ae0ef29300d');\n",
              "        const dataTable =\n",
              "          await google.colab.kernel.invokeFunction('convertToInteractive',\n",
              "                                                    [key], {});\n",
              "        if (!dataTable) return;\n",
              "\n",
              "        const docLinkHtml = 'Like what you see? Visit the ' +\n",
              "          '<a target=\"_blank\" href=https://colab.research.google.com/notebooks/data_table.ipynb>data table notebook</a>'\n",
              "          + ' to learn more about interactive tables.';\n",
              "        element.innerHTML = '';\n",
              "        dataTable['output_type'] = 'display_data';\n",
              "        await google.colab.output.renderOutput(dataTable, element);\n",
              "        const docLink = document.createElement('div');\n",
              "        docLink.innerHTML = docLinkHtml;\n",
              "        element.appendChild(docLink);\n",
              "      }\n",
              "    </script>\n",
              "  </div>\n",
              "\n",
              "\n",
              "<div id=\"df-90a04379-49e3-47c5-89ee-ea251803bf1f\">\n",
              "  <button class=\"colab-df-quickchart\" onclick=\"quickchart('df-90a04379-49e3-47c5-89ee-ea251803bf1f')\"\n",
              "            title=\"Suggest charts\"\n",
              "            style=\"display:none;\">\n",
              "\n",
              "<svg xmlns=\"http://www.w3.org/2000/svg\" height=\"24px\"viewBox=\"0 0 24 24\"\n",
              "     width=\"24px\">\n",
              "    <g>\n",
              "        <path d=\"M19 3H5c-1.1 0-2 .9-2 2v14c0 1.1.9 2 2 2h14c1.1 0 2-.9 2-2V5c0-1.1-.9-2-2-2zM9 17H7v-7h2v7zm4 0h-2V7h2v10zm4 0h-2v-4h2v4z\"/>\n",
              "    </g>\n",
              "</svg>\n",
              "  </button>\n",
              "\n",
              "<style>\n",
              "  .colab-df-quickchart {\n",
              "      --bg-color: #E8F0FE;\n",
              "      --fill-color: #1967D2;\n",
              "      --hover-bg-color: #E2EBFA;\n",
              "      --hover-fill-color: #174EA6;\n",
              "      --disabled-fill-color: #AAA;\n",
              "      --disabled-bg-color: #DDD;\n",
              "  }\n",
              "\n",
              "  [theme=dark] .colab-df-quickchart {\n",
              "      --bg-color: #3B4455;\n",
              "      --fill-color: #D2E3FC;\n",
              "      --hover-bg-color: #434B5C;\n",
              "      --hover-fill-color: #FFFFFF;\n",
              "      --disabled-bg-color: #3B4455;\n",
              "      --disabled-fill-color: #666;\n",
              "  }\n",
              "\n",
              "  .colab-df-quickchart {\n",
              "    background-color: var(--bg-color);\n",
              "    border: none;\n",
              "    border-radius: 50%;\n",
              "    cursor: pointer;\n",
              "    display: none;\n",
              "    fill: var(--fill-color);\n",
              "    height: 32px;\n",
              "    padding: 0;\n",
              "    width: 32px;\n",
              "  }\n",
              "\n",
              "  .colab-df-quickchart:hover {\n",
              "    background-color: var(--hover-bg-color);\n",
              "    box-shadow: 0 1px 2px rgba(60, 64, 67, 0.3), 0 1px 3px 1px rgba(60, 64, 67, 0.15);\n",
              "    fill: var(--button-hover-fill-color);\n",
              "  }\n",
              "\n",
              "  .colab-df-quickchart-complete:disabled,\n",
              "  .colab-df-quickchart-complete:disabled:hover {\n",
              "    background-color: var(--disabled-bg-color);\n",
              "    fill: var(--disabled-fill-color);\n",
              "    box-shadow: none;\n",
              "  }\n",
              "\n",
              "  .colab-df-spinner {\n",
              "    border: 2px solid var(--fill-color);\n",
              "    border-color: transparent;\n",
              "    border-bottom-color: var(--fill-color);\n",
              "    animation:\n",
              "      spin 1s steps(1) infinite;\n",
              "  }\n",
              "\n",
              "  @keyframes spin {\n",
              "    0% {\n",
              "      border-color: transparent;\n",
              "      border-bottom-color: var(--fill-color);\n",
              "      border-left-color: var(--fill-color);\n",
              "    }\n",
              "    20% {\n",
              "      border-color: transparent;\n",
              "      border-left-color: var(--fill-color);\n",
              "      border-top-color: var(--fill-color);\n",
              "    }\n",
              "    30% {\n",
              "      border-color: transparent;\n",
              "      border-left-color: var(--fill-color);\n",
              "      border-top-color: var(--fill-color);\n",
              "      border-right-color: var(--fill-color);\n",
              "    }\n",
              "    40% {\n",
              "      border-color: transparent;\n",
              "      border-right-color: var(--fill-color);\n",
              "      border-top-color: var(--fill-color);\n",
              "    }\n",
              "    60% {\n",
              "      border-color: transparent;\n",
              "      border-right-color: var(--fill-color);\n",
              "    }\n",
              "    80% {\n",
              "      border-color: transparent;\n",
              "      border-right-color: var(--fill-color);\n",
              "      border-bottom-color: var(--fill-color);\n",
              "    }\n",
              "    90% {\n",
              "      border-color: transparent;\n",
              "      border-bottom-color: var(--fill-color);\n",
              "    }\n",
              "  }\n",
              "</style>\n",
              "\n",
              "  <script>\n",
              "    async function quickchart(key) {\n",
              "      const quickchartButtonEl =\n",
              "        document.querySelector('#' + key + ' button');\n",
              "      quickchartButtonEl.disabled = true;  // To prevent multiple clicks.\n",
              "      quickchartButtonEl.classList.add('colab-df-spinner');\n",
              "      try {\n",
              "        const charts = await google.colab.kernel.invokeFunction(\n",
              "            'suggestCharts', [key], {});\n",
              "      } catch (error) {\n",
              "        console.error('Error during call to suggestCharts:', error);\n",
              "      }\n",
              "      quickchartButtonEl.classList.remove('colab-df-spinner');\n",
              "      quickchartButtonEl.classList.add('colab-df-quickchart-complete');\n",
              "    }\n",
              "    (() => {\n",
              "      let quickchartButtonEl =\n",
              "        document.querySelector('#df-90a04379-49e3-47c5-89ee-ea251803bf1f button');\n",
              "      quickchartButtonEl.style.display =\n",
              "        google.colab.kernel.accessAllowed ? 'block' : 'none';\n",
              "    })();\n",
              "  </script>\n",
              "</div>\n",
              "\n",
              "    </div>\n",
              "  </div>\n"
            ],
            "application/vnd.google.colaboratory.intrinsic+json": {
              "type": "dataframe",
              "summary": "{\n  \"name\": \"merged_data\",\n  \"rows\": 8,\n  \"fields\": [\n    {\n      \"column\": \"collect_scheduled_date\",\n      \"properties\": {\n        \"dtype\": \"date\",\n        \"min\": \"1970-01-01 00:00:00.000016602\",\n        \"max\": \"2025-09-06 03:00:00\",\n        \"num_unique_values\": 7,\n        \"samples\": [\n          \"16602\",\n          \"2024-07-13 15:42:47.278641152\",\n          \"2024-10-21 03:00:00\"\n        ],\n        \"semantic_type\": \"\",\n        \"description\": \"\"\n      }\n    },\n    {\n      \"column\": \"datetime_from\",\n      \"properties\": {\n        \"dtype\": \"date\",\n        \"min\": \"1970-01-01 00:00:00.000016604\",\n        \"max\": \"2025-09-06 03:00:00\",\n        \"num_unique_values\": 7,\n        \"samples\": [\n          \"16604\",\n          \"2024-07-13 15:39:57.853529088\",\n          \"2024-10-21 03:00:00\"\n        ],\n        \"semantic_type\": \"\",\n        \"description\": \"\"\n      }\n    },\n    {\n      \"column\": \"pickup_date\",\n      \"properties\": {\n        \"dtype\": \"date\",\n        \"min\": \"1970-01-01 00:00:00.000007025\",\n        \"max\": \"2024-08-26 15:13:00\",\n        \"num_unique_values\": 7,\n        \"samples\": [\n          \"7025\",\n          \"2024-04-11 19:28:22.069751040\",\n          \"2024-06-24 14:20:00\"\n        ],\n        \"semantic_type\": \"\",\n        \"description\": \"\"\n      }\n    },\n    {\n      \"column\": \"quantity\",\n      \"properties\": {\n        \"dtype\": \"number\",\n        \"std\": 5870.399961103578,\n        \"min\": 0.01097444280530607,\n        \"max\": 16605.0,\n        \"num_unique_values\": 5,\n        \"samples\": [\n          1.000120445648901,\n          0.01097444280530607,\n          1.0\n        ],\n        \"semantic_type\": \"\",\n        \"description\": \"\"\n      }\n    },\n    {\n      \"column\": \"Creation Date_x\",\n      \"properties\": {\n        \"dtype\": \"date\",\n        \"min\": \"1970-01-01 00:00:00.000016605\",\n        \"max\": \"2024-08-26 14:36:00\",\n        \"num_unique_values\": 7,\n        \"samples\": [\n          \"16605\",\n          \"2024-02-21 21:26:08.271003136\",\n          \"2024-04-05 18:24:00\"\n        ],\n        \"semantic_type\": \"\",\n        \"description\": \"\"\n      }\n    },\n    {\n      \"column\": \"Modified Date_x\",\n      \"properties\": {\n        \"dtype\": \"date\",\n        \"min\": \"1970-01-01 00:00:00.000016605\",\n        \"max\": \"2024-08-26 15:13:00\",\n        \"num_unique_values\": 7,\n        \"samples\": [\n          \"16605\",\n          \"2024-05-08 23:09:34.634146304\",\n          \"2024-08-02 11:22:00\"\n        ],\n        \"semantic_type\": \"\",\n        \"description\": \"\"\n      }\n    },\n    {\n      \"column\": \"age\",\n      \"properties\": {\n        \"dtype\": \"number\",\n        \"std\": 5658.130821046442,\n        \"min\": 0.0,\n        \"max\": 16042.0,\n        \"num_unique_values\": 8,\n        \"samples\": [\n          43.44433362423638,\n          51.0,\n          16042.0\n        ],\n        \"semantic_type\": \"\",\n        \"description\": \"\"\n      }\n    },\n    {\n      \"column\": \"date_reopened\",\n      \"properties\": {\n        \"dtype\": \"date\",\n        \"min\": \"1970-01-01 00:00:00.000004649\",\n        \"max\": \"2024-08-23 16:36:00\",\n        \"num_unique_values\": 7,\n        \"samples\": [\n          \"4649\",\n          \"2024-01-13 19:41:41.518605824\",\n          \"2024-04-04 12:59:00\"\n        ],\n        \"semantic_type\": \"\",\n        \"description\": \"\"\n      }\n    },\n    {\n      \"column\": \"dependents_qty\",\n      \"properties\": {\n        \"dtype\": \"number\",\n        \"std\": 5869.339482386772,\n        \"min\": -1.0,\n        \"max\": 16605.0,\n        \"num_unique_values\": 8,\n        \"samples\": [\n          3.7169527250828063,\n          5.0,\n          16605.0\n        ],\n        \"semantic_type\": \"\",\n        \"description\": \"\"\n      }\n    },\n    {\n      \"column\": \"primary_client_key\",\n      \"properties\": {\n        \"dtype\": \"number\",\n        \"std\": 2503.0490566202106,\n        \"min\": 385.0,\n        \"max\": 6980.0,\n        \"num_unique_values\": 8,\n        \"samples\": [\n          3953.056862745098,\n          6562.0,\n          510.0\n        ],\n        \"semantic_type\": \"\",\n        \"description\": \"\"\n      }\n    },\n    {\n      \"column\": \"Creation Date_y\",\n      \"properties\": {\n        \"dtype\": \"date\",\n        \"min\": \"1970-01-01 00:00:00.000016486\",\n        \"max\": \"2024-08-23 16:36:00\",\n        \"num_unique_values\": 7,\n        \"samples\": [\n          \"16486\",\n          \"2023-10-26 12:43:29.803469568\",\n          \"2023-09-29 17:12:00\"\n        ],\n        \"semantic_type\": \"\",\n        \"description\": \"\"\n      }\n    },\n    {\n      \"column\": \"Modified Date_y\",\n      \"properties\": {\n        \"dtype\": \"date\",\n        \"min\": \"1970-01-01 00:00:00.000016486\",\n        \"max\": \"2024-08-26 15:02:00\",\n        \"num_unique_values\": 7,\n        \"samples\": [\n          \"16486\",\n          \"2024-04-04 00:42:24.005822976\",\n          \"2024-06-01 17:22:00\"\n        ],\n        \"semantic_type\": \"\",\n        \"description\": \"\"\n      }\n    }\n  ]\n}"
            }
          },
          "metadata": {},
          "execution_count": 50
        }
      ]
    },
    {
      "cell_type": "code",
      "source": [
        "# extract csv file for merged_data\n",
        "merged_data.to_csv(\"merged_data.csv\", index=False)"
      ],
      "metadata": {
        "id": "YojzdCdM3Del"
      },
      "execution_count": null,
      "outputs": []
    },
    {
      "cell_type": "markdown",
      "source": [
        "# Feature Engineering\n"
      ],
      "metadata": {
        "id": "MtQh4OwuqBGF"
      }
    },
    {
      "cell_type": "markdown",
      "source": [
        "To make better observations we create new columns that can help us to get the information that whether the client is going to return or not."
      ],
      "metadata": {
        "id": "wXoiOIW4sceu"
      }
    },
    {
      "cell_type": "markdown",
      "source": [
        "We create aa new column just giving random name to families to deal with them as this would make it easier intead of dealing with numbers"
      ],
      "metadata": {
        "id": "T10Jmv-0qDiU"
      }
    },
    {
      "cell_type": "code",
      "source": [
        "# Re-import necessary libraries\n",
        "import pandas as pd\n",
        "\n",
        "# Ensure merged_data is loaded (please upload the dataset if it's not already available)\n",
        "\n",
        "# Step 1: Create a mapping for existing families with ordered numbers\n",
        "existing_families = merged_data['family'].dropna().unique()\n",
        "family_mapping = {family: f'Family {i+1}' for i, family in enumerate(existing_families, start=1)}\n",
        "\n",
        "# Step 2: Assign existing family names to family_name column\n",
        "merged_data['family_name'] = merged_data['family'].map(family_mapping)\n",
        "\n",
        "# Step 3: Assign ordered numbers to missing families based on address\n",
        "mask_missing_family = merged_data['family'].isnull()\n",
        "\n",
        "# Create a mapping for missing families using addresses\n",
        "address_to_family_id = {}\n",
        "missing_family_data = merged_data.loc[mask_missing_family, ['unique id', 'address']]\n",
        "\n",
        "# Initialize counter based on existing family count\n",
        "family_counter = len(existing_families) + 1\n",
        "\n",
        "for index, row in missing_family_data.iterrows():\n",
        "    address = row['address']\n",
        "    unique_id = row['unique id']\n",
        "\n",
        "    if pd.notna(address):  # If the address exists, assign the same family ID for matching addresses\n",
        "        if address not in address_to_family_id:\n",
        "            address_to_family_id[address] = f'Family {family_counter}'\n",
        "            family_counter += 1  # Increment counter only when a new family is created\n",
        "        merged_data.at[index, 'family_name'] = address_to_family_id[address]\n",
        "    else:  # If no address, assign a unique numeric family ID for single individuals\n",
        "        merged_data.at[index, 'family_name'] = f'Family {family_counter}'\n",
        "        family_counter += 1  # Increment counter for each single individual\n",
        "\n",
        "# Step 4: Ensuring all families are assigned correctly\n",
        "merged_data['family_name'].fillna(f'Family {family_counter}', inplace=True)  # Assign to any remaining missing families\n",
        "# Step 5: Display updated dataset\n",
        "print(\"Updated family names for all families:\")\n",
        "print(merged_data[['unique id', 'address', 'family', 'family_name']].head())\n",
        "\n",
        "# Step 6: Save the processed data\n",
        "merged_data.to_csv(\"processed_data_with_ordered_families.csv\", index=False)\n",
        "print(\"Updated dataset has been saved as 'processed_data_with_ordered_families.csv'.\")\n"
      ],
      "metadata": {
        "colab": {
          "base_uri": "https://localhost:8080/"
        },
        "id": "_wX2EPsQczs8",
        "outputId": "6d277770-4ed8-467a-fd5a-2f9482be44c1"
      },
      "execution_count": null,
      "outputs": [
        {
          "output_type": "stream",
          "name": "stderr",
          "text": [
            "<ipython-input-52-41ee7e604abf>:37: FutureWarning: A value is trying to be set on a copy of a DataFrame or Series through chained assignment using an inplace method.\n",
            "The behavior will change in pandas 3.0. This inplace method will never work because the intermediate object on which we are setting values always behaves as a copy.\n",
            "\n",
            "For example, when doing 'df[col].method(value, inplace=True)', try using 'df.method({col: value}, inplace=True)' or df[col] = df[col].method(value) instead, to perform the operation inplace on the original object.\n",
            "\n",
            "\n",
            "  merged_data['family_name'].fillna(f'Family {family_counter}', inplace=True)  # Assign to any remaining missing families\n"
          ]
        },
        {
          "output_type": "stream",
          "name": "stdout",
          "text": [
            "Updated family names for all families:\n",
            "                          unique id address family  family_name\n",
            "0  1690484251501x480105574053396160     NaN    NaN  Family 1038\n",
            "1  1690484266053x272870528999898500     NaN    NaN  Family 1039\n",
            "2  1690484268062x404921931938873500     NaN    NaN  Family 1040\n",
            "3  1690484269673x683706627103465300     NaN    NaN  Family 1041\n",
            "4  1690484271378x480307445517271800     NaN    NaN  Family 1042\n",
            "Updated dataset has been saved as 'processed_data_with_ordered_families.csv'.\n"
          ]
        }
      ]
    },
    {
      "cell_type": "code",
      "source": [
        "# Unique values for family_name\n",
        "unique_values = merged_data['family_name'].unique()\n",
        "print(unique_values)"
      ],
      "metadata": {
        "colab": {
          "base_uri": "https://localhost:8080/"
        },
        "id": "PyC9Xm_7rooI",
        "outputId": "51789c6f-6ccb-48b8-fb15-499fb2e0c791"
      },
      "execution_count": null,
      "outputs": [
        {
          "output_type": "stream",
          "name": "stdout",
          "text": [
            "['Family 1038' 'Family 1039' 'Family 1040' ... 'Family 1035' 'Family 1036'\n",
            " 'Family 1037']\n"
          ]
        }
      ]
    },
    {
      "cell_type": "markdown",
      "source": [
        "As we are going to observe whether the client is coming back or not in next three to six months we get the months and dates from the pickup date to see the trends for months and weeks."
      ],
      "metadata": {
        "id": "Tf1YVbQruEq5"
      }
    },
    {
      "cell_type": "code",
      "source": [
        "# Extract the months and days from the collected_schedule_date ans store in new column\n",
        "merged_data['pickup_month'] = merged_data['collect_scheduled_date'].dt.month\n",
        "merged_data['pickup_day'] = merged_data['collect_scheduled_date'].dt.day\n"
      ],
      "metadata": {
        "id": "5l9dklAN_LS4"
      },
      "execution_count": null,
      "outputs": []
    },
    {
      "cell_type": "code",
      "source": [
        "merged_data.head()"
      ],
      "metadata": {
        "colab": {
          "base_uri": "https://localhost:8080/",
          "height": 273
        },
        "id": "Ee7nmBH0_zHB",
        "outputId": "75045c42-7619-4de5-99d3-d764bcd97b18"
      },
      "execution_count": null,
      "outputs": [
        {
          "output_type": "execute_result",
          "data": {
            "text/plain": [
              "                      agent_related collect_scheduled_date collect_token  \\\n",
              "0  1689771309517x402134288376915900             2023-07-27        9CHJ75   \n",
              "1  1689771309517x402134288376915900             2023-08-26        1VYMC5   \n",
              "2  1689771309517x402134288376915900             2023-09-25        QHWDXG   \n",
              "3  1689771309517x402134288376915900             2023-10-25        6SAN43   \n",
              "4  1689771309517x402134288376915900             2023-11-24        TMXAOB   \n",
              "\n",
              "  confirmed datetime_from hamper_confirmation_type pickup_date  \\\n",
              "0       NaN    2023-07-27                      NaN         NaT   \n",
              "1       NaN    2023-08-26                      NaN         NaT   \n",
              "2       NaN    2023-09-25                      NaN         NaT   \n",
              "3       NaN    2023-10-25                      NaN         NaT   \n",
              "4       NaN    2023-11-24                      NaN         NaT   \n",
              "\n",
              "                    pickup_location  quantity  \\\n",
              "0  1689345971878x737827531391241900         1   \n",
              "1  1689345971878x737827531391241900         1   \n",
              "2  1689345971878x737827531391241900         1   \n",
              "3  1689345971878x737827531391241900         1   \n",
              "4  1689345971878x737827531391241900         1   \n",
              "\n",
              "                  related_scheduler  ... primary_client_key primary_contact  \\\n",
              "0  1690484248195x781303437208059900  ...                NaN             NaN   \n",
              "1  1690484248195x781303437208059900  ...                NaN             NaN   \n",
              "2  1690484248195x781303437208059900  ...                NaN             NaN   \n",
              "3  1690484248195x781303437208059900  ...                NaN             NaN   \n",
              "4  1690484248195x781303437208059900  ...                NaN             NaN   \n",
              "\n",
              "         Sex status Creation Date_y Modified Date_y  age_group  family_name  \\\n",
              "0  Undefined    NaN             NaT             NaT  Undefined  Family 1038   \n",
              "1  Undefined    NaN             NaT             NaT  Undefined  Family 1039   \n",
              "2  Undefined    NaN             NaT             NaT  Undefined  Family 1040   \n",
              "3  Undefined    NaN             NaT             NaT  Undefined  Family 1041   \n",
              "4  Undefined    NaN             NaT             NaT  Undefined  Family 1042   \n",
              "\n",
              "  pickup_month  pickup_day  \n",
              "0          7.0        27.0  \n",
              "1          8.0        26.0  \n",
              "2          9.0        25.0  \n",
              "3         10.0        25.0  \n",
              "4         11.0        24.0  \n",
              "\n",
              "[5 rows x 34 columns]"
            ],
            "text/html": [
              "\n",
              "  <div id=\"df-1cccb7e9-d48a-4ea2-9b5a-f153aece917e\" class=\"colab-df-container\">\n",
              "    <div>\n",
              "<style scoped>\n",
              "    .dataframe tbody tr th:only-of-type {\n",
              "        vertical-align: middle;\n",
              "    }\n",
              "\n",
              "    .dataframe tbody tr th {\n",
              "        vertical-align: top;\n",
              "    }\n",
              "\n",
              "    .dataframe thead th {\n",
              "        text-align: right;\n",
              "    }\n",
              "</style>\n",
              "<table border=\"1\" class=\"dataframe\">\n",
              "  <thead>\n",
              "    <tr style=\"text-align: right;\">\n",
              "      <th></th>\n",
              "      <th>agent_related</th>\n",
              "      <th>collect_scheduled_date</th>\n",
              "      <th>collect_token</th>\n",
              "      <th>confirmed</th>\n",
              "      <th>datetime_from</th>\n",
              "      <th>hamper_confirmation_type</th>\n",
              "      <th>pickup_date</th>\n",
              "      <th>pickup_location</th>\n",
              "      <th>quantity</th>\n",
              "      <th>related_scheduler</th>\n",
              "      <th>...</th>\n",
              "      <th>primary_client_key</th>\n",
              "      <th>primary_contact</th>\n",
              "      <th>Sex</th>\n",
              "      <th>status</th>\n",
              "      <th>Creation Date_y</th>\n",
              "      <th>Modified Date_y</th>\n",
              "      <th>age_group</th>\n",
              "      <th>family_name</th>\n",
              "      <th>pickup_month</th>\n",
              "      <th>pickup_day</th>\n",
              "    </tr>\n",
              "  </thead>\n",
              "  <tbody>\n",
              "    <tr>\n",
              "      <th>0</th>\n",
              "      <td>1689771309517x402134288376915900</td>\n",
              "      <td>2023-07-27</td>\n",
              "      <td>9CHJ75</td>\n",
              "      <td>NaN</td>\n",
              "      <td>2023-07-27</td>\n",
              "      <td>NaN</td>\n",
              "      <td>NaT</td>\n",
              "      <td>1689345971878x737827531391241900</td>\n",
              "      <td>1</td>\n",
              "      <td>1690484248195x781303437208059900</td>\n",
              "      <td>...</td>\n",
              "      <td>NaN</td>\n",
              "      <td>NaN</td>\n",
              "      <td>Undefined</td>\n",
              "      <td>NaN</td>\n",
              "      <td>NaT</td>\n",
              "      <td>NaT</td>\n",
              "      <td>Undefined</td>\n",
              "      <td>Family 1038</td>\n",
              "      <td>7.0</td>\n",
              "      <td>27.0</td>\n",
              "    </tr>\n",
              "    <tr>\n",
              "      <th>1</th>\n",
              "      <td>1689771309517x402134288376915900</td>\n",
              "      <td>2023-08-26</td>\n",
              "      <td>1VYMC5</td>\n",
              "      <td>NaN</td>\n",
              "      <td>2023-08-26</td>\n",
              "      <td>NaN</td>\n",
              "      <td>NaT</td>\n",
              "      <td>1689345971878x737827531391241900</td>\n",
              "      <td>1</td>\n",
              "      <td>1690484248195x781303437208059900</td>\n",
              "      <td>...</td>\n",
              "      <td>NaN</td>\n",
              "      <td>NaN</td>\n",
              "      <td>Undefined</td>\n",
              "      <td>NaN</td>\n",
              "      <td>NaT</td>\n",
              "      <td>NaT</td>\n",
              "      <td>Undefined</td>\n",
              "      <td>Family 1039</td>\n",
              "      <td>8.0</td>\n",
              "      <td>26.0</td>\n",
              "    </tr>\n",
              "    <tr>\n",
              "      <th>2</th>\n",
              "      <td>1689771309517x402134288376915900</td>\n",
              "      <td>2023-09-25</td>\n",
              "      <td>QHWDXG</td>\n",
              "      <td>NaN</td>\n",
              "      <td>2023-09-25</td>\n",
              "      <td>NaN</td>\n",
              "      <td>NaT</td>\n",
              "      <td>1689345971878x737827531391241900</td>\n",
              "      <td>1</td>\n",
              "      <td>1690484248195x781303437208059900</td>\n",
              "      <td>...</td>\n",
              "      <td>NaN</td>\n",
              "      <td>NaN</td>\n",
              "      <td>Undefined</td>\n",
              "      <td>NaN</td>\n",
              "      <td>NaT</td>\n",
              "      <td>NaT</td>\n",
              "      <td>Undefined</td>\n",
              "      <td>Family 1040</td>\n",
              "      <td>9.0</td>\n",
              "      <td>25.0</td>\n",
              "    </tr>\n",
              "    <tr>\n",
              "      <th>3</th>\n",
              "      <td>1689771309517x402134288376915900</td>\n",
              "      <td>2023-10-25</td>\n",
              "      <td>6SAN43</td>\n",
              "      <td>NaN</td>\n",
              "      <td>2023-10-25</td>\n",
              "      <td>NaN</td>\n",
              "      <td>NaT</td>\n",
              "      <td>1689345971878x737827531391241900</td>\n",
              "      <td>1</td>\n",
              "      <td>1690484248195x781303437208059900</td>\n",
              "      <td>...</td>\n",
              "      <td>NaN</td>\n",
              "      <td>NaN</td>\n",
              "      <td>Undefined</td>\n",
              "      <td>NaN</td>\n",
              "      <td>NaT</td>\n",
              "      <td>NaT</td>\n",
              "      <td>Undefined</td>\n",
              "      <td>Family 1041</td>\n",
              "      <td>10.0</td>\n",
              "      <td>25.0</td>\n",
              "    </tr>\n",
              "    <tr>\n",
              "      <th>4</th>\n",
              "      <td>1689771309517x402134288376915900</td>\n",
              "      <td>2023-11-24</td>\n",
              "      <td>TMXAOB</td>\n",
              "      <td>NaN</td>\n",
              "      <td>2023-11-24</td>\n",
              "      <td>NaN</td>\n",
              "      <td>NaT</td>\n",
              "      <td>1689345971878x737827531391241900</td>\n",
              "      <td>1</td>\n",
              "      <td>1690484248195x781303437208059900</td>\n",
              "      <td>...</td>\n",
              "      <td>NaN</td>\n",
              "      <td>NaN</td>\n",
              "      <td>Undefined</td>\n",
              "      <td>NaN</td>\n",
              "      <td>NaT</td>\n",
              "      <td>NaT</td>\n",
              "      <td>Undefined</td>\n",
              "      <td>Family 1042</td>\n",
              "      <td>11.0</td>\n",
              "      <td>24.0</td>\n",
              "    </tr>\n",
              "  </tbody>\n",
              "</table>\n",
              "<p>5 rows × 34 columns</p>\n",
              "</div>\n",
              "    <div class=\"colab-df-buttons\">\n",
              "\n",
              "  <div class=\"colab-df-container\">\n",
              "    <button class=\"colab-df-convert\" onclick=\"convertToInteractive('df-1cccb7e9-d48a-4ea2-9b5a-f153aece917e')\"\n",
              "            title=\"Convert this dataframe to an interactive table.\"\n",
              "            style=\"display:none;\">\n",
              "\n",
              "  <svg xmlns=\"http://www.w3.org/2000/svg\" height=\"24px\" viewBox=\"0 -960 960 960\">\n",
              "    <path d=\"M120-120v-720h720v720H120Zm60-500h600v-160H180v160Zm220 220h160v-160H400v160Zm0 220h160v-160H400v160ZM180-400h160v-160H180v160Zm440 0h160v-160H620v160ZM180-180h160v-160H180v160Zm440 0h160v-160H620v160Z\"/>\n",
              "  </svg>\n",
              "    </button>\n",
              "\n",
              "  <style>\n",
              "    .colab-df-container {\n",
              "      display:flex;\n",
              "      gap: 12px;\n",
              "    }\n",
              "\n",
              "    .colab-df-convert {\n",
              "      background-color: #E8F0FE;\n",
              "      border: none;\n",
              "      border-radius: 50%;\n",
              "      cursor: pointer;\n",
              "      display: none;\n",
              "      fill: #1967D2;\n",
              "      height: 32px;\n",
              "      padding: 0 0 0 0;\n",
              "      width: 32px;\n",
              "    }\n",
              "\n",
              "    .colab-df-convert:hover {\n",
              "      background-color: #E2EBFA;\n",
              "      box-shadow: 0px 1px 2px rgba(60, 64, 67, 0.3), 0px 1px 3px 1px rgba(60, 64, 67, 0.15);\n",
              "      fill: #174EA6;\n",
              "    }\n",
              "\n",
              "    .colab-df-buttons div {\n",
              "      margin-bottom: 4px;\n",
              "    }\n",
              "\n",
              "    [theme=dark] .colab-df-convert {\n",
              "      background-color: #3B4455;\n",
              "      fill: #D2E3FC;\n",
              "    }\n",
              "\n",
              "    [theme=dark] .colab-df-convert:hover {\n",
              "      background-color: #434B5C;\n",
              "      box-shadow: 0px 1px 3px 1px rgba(0, 0, 0, 0.15);\n",
              "      filter: drop-shadow(0px 1px 2px rgba(0, 0, 0, 0.3));\n",
              "      fill: #FFFFFF;\n",
              "    }\n",
              "  </style>\n",
              "\n",
              "    <script>\n",
              "      const buttonEl =\n",
              "        document.querySelector('#df-1cccb7e9-d48a-4ea2-9b5a-f153aece917e button.colab-df-convert');\n",
              "      buttonEl.style.display =\n",
              "        google.colab.kernel.accessAllowed ? 'block' : 'none';\n",
              "\n",
              "      async function convertToInteractive(key) {\n",
              "        const element = document.querySelector('#df-1cccb7e9-d48a-4ea2-9b5a-f153aece917e');\n",
              "        const dataTable =\n",
              "          await google.colab.kernel.invokeFunction('convertToInteractive',\n",
              "                                                    [key], {});\n",
              "        if (!dataTable) return;\n",
              "\n",
              "        const docLinkHtml = 'Like what you see? Visit the ' +\n",
              "          '<a target=\"_blank\" href=https://colab.research.google.com/notebooks/data_table.ipynb>data table notebook</a>'\n",
              "          + ' to learn more about interactive tables.';\n",
              "        element.innerHTML = '';\n",
              "        dataTable['output_type'] = 'display_data';\n",
              "        await google.colab.output.renderOutput(dataTable, element);\n",
              "        const docLink = document.createElement('div');\n",
              "        docLink.innerHTML = docLinkHtml;\n",
              "        element.appendChild(docLink);\n",
              "      }\n",
              "    </script>\n",
              "  </div>\n",
              "\n",
              "\n",
              "<div id=\"df-cd46ab1b-d1f8-41e2-92fd-c825de27fb9c\">\n",
              "  <button class=\"colab-df-quickchart\" onclick=\"quickchart('df-cd46ab1b-d1f8-41e2-92fd-c825de27fb9c')\"\n",
              "            title=\"Suggest charts\"\n",
              "            style=\"display:none;\">\n",
              "\n",
              "<svg xmlns=\"http://www.w3.org/2000/svg\" height=\"24px\"viewBox=\"0 0 24 24\"\n",
              "     width=\"24px\">\n",
              "    <g>\n",
              "        <path d=\"M19 3H5c-1.1 0-2 .9-2 2v14c0 1.1.9 2 2 2h14c1.1 0 2-.9 2-2V5c0-1.1-.9-2-2-2zM9 17H7v-7h2v7zm4 0h-2V7h2v10zm4 0h-2v-4h2v4z\"/>\n",
              "    </g>\n",
              "</svg>\n",
              "  </button>\n",
              "\n",
              "<style>\n",
              "  .colab-df-quickchart {\n",
              "      --bg-color: #E8F0FE;\n",
              "      --fill-color: #1967D2;\n",
              "      --hover-bg-color: #E2EBFA;\n",
              "      --hover-fill-color: #174EA6;\n",
              "      --disabled-fill-color: #AAA;\n",
              "      --disabled-bg-color: #DDD;\n",
              "  }\n",
              "\n",
              "  [theme=dark] .colab-df-quickchart {\n",
              "      --bg-color: #3B4455;\n",
              "      --fill-color: #D2E3FC;\n",
              "      --hover-bg-color: #434B5C;\n",
              "      --hover-fill-color: #FFFFFF;\n",
              "      --disabled-bg-color: #3B4455;\n",
              "      --disabled-fill-color: #666;\n",
              "  }\n",
              "\n",
              "  .colab-df-quickchart {\n",
              "    background-color: var(--bg-color);\n",
              "    border: none;\n",
              "    border-radius: 50%;\n",
              "    cursor: pointer;\n",
              "    display: none;\n",
              "    fill: var(--fill-color);\n",
              "    height: 32px;\n",
              "    padding: 0;\n",
              "    width: 32px;\n",
              "  }\n",
              "\n",
              "  .colab-df-quickchart:hover {\n",
              "    background-color: var(--hover-bg-color);\n",
              "    box-shadow: 0 1px 2px rgba(60, 64, 67, 0.3), 0 1px 3px 1px rgba(60, 64, 67, 0.15);\n",
              "    fill: var(--button-hover-fill-color);\n",
              "  }\n",
              "\n",
              "  .colab-df-quickchart-complete:disabled,\n",
              "  .colab-df-quickchart-complete:disabled:hover {\n",
              "    background-color: var(--disabled-bg-color);\n",
              "    fill: var(--disabled-fill-color);\n",
              "    box-shadow: none;\n",
              "  }\n",
              "\n",
              "  .colab-df-spinner {\n",
              "    border: 2px solid var(--fill-color);\n",
              "    border-color: transparent;\n",
              "    border-bottom-color: var(--fill-color);\n",
              "    animation:\n",
              "      spin 1s steps(1) infinite;\n",
              "  }\n",
              "\n",
              "  @keyframes spin {\n",
              "    0% {\n",
              "      border-color: transparent;\n",
              "      border-bottom-color: var(--fill-color);\n",
              "      border-left-color: var(--fill-color);\n",
              "    }\n",
              "    20% {\n",
              "      border-color: transparent;\n",
              "      border-left-color: var(--fill-color);\n",
              "      border-top-color: var(--fill-color);\n",
              "    }\n",
              "    30% {\n",
              "      border-color: transparent;\n",
              "      border-left-color: var(--fill-color);\n",
              "      border-top-color: var(--fill-color);\n",
              "      border-right-color: var(--fill-color);\n",
              "    }\n",
              "    40% {\n",
              "      border-color: transparent;\n",
              "      border-right-color: var(--fill-color);\n",
              "      border-top-color: var(--fill-color);\n",
              "    }\n",
              "    60% {\n",
              "      border-color: transparent;\n",
              "      border-right-color: var(--fill-color);\n",
              "    }\n",
              "    80% {\n",
              "      border-color: transparent;\n",
              "      border-right-color: var(--fill-color);\n",
              "      border-bottom-color: var(--fill-color);\n",
              "    }\n",
              "    90% {\n",
              "      border-color: transparent;\n",
              "      border-bottom-color: var(--fill-color);\n",
              "    }\n",
              "  }\n",
              "</style>\n",
              "\n",
              "  <script>\n",
              "    async function quickchart(key) {\n",
              "      const quickchartButtonEl =\n",
              "        document.querySelector('#' + key + ' button');\n",
              "      quickchartButtonEl.disabled = true;  // To prevent multiple clicks.\n",
              "      quickchartButtonEl.classList.add('colab-df-spinner');\n",
              "      try {\n",
              "        const charts = await google.colab.kernel.invokeFunction(\n",
              "            'suggestCharts', [key], {});\n",
              "      } catch (error) {\n",
              "        console.error('Error during call to suggestCharts:', error);\n",
              "      }\n",
              "      quickchartButtonEl.classList.remove('colab-df-spinner');\n",
              "      quickchartButtonEl.classList.add('colab-df-quickchart-complete');\n",
              "    }\n",
              "    (() => {\n",
              "      let quickchartButtonEl =\n",
              "        document.querySelector('#df-cd46ab1b-d1f8-41e2-92fd-c825de27fb9c button');\n",
              "      quickchartButtonEl.style.display =\n",
              "        google.colab.kernel.accessAllowed ? 'block' : 'none';\n",
              "    })();\n",
              "  </script>\n",
              "</div>\n",
              "\n",
              "    </div>\n",
              "  </div>\n"
            ],
            "application/vnd.google.colaboratory.intrinsic+json": {
              "type": "dataframe",
              "variable_name": "merged_data"
            }
          },
          "metadata": {},
          "execution_count": 55
        }
      ]
    },
    {
      "cell_type": "code",
      "source": [
        "# Step 1: Drop Columns with Excessive Missing Values (>80% missing data)\n",
        "# Ensure columns exist before dropping\n",
        "columns_to_drop = ['confirmed', 'hamper_confirmation_type', 'pickup_date',\n",
        "                   'primary_client_key', 'date_reopened', 'contact_frequency']\n",
        "existing_columns = merged_data.columns\n",
        "columns_to_drop = [col for col in columns_to_drop if col in existing_columns]\n",
        "\n",
        "# Now drop the columns that actually exist\n",
        "merged_data = merged_data.drop(columns=columns_to_drop)\n",
        "\n",
        "# Step 2: Fill Missing Values for Numerical Columns with Median\n",
        "numerical_cols = ['age', 'pickup_month', 'pickup_day']\n",
        "for col in numerical_cols:\n",
        "    merged_data[col].fillna(merged_data[col].median(), inplace=True)\n",
        "\n",
        "# Step 3: Fill Missing Values for Categorical Columns with \"Unknown\"\n",
        "categorical_cols = ['family', 'household', 'preferred_languages', 'status', 'primary_contact', 'unique_client']\n",
        "for col in categorical_cols:\n",
        "    # Check if the column is categorical and 'Unknown' is not a category\n",
        "    if pd.api.types.is_categorical_dtype(merged_data[col]) and \"Unknown\" not in merged_data[col].cat.categories:\n",
        "        # Add 'Unknown' as a new category\n",
        "        merged_data[col] = merged_data[col].cat.add_categories([\"Unknown\"])\n",
        "    # Now fill NaN values with \"Unknown\"\n",
        "    merged_data[col].fillna(\"Unknown\", inplace=True)\n",
        "\n",
        "# Step 4: Fill Missing Address Using Family Name (if available)\n",
        "merged_data['address'] = merged_data.groupby('family_name')['address'].transform(lambda x: x.fillna(method='ffill'))\n",
        "merged_data['address'].fillna(\"Unknown\", inplace=True)\n",
        "\n",
        "# Step 5: Fill Remaining Missing Values with 0 for Numerical Fields\n",
        "remaining_numerical = ['external_id', 'related_scheduler', 'datetime_from', 'Modified Date_y']\n",
        "for col in remaining_numerical:\n",
        "    merged_data[col].fillna(0, inplace=True)\n",
        "\n",
        "# Step 6: Final Check for Missing Values\n",
        "print(\"Missing values after handling:\")\n",
        "print(merged_data.isnull().sum().sum())  # Should print 0 if no missing values remain\n",
        "# copy the dataset to the new dataframe\n",
        "processed_data = merged_data.copy()\n",
        "# Display dataset summary after filling missing values\n",
        "processed_data.info()"
      ],
      "metadata": {
        "colab": {
          "base_uri": "https://localhost:8080/"
        },
        "id": "YeRsjDDnFREo",
        "outputId": "2e666e77-04c5-48f5-cd0d-00dec3795f4e"
      },
      "execution_count": null,
      "outputs": [
        {
          "output_type": "stream",
          "name": "stderr",
          "text": [
            "<ipython-input-56-4c6b8cb7baf1>:14: FutureWarning: A value is trying to be set on a copy of a DataFrame or Series through chained assignment using an inplace method.\n",
            "The behavior will change in pandas 3.0. This inplace method will never work because the intermediate object on which we are setting values always behaves as a copy.\n",
            "\n",
            "For example, when doing 'df[col].method(value, inplace=True)', try using 'df.method({col: value}, inplace=True)' or df[col] = df[col].method(value) instead, to perform the operation inplace on the original object.\n",
            "\n",
            "\n",
            "  merged_data[col].fillna(merged_data[col].median(), inplace=True)\n",
            "<ipython-input-56-4c6b8cb7baf1>:20: DeprecationWarning: is_categorical_dtype is deprecated and will be removed in a future version. Use isinstance(dtype, pd.CategoricalDtype) instead\n",
            "  if pd.api.types.is_categorical_dtype(merged_data[col]) and \"Unknown\" not in merged_data[col].cat.categories:\n",
            "<ipython-input-56-4c6b8cb7baf1>:24: FutureWarning: A value is trying to be set on a copy of a DataFrame or Series through chained assignment using an inplace method.\n",
            "The behavior will change in pandas 3.0. This inplace method will never work because the intermediate object on which we are setting values always behaves as a copy.\n",
            "\n",
            "For example, when doing 'df[col].method(value, inplace=True)', try using 'df.method({col: value}, inplace=True)' or df[col] = df[col].method(value) instead, to perform the operation inplace on the original object.\n",
            "\n",
            "\n",
            "  merged_data[col].fillna(\"Unknown\", inplace=True)\n",
            "<ipython-input-56-4c6b8cb7baf1>:27: FutureWarning: Series.fillna with 'method' is deprecated and will raise in a future version. Use obj.ffill() or obj.bfill() instead.\n",
            "  merged_data['address'] = merged_data.groupby('family_name')['address'].transform(lambda x: x.fillna(method='ffill'))\n",
            "<ipython-input-56-4c6b8cb7baf1>:27: FutureWarning: Downcasting object dtype arrays on .fillna, .ffill, .bfill is deprecated and will change in a future version. Call result.infer_objects(copy=False) instead. To opt-in to the future behavior, set `pd.set_option('future.no_silent_downcasting', True)`\n",
            "  merged_data['address'] = merged_data.groupby('family_name')['address'].transform(lambda x: x.fillna(method='ffill'))\n",
            "<ipython-input-56-4c6b8cb7baf1>:28: FutureWarning: A value is trying to be set on a copy of a DataFrame or Series through chained assignment using an inplace method.\n",
            "The behavior will change in pandas 3.0. This inplace method will never work because the intermediate object on which we are setting values always behaves as a copy.\n",
            "\n",
            "For example, when doing 'df[col].method(value, inplace=True)', try using 'df.method({col: value}, inplace=True)' or df[col] = df[col].method(value) instead, to perform the operation inplace on the original object.\n",
            "\n",
            "\n",
            "  merged_data['address'].fillna(\"Unknown\", inplace=True)\n",
            "<ipython-input-56-4c6b8cb7baf1>:33: FutureWarning: A value is trying to be set on a copy of a DataFrame or Series through chained assignment using an inplace method.\n",
            "The behavior will change in pandas 3.0. This inplace method will never work because the intermediate object on which we are setting values always behaves as a copy.\n",
            "\n",
            "For example, when doing 'df[col].method(value, inplace=True)', try using 'df.method({col: value}, inplace=True)' or df[col] = df[col].method(value) instead, to perform the operation inplace on the original object.\n",
            "\n",
            "\n",
            "  merged_data[col].fillna(0, inplace=True)\n",
            "<ipython-input-56-4c6b8cb7baf1>:33: FutureWarning: Setting an item of incompatible dtype is deprecated and will raise an error in a future version of pandas. Value '0' has dtype incompatible with datetime64[ns], please explicitly cast to a compatible dtype first.\n",
            "  merged_data[col].fillna(0, inplace=True)\n"
          ]
        },
        {
          "output_type": "stream",
          "name": "stdout",
          "text": [
            "Missing values after handling:\n",
            "122\n",
            "<class 'pandas.core.frame.DataFrame'>\n",
            "RangeIndex: 16605 entries, 0 to 16604\n",
            "Data columns (total 28 columns):\n",
            " #   Column                  Non-Null Count  Dtype         \n",
            "---  ------                  --------------  -----         \n",
            " 0   agent_related           16605 non-null  object        \n",
            " 1   collect_scheduled_date  16602 non-null  datetime64[ns]\n",
            " 2   collect_token           16605 non-null  object        \n",
            " 3   datetime_from           16605 non-null  object        \n",
            " 4   pickup_location         16605 non-null  object        \n",
            " 5   quantity                16605 non-null  int64         \n",
            " 6   related_scheduler       16605 non-null  object        \n",
            " 7   title                   16605 non-null  category      \n",
            " 8   unique_client           16605 non-null  object        \n",
            " 9   Creation Date_x         16605 non-null  datetime64[ns]\n",
            " 10  Modified Date_x         16605 non-null  datetime64[ns]\n",
            " 11  unique id               16605 non-null  object        \n",
            " 12  address                 16605 non-null  object        \n",
            " 13  age                     16605 non-null  float64       \n",
            " 14  dependents_qty          16605 non-null  int64         \n",
            " 15  external_id             16605 non-null  object        \n",
            " 16  family                  16605 non-null  object        \n",
            " 17  household               16605 non-null  category      \n",
            " 18  preferred_languages     16605 non-null  category      \n",
            " 19  primary_contact         16605 non-null  object        \n",
            " 20  Sex                     16605 non-null  category      \n",
            " 21  status                  16605 non-null  category      \n",
            " 22  Creation Date_y         16486 non-null  datetime64[ns]\n",
            " 23  Modified Date_y         16605 non-null  object        \n",
            " 24  age_group               16605 non-null  category      \n",
            " 25  family_name             16605 non-null  object        \n",
            " 26  pickup_month            16605 non-null  float64       \n",
            " 27  pickup_day              16605 non-null  float64       \n",
            "dtypes: category(6), datetime64[ns](4), float64(3), int64(2), object(13)\n",
            "memory usage: 2.9+ MB\n"
          ]
        }
      ]
    },
    {
      "cell_type": "code",
      "source": [
        "# export csv\n",
        "processed_data.to_csv(\"processed_data.csv\", index=False)"
      ],
      "metadata": {
        "id": "KSgo4z1vHMIc"
      },
      "execution_count": null,
      "outputs": []
    },
    {
      "cell_type": "markdown",
      "source": [
        "#Creating Visualizations"
      ],
      "metadata": {
        "id": "THT20O4HotHy"
      }
    },
    {
      "cell_type": "code",
      "source": [
        "import matplotlib.pyplot as plt\n",
        "import seaborn as sns\n",
        "\n",
        "# Plot Age Group Distribution\n",
        "plt.figure(figsize=(10,6))\n",
        "sns.countplot(data=merged_data, x='age_group', order=merged_data['age_group'].value_counts().index, palette='viridis')\n",
        "\n",
        "# Add labels and title\n",
        "plt.xlabel(\"Age Group\")\n",
        "plt.ylabel(\"Number of Clients\")\n",
        "plt.title(\"Distribution of Clients by Age Group\")\n",
        "plt.xticks(rotation=45)\n",
        "\n",
        "# Show count labels on bars\n",
        "for p in plt.gca().patches:\n",
        "    plt.gca().annotate(f'{p.get_height()}', (p.get_x() + p.get_width() / 2, p.get_height()),\n",
        "                       ha='center', va='bottom', fontsize=10, color='black')\n",
        "\n",
        "# Show plot\n",
        "plt.show()\n"
      ],
      "metadata": {
        "colab": {
          "base_uri": "https://localhost:8080/",
          "height": 702
        },
        "id": "l5-6nRsHqUZm",
        "outputId": "278db43c-2eeb-4b08-a7d2-927b91a76657"
      },
      "execution_count": null,
      "outputs": [
        {
          "output_type": "stream",
          "name": "stderr",
          "text": [
            "<ipython-input-58-5b30cf1d192f>:6: FutureWarning: \n",
            "\n",
            "Passing `palette` without assigning `hue` is deprecated and will be removed in v0.14.0. Assign the `x` variable to `hue` and set `legend=False` for the same effect.\n",
            "\n",
            "  sns.countplot(data=merged_data, x='age_group', order=merged_data['age_group'].value_counts().index, palette='viridis')\n"
          ]
        },
        {
          "output_type": "display_data",
          "data": {
            "text/plain": [
              "<Figure size 1000x600 with 1 Axes>"
            ],
            "image/png": "[encoded data removed]"
          },
          "metadata": {}
        }
      ]
    },
    {
      "cell_type": "code",
      "source": [
        "# creating box plots to detect the outliers\n",
        "columns = ['quantity', 'age', 'dependents_qty']\n",
        "plt.figure(figsize=(20, 9))\n",
        "for i, column in enumerate(columns, 1):\n",
        "    plt.subplot(1, 3, i)\n",
        "    sns.boxplot(x=processed_data[column])\n",
        "    plt.title(f'Box Plot of {column}')\n",
        "plt.tight_layout()\n",
        "plt.show()\n",
        "\n",
        "\n"
      ],
      "metadata": {
        "colab": {
          "base_uri": "https://localhost:8080/",
          "height": 743
        },
        "id": "WKH_RGwKsUfY",
        "outputId": "5de036c3-9776-4a36-ccfc-688d9f41b60c"
      },
      "execution_count": null,
      "outputs": [
        {
          "output_type": "display_data",
          "data": {
            "text/plain": [
              "<Figure size 2000x900 with 3 Axes>"
            ],
            "image/png": "[encoded data removed]"
          },
          "metadata": {}
        }
      ]
    },
    {
      "cell_type": "code",
      "source": [
        "# checking the correlation for numerical values\n",
        "numerical_data = processed_data.select_dtypes(include=['int64', 'float64'])\n",
        "correlation_matrix = numerical_data.corr()\n",
        "plt.figure(figsize=(10, 8))\n",
        "sns.heatmap(correlation_matrix, annot=True, cmap='coolwarm', fmt=\".2f\")\n",
        "plt.title('Correlation Heatmap')\n",
        "plt.show()\n"
      ],
      "metadata": {
        "colab": {
          "base_uri": "https://localhost:8080/",
          "height": 699
        },
        "id": "nXN_T62p-WSr",
        "outputId": "b56ca3be-3985-4784-bcff-e3f921391bae"
      },
      "execution_count": null,
      "outputs": [
        {
          "output_type": "display_data",
          "data": {
            "text/plain": [
              "<Figure size 1000x800 with 2 Axes>"
            ],
            "image/png": "[encoded data removed]"
          },
          "metadata": {}
        }
      ]
    },
    {
      "cell_type": "code",
      "source": [
        "#plOtting the bar graph to see the dependents for the families\n",
        "plt.figure(figsize=(10, 6))\n",
        "sns.countplot(data=processed_data, x='dependents_qty')\n",
        "plt.title('Distribution of Dependents in Food Hampers')\n",
        "plt.xlabel('Number of Dependents')\n",
        "plt.ylabel('Count')\n",
        "plt.show()\n"
      ],
      "metadata": {
        "colab": {
          "base_uri": "https://localhost:8080/",
          "height": 564
        },
        "id": "HPsQKmCY-c-h",
        "outputId": "b9987b3f-9c2a-4ac0-8e9b-9d7172601ab7"
      },
      "execution_count": null,
      "outputs": [
        {
          "output_type": "display_data",
          "data": {
            "text/plain": [
              "<Figure size 1000x600 with 1 Axes>"
            ],
            "image/png": "[encoded data removed]"
          },
          "metadata": {}
        }
      ]
    },
    {
      "cell_type": "code",
      "source": [
        "import matplotlib.pyplot as plt\n",
        "\n",
        "# Get the top 10 preferred languages and their counts\n",
        "top_languages = processed_data['preferred_languages'].value_counts().nlargest(10)\n",
        "\n",
        "# Plot the bar chart\n",
        "plt.figure(figsize=(10,6))\n",
        "bars = plt.bar(top_languages.index, top_languages.values, color='teal')\n",
        "\n",
        "# Add text labels for counts on top of each bar\n",
        "for bar in bars:\n",
        "    plt.text(bar.get_x() + bar.get_width()/2, bar.get_height(),\n",
        "             f'{int(bar.get_height())}', ha='center', va='bottom', fontsize=12)\n",
        "\n",
        "# Formatting the plot\n",
        "plt.title('Top 10 Preferred Languages')\n",
        "plt.xlabel('Language')\n",
        "plt.ylabel('Number of Clients')\n",
        "plt.xticks(rotation=45)\n",
        "plt.show()\n"
      ],
      "metadata": {
        "colab": {
          "base_uri": "https://localhost:8080/",
          "height": 640
        },
        "id": "mYAZ1dWOGQVT",
        "outputId": "596ff2fc-1afe-459f-bca4-5c166c184b61"
      },
      "execution_count": null,
      "outputs": [
        {
          "output_type": "display_data",
          "data": {
            "text/plain": [
              "<Figure size 1000x600 with 1 Axes>"
            ],
            "image/png": "[encoded data removed]"
          },
          "metadata": {}
        }
      ]
    },
    {
      "cell_type": "code",
      "source": [
        "import matplotlib.pyplot as plt\n",
        "\n",
        "# Checking if 'household' column exists in processed_data\n",
        "if 'household' in processed_data.columns:\n",
        "    # Counting all household occurrences, including missing values\n",
        "    household_detail = processed_data['household'].astype(str).value_counts(dropna=False).reset_index()\n",
        "    household_detail.columns = ['household', 'count']\n",
        "\n",
        "    # Plotting the household distribution\n",
        "    plt.figure(figsize=(12,6))\n",
        "    plt.bar(household_detail['household'], household_detail['count'], color='skyblue')\n",
        "    plt.xlabel(\"Household Category\")\n",
        "    plt.ylabel(\"Count\")\n",
        "    plt.title(\"Distribution of Household Categories\")\n",
        "    plt.xticks(rotation=45, ha='right')\n",
        "\n",
        "    # Adding count labels on bars\n",
        "    for index, value in enumerate(household_detail['count']):\n",
        "        plt.text(index, value + 5, str(value), ha='center', fontsize=10)\n",
        "\n",
        "    plt.show()\n",
        "else:\n",
        "    print(\"Column 'household' does not exist in merged_data.\")\n"
      ],
      "metadata": {
        "id": "K9IA6mFCG-Ci",
        "outputId": "4bb987a8-7b16-4937-cc1b-fbee4693da42",
        "colab": {
          "base_uri": "https://localhost:8080/",
          "height": 606
        }
      },
      "execution_count": null,
      "outputs": [
        {
          "output_type": "display_data",
          "data": {
            "text/plain": [
              "<Figure size 1200x600 with 1 Axes>"
            ],
            "image/png": "[encoded data removed]"
          },
          "metadata": {}
        }
      ]
    },
    {
      "cell_type": "code",
      "source": [
        "# print merged_data detail\n",
        "processed_data.info()"
      ],
      "metadata": {
        "colab": {
          "base_uri": "https://localhost:8080/"
        },
        "id": "g9x6RaBJtdpe",
        "outputId": "4e032078-3f9b-4b22-80ba-0667dc18a37b"
      },
      "execution_count": null,
      "outputs": [
        {
          "output_type": "stream",
          "name": "stdout",
          "text": [
            "<class 'pandas.core.frame.DataFrame'>\n",
            "RangeIndex: 16605 entries, 0 to 16604\n",
            "Data columns (total 28 columns):\n",
            " #   Column                  Non-Null Count  Dtype         \n",
            "---  ------                  --------------  -----         \n",
            " 0   agent_related           16605 non-null  object        \n",
            " 1   collect_scheduled_date  16602 non-null  datetime64[ns]\n",
            " 2   collect_token           16605 non-null  object        \n",
            " 3   datetime_from           16605 non-null  object        \n",
            " 4   pickup_location         16605 non-null  object        \n",
            " 5   quantity                16605 non-null  int64         \n",
            " 6   related_scheduler       16605 non-null  object        \n",
            " 7   title                   16605 non-null  category      \n",
            " 8   unique_client           16605 non-null  object        \n",
            " 9   Creation Date_x         16605 non-null  datetime64[ns]\n",
            " 10  Modified Date_x         16605 non-null  datetime64[ns]\n",
            " 11  unique id               16605 non-null  object        \n",
            " 12  address                 16605 non-null  object        \n",
            " 13  age                     16605 non-null  float64       \n",
            " 14  dependents_qty          16605 non-null  int64         \n",
            " 15  external_id             16605 non-null  object        \n",
            " 16  family                  16605 non-null  object        \n",
            " 17  household               16605 non-null  category      \n",
            " 18  preferred_languages     16605 non-null  category      \n",
            " 19  primary_contact         16605 non-null  object        \n",
            " 20  Sex                     16605 non-null  category      \n",
            " 21  status                  16605 non-null  category      \n",
            " 22  Creation Date_y         16486 non-null  datetime64[ns]\n",
            " 23  Modified Date_y         16605 non-null  object        \n",
            " 24  age_group               16605 non-null  category      \n",
            " 25  family_name             16605 non-null  object        \n",
            " 26  pickup_month            16605 non-null  float64       \n",
            " 27  pickup_day              16605 non-null  float64       \n",
            "dtypes: category(6), datetime64[ns](4), float64(3), int64(2), object(13)\n",
            "memory usage: 2.9+ MB\n"
          ]
        }
      ]
    },
    {
      "cell_type": "code",
      "source": [
        "# Check missing values\n",
        "print(\"Missing values count:\")\n",
        "print(processed_data.isnull().sum())\n"
      ],
      "metadata": {
        "colab": {
          "base_uri": "https://localhost:8080/"
        },
        "id": "EuSCZGQl_YTg",
        "outputId": "94689fd0-a47f-48d8-8807-7d2545afc4de"
      },
      "execution_count": null,
      "outputs": [
        {
          "output_type": "stream",
          "name": "stdout",
          "text": [
            "Missing values count:\n",
            "agent_related               0\n",
            "collect_scheduled_date      3\n",
            "collect_token               0\n",
            "datetime_from               0\n",
            "pickup_location             0\n",
            "quantity                    0\n",
            "related_scheduler           0\n",
            "title                       0\n",
            "unique_client               0\n",
            "Creation Date_x             0\n",
            "Modified Date_x             0\n",
            "unique id                   0\n",
            "address                     0\n",
            "age                         0\n",
            "dependents_qty              0\n",
            "external_id                 0\n",
            "family                      0\n",
            "household                   0\n",
            "preferred_languages         0\n",
            "primary_contact             0\n",
            "Sex                         0\n",
            "status                      0\n",
            "Creation Date_y           119\n",
            "Modified Date_y             0\n",
            "age_group                   0\n",
            "family_name                 0\n",
            "pickup_month                0\n",
            "pickup_day                  0\n",
            "dtype: int64\n"
          ]
        }
      ]
    },
    {
      "cell_type": "code",
      "source": [
        "# Step 1: Check Min & Max Date\n",
        "print(\"Min and Max collect_scheduled_date:\")\n",
        "print(processed_data['collect_scheduled_date'].min(), \"to\", processed_data['collect_scheduled_date'].max())\n",
        "\n",
        "# Step 2: Convert to datetime if not already\n",
        "processed_data['collect_scheduled_date'] = pd.to_datetime(processed_data['collect_scheduled_date'], errors='coerce')\n",
        "\n",
        "# Step 3: Fill Missing Values\n",
        "# Option 1: Fill using previous visit date for the same client\n",
        "processed_data['collect_scheduled_date'] = processed_data.groupby('unique_client')['collect_scheduled_date'].transform(lambda x: x.fillna(method='ffill'))\n",
        "\n",
        "# Option 2: Fill remaining missing values with the most common scheduled date\n",
        "most_common_date = processed_data['collect_scheduled_date'].mode()[0]  # Find the most common date\n",
        "processed_data['collect_scheduled_date'].fillna(most_common_date, inplace=True)\n",
        "\n",
        "# Option 3: If still missing, use the median timestamp\n",
        "median_date = processed_data['collect_scheduled_date'].dropna().median()\n",
        "processed_data['collect_scheduled_date'].fillna(median_date, inplace=True)\n",
        "\n",
        "# Step 4: Re-check for missing values\n",
        "missing_values = processed_data['collect_scheduled_date'].isnull().sum()\n",
        "print(\"Missing values in collect_scheduled_date:\", missing_values)\n",
        "\n",
        "# Step 5: Verify Min & Max Date Again\n",
        "print(\"Updated Min and Max collect_scheduled_date:\")\n",
        "print(processed_data['collect_scheduled_date'].min(), \"to\", processed_data['collect_scheduled_date'].max())"
      ],
      "metadata": {
        "colab": {
          "base_uri": "https://localhost:8080/"
        },
        "id": "XWNMjfxdc08x",
        "outputId": "915d1d59-e6d4-462e-c324-5d3106568014"
      },
      "execution_count": null,
      "outputs": [
        {
          "output_type": "stream",
          "name": "stdout",
          "text": [
            "Min and Max collect_scheduled_date:\n",
            "2023-07-27 00:00:00 to 2025-09-06 03:00:00\n"
          ]
        },
        {
          "output_type": "stream",
          "name": "stderr",
          "text": [
            "<ipython-input-66-f12447658e77>:10: FutureWarning: Series.fillna with 'method' is deprecated and will raise in a future version. Use obj.ffill() or obj.bfill() instead.\n",
            "  processed_data['collect_scheduled_date'] = processed_data.groupby('unique_client')['collect_scheduled_date'].transform(lambda x: x.fillna(method='ffill'))\n"
          ]
        },
        {
          "output_type": "stream",
          "name": "stdout",
          "text": [
            "Missing values in collect_scheduled_date: 0\n",
            "Updated Min and Max collect_scheduled_date:\n",
            "2023-07-27 00:00:00 to 2025-09-06 03:00:00\n"
          ]
        },
        {
          "output_type": "stream",
          "name": "stderr",
          "text": [
            "<ipython-input-66-f12447658e77>:14: FutureWarning: A value is trying to be set on a copy of a DataFrame or Series through chained assignment using an inplace method.\n",
            "The behavior will change in pandas 3.0. This inplace method will never work because the intermediate object on which we are setting values always behaves as a copy.\n",
            "\n",
            "For example, when doing 'df[col].method(value, inplace=True)', try using 'df.method({col: value}, inplace=True)' or df[col] = df[col].method(value) instead, to perform the operation inplace on the original object.\n",
            "\n",
            "\n",
            "  processed_data['collect_scheduled_date'].fillna(most_common_date, inplace=True)\n",
            "<ipython-input-66-f12447658e77>:18: FutureWarning: A value is trying to be set on a copy of a DataFrame or Series through chained assignment using an inplace method.\n",
            "The behavior will change in pandas 3.0. This inplace method will never work because the intermediate object on which we are setting values always behaves as a copy.\n",
            "\n",
            "For example, when doing 'df[col].method(value, inplace=True)', try using 'df.method({col: value}, inplace=True)' or df[col] = df[col].method(value) instead, to perform the operation inplace on the original object.\n",
            "\n",
            "\n",
            "  processed_data['collect_scheduled_date'].fillna(median_date, inplace=True)\n"
          ]
        }
      ]
    },
    {
      "cell_type": "code",
      "source": [
        "# Ensure 'collect_scheduled_date' is in datetime format\n",
        "processed_data['collect_scheduled_date'] = pd.to_datetime(processed_data['collect_scheduled_date'], errors='coerce')\n",
        "\n",
        "# Calculate days since last visit\n",
        "today = pd.to_datetime(\"today\")\n",
        "processed_data['days_since_last_visit'] = (today - processed_data['collect_scheduled_date']).dt.days\n"
      ],
      "metadata": {
        "id": "BOG_B3iARNho"
      },
      "execution_count": null,
      "outputs": []
    },
    {
      "cell_type": "code",
      "source": [
        "processed_data['visit_count'] = processed_data.groupby('unique_client')['unique_client'].transform('count')\n",
        "print(processed_data['visit_count'].value_counts())"
      ],
      "metadata": {
        "colab": {
          "base_uri": "https://localhost:8080/"
        },
        "id": "DIjxapjzRQSU",
        "outputId": "ba8a0737-d2d1-4a34-8734-0a6b5fdab03b"
      },
      "execution_count": null,
      "outputs": [
        {
          "output_type": "stream",
          "name": "stdout",
          "text": [
            "visit_count\n",
            "15     2145\n",
            "14     2128\n",
            "13     2002\n",
            "16     1792\n",
            "17     1054\n",
            "22      880\n",
            "24      864\n",
            "20      800\n",
            "21      777\n",
            "26      754\n",
            "23      713\n",
            "19      608\n",
            "12      492\n",
            "25      475\n",
            "18      270\n",
            "6       150\n",
            "119     119\n",
            "8        88\n",
            "28       84\n",
            "27       81\n",
            "7        70\n",
            "9        63\n",
            "10       50\n",
            "11       33\n",
            "30       30\n",
            "1        25\n",
            "5        25\n",
            "4        20\n",
            "3         9\n",
            "2         4\n",
            "Name: count, dtype: int64\n"
          ]
        }
      ]
    },
    {
      "cell_type": "code",
      "source": [
        "# Create a new target variable: Has the client returned after their first visit?\n",
        "processed_data['client_returned'] = processed_data['visit_count'] > 1\n",
        "\n",
        "# Convert to binary (1 = returned, 0 = never returned)\n",
        "processed_data['client_returned'] = processed_data['client_returned'].astype(int)\n",
        "\n",
        "# Verify distribution\n",
        "print(\"Unique values in client_returned:\")\n",
        "print(processed_data['client_returned'].value_counts())\n"
      ],
      "metadata": {
        "colab": {
          "base_uri": "https://localhost:8080/"
        },
        "id": "SzLICzuBRx0h",
        "outputId": "de34d429-be63-43cc-e58f-0f9dac881094"
      },
      "execution_count": null,
      "outputs": [
        {
          "output_type": "stream",
          "name": "stdout",
          "text": [
            "Unique values in client_returned:\n",
            "client_returned\n",
            "1    16580\n",
            "0       25\n",
            "Name: count, dtype: int64\n"
          ]
        }
      ]
    },
    {
      "cell_type": "code",
      "source": [
        "# Define returning clients as those who visited within the last 1 year\n",
        "processed_data['client_returned'] = (processed_data['days_since_last_visit'] < 365).astype(int)\n"
      ],
      "metadata": {
        "id": "KbyNvnEWSeqO"
      },
      "execution_count": null,
      "outputs": []
    },
    {
      "cell_type": "code",
      "source": [
        "# print\n",
        "print(processed_data['client_returned'].value_counts())"
      ],
      "metadata": {
        "colab": {
          "base_uri": "https://localhost:8080/"
        },
        "id": "i3N_SDiTSrrG",
        "outputId": "d040a5a7-27d7-46f2-9376-156bf048f062"
      },
      "execution_count": null,
      "outputs": [
        {
          "output_type": "stream",
          "name": "stdout",
          "text": [
            "client_returned\n",
            "1    13873\n",
            "0     2732\n",
            "Name: count, dtype: int64\n"
          ]
        }
      ]
    },
    {
      "cell_type": "code",
      "source": [
        "# Define today's date\n",
        "today = pd.to_datetime(\"today\")\n",
        "\n",
        "# Define the cutoff date (one year ago)\n",
        "one_year_ago = today - pd.Timedelta(days=365)\n",
        "\n",
        "# Filter only visits in the last year\n",
        "recent_visits = processed_data[processed_data['collect_scheduled_date'] >= one_year_ago]\n",
        "\n",
        "# Count the number of visits per client in the last year\n",
        "recent_visits_count = recent_visits.groupby('unique_client')['collect_scheduled_date'].count().reset_index()\n",
        "recent_visits_count.columns = ['unique_client', 'visits_last_year']\n",
        "\n",
        "# Merge back with the original dataset\n",
        "processed_data = processed_data.merge(recent_visits_count, on='unique_client', how='left')\n",
        "\n",
        "# Fill NaN with 0 (if a client has no visits in the last year, they get a 0)\n",
        "processed_data['visits_last_year'].fillna(0, inplace=True)\n",
        "\n",
        "# Convert to integer\n",
        "processed_data['visits_last_year'] = processed_data['visits_last_year'].astype(int)\n",
        "\n",
        "# Verify the results\n",
        "print(\"🔹 Unique values in 'visits_last_year':\")\n",
        "print(processed_data['visits_last_year'].value_counts().sort_index())\n"
      ],
      "metadata": {
        "colab": {
          "base_uri": "https://localhost:8080/"
        },
        "id": "BaOPvovCThlm",
        "outputId": "32a92a29-dd63-4bf8-ce26-2a49d9a22901"
      },
      "execution_count": null,
      "outputs": [
        {
          "output_type": "stream",
          "name": "stdout",
          "text": [
            "🔹 Unique values in 'visits_last_year':\n",
            "visits_last_year\n",
            "0       19\n",
            "1       12\n",
            "2       14\n",
            "3       18\n",
            "4       30\n",
            "5       40\n",
            "6      186\n",
            "7       72\n",
            "8      102\n",
            "9      572\n",
            "10    1299\n",
            "11    1821\n",
            "12    2662\n",
            "13    2340\n",
            "14    1166\n",
            "15     326\n",
            "16     445\n",
            "17    1013\n",
            "18     505\n",
            "19     709\n",
            "20     777\n",
            "21    1011\n",
            "22     434\n",
            "23      51\n",
            "24      48\n",
            "25     101\n",
            "26     573\n",
            "27      84\n",
            "28      56\n",
            "79     119\n",
            "Name: count, dtype: int64\n"
          ]
        },
        {
          "output_type": "stream",
          "name": "stderr",
          "text": [
            "<ipython-input-72-6a7bac92e827>:18: FutureWarning: A value is trying to be set on a copy of a DataFrame or Series through chained assignment using an inplace method.\n",
            "The behavior will change in pandas 3.0. This inplace method will never work because the intermediate object on which we are setting values always behaves as a copy.\n",
            "\n",
            "For example, when doing 'df[col].method(value, inplace=True)', try using 'df.method({col: value}, inplace=True)' or df[col] = df[col].method(value) instead, to perform the operation inplace on the original object.\n",
            "\n",
            "\n",
            "  processed_data['visits_last_year'].fillna(0, inplace=True)\n"
          ]
        }
      ]
    },
    {
      "cell_type": "code",
      "source": [
        "import matplotlib.pyplot as plt\n",
        "import seaborn as sns\n",
        "\n",
        "plt.figure(figsize=(10,5))\n",
        "sns.histplot(processed_data['visits_last_year'], bins=15, kde=True, color=\"blue\")\n",
        "plt.title(\"Distribution of Client Visits in the Last Year\")\n",
        "plt.xlabel(\"Number of Visits in Last Year\")\n",
        "plt.ylabel(\"Number of Clients\")\n",
        "plt.show()\n"
      ],
      "metadata": {
        "colab": {
          "base_uri": "https://localhost:8080/",
          "height": 487
        },
        "id": "ROFjMXA7Tqn7",
        "outputId": "3c3e73b8-3269-4a0f-ad14-b05a92c8e570"
      },
      "execution_count": null,
      "outputs": [
        {
          "output_type": "display_data",
          "data": {
            "text/plain": [
              "<Figure size 1000x500 with 1 Axes>"
            ],
            "image/png": "[encoded data removed]"
          },
          "metadata": {}
        }
      ]
    },
    {
      "cell_type": "code",
      "source": [
        "# Define categories based on visit frequency\n",
        "def categorize_client(visits):\n",
        "    if visits == 0:\n",
        "        return \"Inactive\"\n",
        "    elif visits == 1:\n",
        "        return \"Rare\"\n",
        "    elif visits <= 5:\n",
        "        return \"Occasional\"\n",
        "    else:\n",
        "        return \"Frequent\"\n",
        "\n",
        "# Apply the function to create a new column\n",
        "processed_data['client_engagement'] = processed_data['visits_last_year'].apply(categorize_client)\n",
        "\n",
        "# Check the distribution\n",
        "print(\"🔹 Client Engagement Levels:\")\n",
        "print(processed_data['client_engagement'].value_counts())\n",
        "\n",
        "# Visualizing the engagement categories\n",
        "plt.figure(figsize=(8,4))\n",
        "sns.countplot(x=processed_data['client_engagement'], order=[\"Inactive\", \"Rare\", \"Occasional\", \"Frequent\"], palette=\"coolwarm\")\n",
        "plt.title(\"Client Engagement Categories Based on Last Year's Visits\")\n",
        "plt.xlabel(\"Client Engagement Level\")\n",
        "plt.ylabel(\"Number of Clients\")\n",
        "plt.show()\n"
      ],
      "metadata": {
        "colab": {
          "base_uri": "https://localhost:8080/",
          "height": 631
        },
        "id": "oIussuJpTyu0",
        "outputId": "fa439b0b-dce6-4d03-d025-d4cb15bff8a3"
      },
      "execution_count": null,
      "outputs": [
        {
          "output_type": "stream",
          "name": "stdout",
          "text": [
            "🔹 Client Engagement Levels:\n",
            "client_engagement\n",
            "Frequent      16472\n",
            "Occasional      102\n",
            "Inactive         19\n",
            "Rare             12\n",
            "Name: count, dtype: int64\n"
          ]
        },
        {
          "output_type": "stream",
          "name": "stderr",
          "text": [
            "<ipython-input-74-48683c655693>:21: FutureWarning: \n",
            "\n",
            "Passing `palette` without assigning `hue` is deprecated and will be removed in v0.14.0. Assign the `x` variable to `hue` and set `legend=False` for the same effect.\n",
            "\n",
            "  sns.countplot(x=processed_data['client_engagement'], order=[\"Inactive\", \"Rare\", \"Occasional\", \"Frequent\"], palette=\"coolwarm\")\n"
          ]
        },
        {
          "output_type": "display_data",
          "data": {
            "text/plain": [
              "<Figure size 800x400 with 1 Axes>"
            ],
            "image/png": "[encoded data removed]"
          },
          "metadata": {}
        }
      ]
    },
    {
      "cell_type": "code",
      "source": [
        "plt.figure(figsize=(8,5))\n",
        "sns.boxplot(x=processed_data['age_group'], y=processed_data['visits_last_year'])\n",
        "plt.title(\"Impact of Age Group on Visit Frequency\")\n",
        "plt.xlabel(\"Age Group\")\n",
        "plt.ylabel(\"Number of Visits in Last Year\")\n",
        "plt.show()\n"
      ],
      "metadata": {
        "colab": {
          "base_uri": "https://localhost:8080/",
          "height": 487
        },
        "id": "3KExVtW1UH7j",
        "outputId": "cf0f15bd-bce8-443e-90e5-eae66ac50a69"
      },
      "execution_count": null,
      "outputs": [
        {
          "output_type": "display_data",
          "data": {
            "text/plain": [
              "<Figure size 800x500 with 1 Axes>"
            ],
            "image/png": "[encoded data removed]"
          },
          "metadata": {}
        }
      ]
    },
    {
      "cell_type": "code",
      "source": [
        "from pyspark.sql import SparkSession\n",
        "\n",
        "# Initialize Spark session\n",
        "spark = SparkSession.builder.appName(\"Client_Geocode\").getOrCreate()\n",
        "\n",
        "# Load the processed dataset\n",
        "df = spark.read.csv(\"processed_data.csv\", header=True, inferSchema=True)\n",
        "\n",
        "# Show dataset sample\n",
        "df.show(5)\n"
      ],
      "metadata": {
        "colab": {
          "base_uri": "https://localhost:8080/"
        },
        "id": "FiBzWf2iy-Kf",
        "outputId": "ccfa7056-10a3-461c-97a4-6d4c0d9a85be"
      },
      "execution_count": null,
      "outputs": [
        {
          "output_type": "stream",
          "name": "stdout",
          "text": [
            "+--------------------+----------------------+-------------+-------------------+--------------------+--------+--------------------+--------------------+-------------+-------------------+-------------------+--------------------+-------+----+--------------+-----------+-------+---------+-------------------+---------------+---------+-------+---------------+---------------+---------+-----------+------------+----------+\n",
            "|       agent_related|collect_scheduled_date|collect_token|      datetime_from|     pickup_location|quantity|   related_scheduler|               title|unique_client|    Creation Date_x|    Modified Date_x|           unique id|address| age|dependents_qty|external_id| family|household|preferred_languages|primary_contact|      Sex| status|Creation Date_y|Modified Date_y|age_group|family_name|pickup_month|pickup_day|\n",
            "+--------------------+----------------------+-------------+-------------------+--------------------+--------+--------------------+--------------------+-------------+-------------------+-------------------+--------------------+-------+----+--------------+-----------+-------+---------+-------------------+---------------+---------+-------+---------------+---------------+---------+-----------+------------+----------+\n",
            "|1689771309517x402...|   2023-07-27 00:00:00|       9CHJ75|2023-07-27 00:00:00|1689345971878x737...|       1|1690484248195x781...|New food hamper s...|      Unknown|2023-07-27 15:57:00|2023-07-27 15:57:00|1690484251501x480...|Unknown|42.0|            -1|          0|Unknown|  Unknown|            Unknown|        Unknown|Undefined|Unknown|           NULL|              0|Undefined|Family 1038|         7.0|      27.0|\n",
            "|1689771309517x402...|   2023-08-26 00:00:00|       1VYMC5|2023-08-26 00:00:00|1689345971878x737...|       1|1690484248195x781...|New food hamper s...|      Unknown|2023-07-27 15:57:00|2023-07-27 15:57:00|1690484266053x272...|Unknown|42.0|            -1|          0|Unknown|  Unknown|            Unknown|        Unknown|Undefined|Unknown|           NULL|              0|Undefined|Family 1039|         8.0|      26.0|\n",
            "|1689771309517x402...|   2023-09-25 00:00:00|       QHWDXG|2023-09-25 00:00:00|1689345971878x737...|       1|1690484248195x781...|New food hamper s...|      Unknown|2023-07-27 15:57:00|2023-07-27 15:57:00|1690484268062x404...|Unknown|42.0|            -1|          0|Unknown|  Unknown|            Unknown|        Unknown|Undefined|Unknown|           NULL|              0|Undefined|Family 1040|         9.0|      25.0|\n",
            "|1689771309517x402...|   2023-10-25 00:00:00|       6SAN43|2023-10-25 00:00:00|1689345971878x737...|       1|1690484248195x781...|New food hamper s...|      Unknown|2023-07-27 15:57:00|2023-07-27 15:57:00|1690484269673x683...|Unknown|42.0|            -1|          0|Unknown|  Unknown|            Unknown|        Unknown|Undefined|Unknown|           NULL|              0|Undefined|Family 1041|        10.0|      25.0|\n",
            "|1689771309517x402...|   2023-11-24 00:00:00|       TMXAOB|2023-11-24 00:00:00|1689345971878x737...|       1|1690484248195x781...|New food hamper s...|      Unknown|2023-07-27 15:57:00|2023-07-27 15:57:00|1690484271378x480...|Unknown|42.0|            -1|          0|Unknown|  Unknown|            Unknown|        Unknown|Undefined|Unknown|           NULL|              0|Undefined|Family 1042|        11.0|      24.0|\n",
            "+--------------------+----------------------+-------------+-------------------+--------------------+--------+--------------------+--------------------+-------------+-------------------+-------------------+--------------------+-------+----+--------------+-----------+-------+---------+-------------------+---------------+---------+-------+---------------+---------------+---------+-----------+------------+----------+\n",
            "only showing top 5 rows\n",
            "\n"
          ]
        }
      ]
    },
    {
      "cell_type": "markdown",
      "source": [
        "To see if the distance between their house and pickup location affects the retention we find distance with help of google maps and API key  "
      ],
      "metadata": {
        "id": "K8hxsSCaukU2"
      }
    },
    {
      "cell_type": "code",
      "source": [
        "import googlemaps\n",
        "import pandas as pd\n",
        "import time\n",
        "\n",
        "# 🔹 Step 1: Load the dataset\n",
        "df = pd.read_csv(\"processed_data_with_ordered_families.csv\")\n",
        "\n",
        "# 🔹 Step 2: Initialize Google Maps API\n",
        "gmaps = googlemaps.Client(key=\"API_key\")  # Replace with your valid API key\n",
        "\n",
        "# 🔹 Step 3: Define function for geocoding a single address\n",
        "def get_lat_lon(address):\n",
        "    \"\"\"Fetches latitude & longitude from Google Maps API\"\"\"\n",
        "    try:\n",
        "        if pd.isna(address) or address.strip().lower() in [\"nan\", \"unknown\", \"\"]:\n",
        "            return None, None  # Return None for missing addresses\n",
        "\n",
        "        geocode_result = gmaps.geocode(address)  # Google API call\n",
        "        if geocode_result:\n",
        "            location = geocode_result[0][\"geometry\"][\"location\"]\n",
        "            return location[\"lat\"], location[\"lng\"]\n",
        "    except Exception as e:\n",
        "        print(f\"⚠️ Error geocoding address '{address}': {e}\")\n",
        "        return None, None  # Return None if geocoding fails\n",
        "\n",
        "# 🔹 Step 4: Apply geocoding with alignment\n",
        "latitudes, longitudes = [], []\n",
        "\n",
        "for i, address in enumerate(df[\"address\"]):\n",
        "    lat, lon = get_lat_lon(str(address))  # Ensure address is a string\n",
        "    latitudes.append(lat)\n",
        "    longitudes.append(lon)\n",
        "\n",
        "    if i % 10 == 0:  # Add delay every 10 requests to prevent API rate limits\n",
        "        time.sleep(1)\n",
        "\n",
        "# 🔹 Step 5: Ensure correct alignment\n",
        "if len(latitudes) == len(df) and len(longitudes) == len(df):\n",
        "    df[\"latitude\"] = latitudes\n",
        "    df[\"longitude\"] = longitudes\n",
        "else:\n",
        "    print(f\"❌ Mismatch: latitudes={len(latitudes)}, longitudes={len(longitudes)}, rows={len(df)}\")\n",
        "    df[\"latitude\"] = None  # Avoid incorrect alignment\n",
        "    df[\"longitude\"] = None\n",
        "\n",
        "# 🔹 Step 6: Save the updated dataset\n",
        "df.to_csv(\"processed_data_with_lat_lon.csv\", index=False)\n",
        "\n",
        "print(\"✅ Geocoding complete! Saved as 'processed_data_with_lat_lon.csv'\")\n"
      ],
      "metadata": {
        "colab": {
          "base_uri": "https://localhost:8080/"
        },
        "id": "itaX68Iz3voA",
        "outputId": "a02ff38b-74a6-4b53-fac8-9ea32faeeef2"
      },
      "execution_count": null,
      "outputs": [
        {
          "output_type": "stream",
          "name": "stderr",
          "text": [
            "<ipython-input-90-5b3d2aea7c79>:6: DtypeWarning: Columns (3) have mixed types. Specify dtype option on import or set low_memory=False.\n",
            "  df = pd.read_csv(\"processed_data_with_ordered_families.csv\")\n"
          ]
        },
        {
          "output_type": "stream",
          "name": "stdout",
          "text": [
            "✅ Geocoding complete! Saved as 'processed_data_with_lat_lon.csv'\n"
          ]
        }
      ]
    },
    {
      "cell_type": "code",
      "source": [
        "!pip install geopy==2.3.0"
      ],
      "metadata": {
        "colab": {
          "base_uri": "https://localhost:8080/"
        },
        "id": "rUhxuLJ2aIRM",
        "outputId": "4dc91a6e-aa5d-48f1-8ccf-9b14c6679a18"
      },
      "execution_count": null,
      "outputs": [
        {
          "output_type": "stream",
          "name": "stdout",
          "text": [
            "Requirement already satisfied: geopy==2.3.0 in /usr/local/lib/python3.11/dist-packages (2.3.0)\n",
            "Requirement already satisfied: geographiclib<3,>=1.52 in /usr/local/lib/python3.11/dist-packages (from geopy==2.3.0) (2.0)\n"
          ]
        }
      ]
    },
    {
      "cell_type": "code",
      "source": [
        "import pandas as pd\n",
        "from geopy.distance import geodesic"
      ],
      "metadata": {
        "id": "hmuosRJuaKKT"
      },
      "execution_count": null,
      "outputs": []
    },
    {
      "cell_type": "code",
      "source": [
        "df = pd.read_csv(\"processed_data_with_lat_lon.csv\")  # Replace with the actual filename"
      ],
      "metadata": {
        "colab": {
          "base_uri": "https://localhost:8080/"
        },
        "id": "h5tAZNI2aMqQ",
        "outputId": "df3f76ae-845a-4ab2-aff4-ffaca838b9d4"
      },
      "execution_count": null,
      "outputs": [
        {
          "output_type": "stream",
          "name": "stderr",
          "text": [
            "<ipython-input-104-bb047b9f2769>:1: DtypeWarning: Columns (3) have mixed types. Specify dtype option on import or set low_memory=False.\n",
            "  df = pd.read_csv(\"processed_data_with_lat_lon.csv\")  # Replace with the actual filename\n"
          ]
        }
      ]
    },
    {
      "cell_type": "code",
      "source": [
        "import googlemaps\n",
        "import pandas as pd\n",
        "import time\n",
        "target_address = \"10545 108 St NW, Edmonton, AB T5H 2Z8\"\n",
        "location = geolocator.geocode(target_address)\n",
        "\n",
        "# Initialize Google Maps API\n",
        "gmaps = googlemaps.Client(key=\"API_key\")  # Replace with your API key\n",
        "\n",
        "# Get latitude & longitude\n",
        "geocode_result = gmaps.geocode(target_address)\n",
        "\n",
        "# Extract coordinates\n",
        "if geocode_result:\n",
        "    target_coords = (geocode_result[0][\"geometry\"][\"location\"][\"lat\"],\n",
        "                     geocode_result[0][\"geometry\"][\"location\"][\"lng\"])\n",
        "    print(\"✅ Target Coordinates:\", target_coords)\n",
        "else:\n",
        "    print(f\"⚠️ Address not found: {target_address}\")\n"
      ],
      "metadata": {
        "colab": {
          "base_uri": "https://localhost:8080/"
        },
        "id": "EcMlNpcbaO3N",
        "outputId": "d2c3aa6a-b207-4e8a-fa05-8e7130518a56"
      },
      "execution_count": null,
      "outputs": [
        {
          "output_type": "stream",
          "name": "stdout",
          "text": [
            "✅ Target Coordinates: (53.5486628, -113.5061058)\n"
          ]
        }
      ]
    },
    {
      "cell_type": "code",
      "source": [
        "from geopy.distance import geodesic\n",
        "\n",
        "# Function to calculate distance\n",
        "def calculate_distance(row):\n",
        "    client_coords = (row['latitude'], row['longitude'])  # Client Address Coordinates\n",
        "    pickup_coords = (row['pickup_latitude'], row['pickup_longitude'])  # Pickup Location Coordinates\n",
        "\n",
        "    # Ensure valid coordinates before calculating\n",
        "    if None in client_coords or None in pickup_coords:\n",
        "        return None  # Return None if any coordinate is missing\n",
        "\n",
        "    return geodesic(client_coords, pickup_coords).kilometers  # Distance in km\n"
      ],
      "metadata": {
        "id": "Fao1Sqqvb8XR"
      },
      "execution_count": null,
      "outputs": []
    },
    {
      "cell_type": "code",
      "source": [
        "# Ensure pickup location coordinates exist\n",
        "pickup_lat = 53.5486628  # Example: Edmonton Pickup Latitude (Replace with actual)\n",
        "pickup_lon = -113.5061058  # Example: Edmonton Pickup Longitude (Replace with actual)\n",
        "\n",
        "# Add Pickup Coordinates to Dataset\n",
        "df['pickup_latitude'] = pickup_lat\n",
        "df['pickup_longitude'] = pickup_lon\n",
        "\n",
        "# Before applying distance calculation, filter out rows with NaN coordinates\n",
        "df = df.dropna(subset=['latitude', 'longitude'])\n",
        "\n",
        "# Apply Distance Calculation\n",
        "df['distance_km'] = df.apply(calculate_distance, axis=1)\n",
        "\n",
        "# Show Sample Data\n",
        "print(df[['address', 'latitude', 'longitude', 'distance_km']].head())"
      ],
      "metadata": {
        "colab": {
          "base_uri": "https://localhost:8080/"
        },
        "id": "gpaD5Ov2cN8b",
        "outputId": "44c56420-20b0-45f7-b3fd-9e0eac15937a"
      },
      "execution_count": null,
      "outputs": [
        {
          "output_type": "stream",
          "name": "stdout",
          "text": [
            "                                              address   latitude   longitude  \\\n",
            "13      10545 108 St NW, Edmonton, AB T5H 2Z8, Canada  53.548663 -113.506106   \n",
            "19       14604 77 St NW, Edmonton, AB T5C 1E8, Canada  53.608420 -113.460920   \n",
            "20       14604 77 St NW, Edmonton, AB T5C 1E8, Canada  53.608420 -113.460920   \n",
            "21       14604 77 St NW, Edmonton, AB T5C 1E8, Canada  53.608420 -113.460920   \n",
            "23  403 Callaghan Ct SW, Edmonton, AB T6W 0G6, Canada  53.411350 -113.524156   \n",
            "\n",
            "    distance_km  \n",
            "13     0.000000  \n",
            "19     7.293171  \n",
            "20     7.293171  \n",
            "21     7.293171  \n",
            "23    15.329190  \n"
          ]
        }
      ]
    },
    {
      "cell_type": "code",
      "source": [
        "df.to_csv(\"processed_data_with_distances.csv\", index=False)\n",
        "print(\"✅ Distance calculation complete! Saved as 'processed_data_with_distances.csv'.\")\n"
      ],
      "metadata": {
        "colab": {
          "base_uri": "https://localhost:8080/"
        },
        "id": "EFHdreubck4i",
        "outputId": "e45cbd15-b60d-4a26-ab51-f14e524d73d6"
      },
      "execution_count": null,
      "outputs": [
        {
          "output_type": "stream",
          "name": "stdout",
          "text": [
            "✅ Distance calculation complete! Saved as 'processed_data_with_distances.csv'.\n"
          ]
        }
      ]
    },
    {
      "cell_type": "code",
      "source": [
        "import matplotlib.pyplot as plt\n",
        "import seaborn as sns\n",
        "\n",
        "plt.figure(figsize=(10, 6))\n",
        "sns.histplot(df['distance_km'].dropna(), bins=30, kde=True, color='blue')\n",
        "plt.title(\"Distribution of Client-to-Pickup Distances\")\n",
        "plt.xlabel(\"Distance (km)\")\n",
        "plt.ylabel(\"Number of Clients\")\n",
        "plt.show()\n"
      ],
      "metadata": {
        "colab": {
          "base_uri": "https://localhost:8080/",
          "height": 564
        },
        "id": "lGF6OJ5zcyIk",
        "outputId": "38af1da9-8e5e-4ef9-fcb9-c405a403e261"
      },
      "execution_count": null,
      "outputs": [
        {
          "output_type": "display_data",
          "data": {
            "text/plain": [
              "<Figure size 1000x600 with 1 Axes>"
            ],
            "image/png": "[encoded data removed]"
          },
          "metadata": {}
        }
      ]
    },
    {
      "cell_type": "code",
      "source": [
        "# checking the correlation for numerical values\n",
        "numerical_data = processed_data.select_dtypes(include=['int64', 'float64'])\n",
        "\n",
        "# Drop unwanted columns\n",
        "columns_to_drop = ['pickup_lat', 'pickup_lon', 'home_lat', 'home_lon']\n",
        "numerical_data = numerical_data.drop(columns=columns_to_drop, errors='ignore')  # errors='ignore' to avoid errors if columns don't exist\n",
        "\n",
        "correlation_matrix = numerical_data.corr()\n",
        "plt.figure(figsize=(10, 8))\n",
        "sns.heatmap(correlation_matrix, annot=True, cmap='coolwarm', fmt=\".2f\")\n",
        "plt.title('Correlation Heatmap')\n",
        "plt.show()"
      ],
      "metadata": {
        "colab": {
          "base_uri": "https://localhost:8080/",
          "height": 828
        },
        "id": "_AyuhjkWuP2n",
        "outputId": "c0a1cf4a-b277-4089-eb54-f446662deb2c"
      },
      "execution_count": null,
      "outputs": [
        {
          "output_type": "display_data",
          "data": {
            "text/plain": [
              "<Figure size 1000x800 with 2 Axes>"
            ],
            "image/png": "[encoded data removed]"
          },
          "metadata": {}
        }
      ]
    }
  ]
}